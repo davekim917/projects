{
 "cells": [
  {
   "cell_type": "markdown",
   "metadata": {
    "collapsed": true
   },
   "source": [
    "Random Forest in sklearn\n",
    "\n",
    "http://scikit-learn.org/stable/modules/generated/sklearn.ensemble.RandomForestClassifier.html                \n",
    "http://scikit-learn.org/stable/modules/generated/sklearn.ensemble.RandomForestRegressor.html\n",
    "\n",
    "\n",
    "Gradient Boosting                 \n",
    "http://scikit-learn.org/stable/modules/generated/sklearn.ensemble.GradientBoostingClassifier.html                \n",
    "http://scikit-learn.org/stable/auto_examples/ensemble/plot_gradient_boosting_regression.html     \n",
    "\n",
    "\n",
    "XGBoost                            \n",
    "http://xgboost.readthedocs.io/en/latest/python/python_api.html#module-xgboost.sklearn"
   ]
  },
  {
   "cell_type": "code",
   "execution_count": 3,
   "metadata": {
    "collapsed": true
   },
   "outputs": [],
   "source": [
    "%matplotlib inline\n",
    "import numpy as np\n",
    "import pandas as pd\n",
    "import seaborn as sns\n",
    "import matplotlib.pyplot as plt\n",
    "import sklearn\n",
    "import warnings\n",
    "\n",
    "warnings.filterwarnings('ignore')\n",
    "from pandas import Series, DataFrame\n",
    "from pylab import rcParams\n",
    "from sklearn import preprocessing\n",
    "from sklearn.cross_validation import train_test_split\n",
    "from sklearn import metrics \n",
    "from sklearn.metrics import roc_curve, auc\n",
    "from sklearn.metrics import classification_report\n",
    "\n",
    "from collections import defaultdict"
   ]
  },
  {
   "cell_type": "markdown",
   "metadata": {},
   "source": [
    "### Loading Training Set as padas DataFrame"
   ]
  },
  {
   "cell_type": "code",
   "execution_count": 140,
   "metadata": {},
   "outputs": [
    {
     "name": "stdout",
     "output_type": "stream",
     "text": [
      "(5046, 101)\n",
      "===============\n",
      "housekey                          int64\n",
      "customer_account_id               int64\n",
      "account_courtesy_ind            float64\n",
      "accountstatus                    object\n",
      "cost_recurring_total_amt_7d     float64\n",
      "cost_recurring_video_amt_7d     float64\n",
      "custindicator                     int64\n",
      "e_avg_bcc_creditbal100_6mo      float64\n",
      "e_c_apmused_lux_car_dom_0t5     float64\n",
      "e_c_comb_homeowner_renter        object\n",
      "e_c_contributes_charity         float64\n",
      "e_c_intrsc_plays_socce_ai       float64\n",
      "e_c_intrst_audio_book_ai        float64\n",
      "e_c_music_lis_alternative_ai    float64\n",
      "e_c_music_lis_hip_hop_ai        float64\n",
      "e_c_music_lis_pop_ai            float64\n",
      "e_c_predict_amt_alcohol         float64\n",
      "e_c_rm_est_cur_mort_amnt        float64\n",
      "e_c_sec_indv_exact_age          float64\n",
      "eml_snt_prg_prgmg                 int64\n",
      "eml_snt_prg_prgmg_l14d          float64\n",
      "eml_snt_prg_prgmg_l30d          float64\n",
      "equip_dig_hd_xcal_cnt           float64\n",
      "equip_dvr_hd_xcal_cnt           float64\n",
      "equip_modem_minage              float64\n",
      "equip_xb3_wireless_gtwy_cnt     float64\n",
      "i_res_blg_calls_365d              int64\n",
      "mrc_recurring_total_amt_1m      float64\n",
      "mrc_recurring_video_amt_1m      float64\n",
      "num_free_ests                     int64\n",
      "                                 ...   \n",
      "vi_comedycentral_max_dvr        float64\n",
      "vi_comedycentral_max_totl       float64\n",
      "vi_comedycentral_max_vod        float64\n",
      "vi_fx_max_dvr                   float64\n",
      "vi_fx_max_totl                  float64\n",
      "vi_fx_max_vod                   float64\n",
      "vi_generic_max_totl             float64\n",
      "vi_generic_max_vod              float64\n",
      "vi_hbo_max_dvr                  float64\n",
      "vi_hbo_max_lin_sum              float64\n",
      "vi_hbo_max_vod                  float64\n",
      "vi_lionsgate_max_totl           float64\n",
      "vi_lionsgate_max_vod            float64\n",
      "vi_minsperacctvodmin            float64\n",
      "vi_nbc_max_vod                  float64\n",
      "vi_oth_max_vod                  float64\n",
      "vi_paramt_max_totl              float64\n",
      "vi_paramt_max_vod               float64\n",
      "vi_showtime_max_totl            float64\n",
      "vi_showtime_max_vod             float64\n",
      "vi_starz_max_totl               float64\n",
      "vi_starz_max_vod                float64\n",
      "vi_tot_vod_chan_cnt             float64\n",
      "vi_tot_vod_programs_cnt         float64\n",
      "vi_universal_max_totl           float64\n",
      "vi_universal_max_vod            float64\n",
      "vi_usa_max_vod                  float64\n",
      "vid_cost_amt                    float64\n",
      "vid_programming_cost_amt        float64\n",
      "target                            int64\n",
      "Length: 101, dtype: object\n"
     ]
    }
   ],
   "source": [
    "filename = '/home/azlotn200/fx_dsa_data_train.csv'\n",
    "df1      = pd.read_csv(filename,sep=\"|\")\n",
    "\n",
    "\n",
    "df = df1.copy()\n",
    "TargetVar = 'target'\n",
    "\n",
    "#Balancing data\n",
    "Pdf_TargetOneD = df.loc[df[TargetVar] == 1].copy()\n",
    "Pdf_TargetZeroD = df.loc[df[TargetVar] == 0].copy()\n",
    "Target_ZeroD = Pdf_TargetZeroD.take(np.random.permutation(len(Pdf_TargetZeroD))[:len(df.loc[df[TargetVar] == 1])]).copy()\n",
    "\n",
    "#Creating a final data frame\n",
    "df = Pdf_TargetOneD.append(Target_ZeroD, ignore_index=True).copy()\n",
    "\n",
    "print(df.shape)\n",
    "print(\"===============\")\n",
    "print(df.dtypes)"
   ]
  },
  {
   "cell_type": "markdown",
   "metadata": {},
   "source": [
    "The dataframe has 122636 observations(rows) and 100 attributes(columns). The dtypes function gives us the data type of each of the variables present in the dataset"
   ]
  },
  {
   "cell_type": "markdown",
   "metadata": {},
   "source": [
    "### Check if your target variable is binary"
   ]
  },
  {
   "cell_type": "markdown",
   "metadata": {},
   "source": [
    "Since we are building a model to predict the customers who will be disconnected in next 90 days, our target is going to be \"target_discon90_nonpay\" variable from the dataframe. Since we are implementing logistic regression, we need to ensure that the target variable is binary. To make sure that it's a binary variable, let's use the plot function from matplotlib"
   ]
  },
  {
   "cell_type": "code",
   "execution_count": 102,
   "metadata": {},
   "outputs": [
    {
     "name": "stdout",
     "output_type": "stream",
     "text": [
      "1    2523\n",
      "0    2523\n",
      "Name: target, dtype: int64\n",
      " ========================\n"
     ]
    },
    {
     "data": {
      "image/png": "[encoded data removed]",
      "text/plain": [
       "<matplotlib.figure.Figure at 0x7f757b0de5c0>"
      ]
     },
     "metadata": {},
     "output_type": "display_data"
    }
   ],
   "source": [
    "df[TargetVar].value_counts().plot(kind='barh')\n",
    "print(df[TargetVar].value_counts())\n",
    "print(\" ========================\")\n",
    "plt.title(TargetVar)\n",
    "plt.ylabel('Count')\n",
    "plt.show()"
   ]
  },
  {
   "cell_type": "markdown",
   "metadata": {},
   "source": [
    "### Checking for missing values"
   ]
  },
  {
   "cell_type": "markdown",
   "metadata": {},
   "source": [
    "It's easy to check for missing values by calling the isnull() method, and the sum() method off of that, to return a tally of all the True values that are returned by the isnull() method."
   ]
  },
  {
   "cell_type": "code",
   "execution_count": 103,
   "metadata": {},
   "outputs": [
    {
     "data": {
      "text/plain": [
       "housekey                           0\n",
       "customer_account_id                0\n",
       "account_courtesy_ind             121\n",
       "accountstatus                      0\n",
       "cost_recurring_total_amt_7d      137\n",
       "cost_recurring_video_amt_7d      137\n",
       "custindicator                      0\n",
       "e_avg_bcc_creditbal100_6mo         1\n",
       "e_c_apmused_lux_car_dom_0t5        1\n",
       "e_c_comb_homeowner_renter          1\n",
       "e_c_contributes_charity            1\n",
       "e_c_intrsc_plays_socce_ai          1\n",
       "e_c_intrst_audio_book_ai           1\n",
       "e_c_music_lis_alternative_ai       1\n",
       "e_c_music_lis_hip_hop_ai           1\n",
       "e_c_music_lis_pop_ai               1\n",
       "e_c_predict_amt_alcohol            1\n",
       "e_c_rm_est_cur_mort_amnt           1\n",
       "e_c_sec_indv_exact_age          3130\n",
       "eml_snt_prg_prgmg                  0\n",
       "eml_snt_prg_prgmg_l14d          1572\n",
       "eml_snt_prg_prgmg_l30d          1572\n",
       "equip_dig_hd_xcal_cnt              0\n",
       "equip_dvr_hd_xcal_cnt              0\n",
       "equip_modem_minage              1660\n",
       "equip_xb3_wireless_gtwy_cnt        0\n",
       "i_res_blg_calls_365d               0\n",
       "mrc_recurring_total_amt_1m       200\n",
       "mrc_recurring_video_amt_1m       200\n",
       "num_free_ests                      0\n",
       "                                ... \n",
       "vi_comedycentral_max_dvr        3684\n",
       "vi_comedycentral_max_totl       3684\n",
       "vi_comedycentral_max_vod        3684\n",
       "vi_fx_max_dvr                   2885\n",
       "vi_fx_max_totl                  2885\n",
       "vi_fx_max_vod                   2885\n",
       "vi_generic_max_totl             1671\n",
       "vi_generic_max_vod              1671\n",
       "vi_hbo_max_dvr                  2619\n",
       "vi_hbo_max_lin_sum              2619\n",
       "vi_hbo_max_vod                  2619\n",
       "vi_lionsgate_max_totl           4766\n",
       "vi_lionsgate_max_vod            4766\n",
       "vi_minsperacctvodmin             642\n",
       "vi_nbc_max_vod                  1546\n",
       "vi_oth_max_vod                  2003\n",
       "vi_paramt_max_totl              4816\n",
       "vi_paramt_max_vod               4816\n",
       "vi_showtime_max_totl            3455\n",
       "vi_showtime_max_vod             3455\n",
       "vi_starz_max_totl               2585\n",
       "vi_starz_max_vod                2585\n",
       "vi_tot_vod_chan_cnt              648\n",
       "vi_tot_vod_programs_cnt          646\n",
       "vi_universal_max_totl           4657\n",
       "vi_universal_max_vod            4657\n",
       "vi_usa_max_vod                  3001\n",
       "vid_cost_amt                     121\n",
       "vid_programming_cost_amt         121\n",
       "target                             0\n",
       "Length: 101, dtype: int64"
      ]
     },
     "execution_count": 103,
     "metadata": {},
     "output_type": "execute_result"
    }
   ],
   "source": [
    "df.isnull().sum()"
   ]
  },
  {
   "cell_type": "markdown",
   "metadata": {},
   "source": [
    "### Preprocessing Treatment"
   ]
  },
  {
   "cell_type": "markdown",
   "metadata": {},
   "source": [
    "Removing Redundant Columns"
   ]
  },
  {
   "cell_type": "code",
   "execution_count": 104,
   "metadata": {
    "collapsed": true
   },
   "outputs": [],
   "source": [
    "df = df.drop(['customer_account_id','housekey','prevacctid'], 1)"
   ]
  },
  {
   "cell_type": "markdown",
   "metadata": {},
   "source": [
    "Dripping columns with more than 85% of missing values"
   ]
  },
  {
   "cell_type": "code",
   "execution_count": 105,
   "metadata": {
    "collapsed": true
   },
   "outputs": [],
   "source": [
    "df = df.dropna(thresh=len(df)*0.15, axis=1)"
   ]
  },
  {
   "cell_type": "markdown",
   "metadata": {},
   "source": [
    "Identify object type columns\n",
    "Check for cardinality of each object column\n",
    "Drop High and Low cardinality columns"
   ]
  },
  {
   "cell_type": "code",
   "execution_count": 106,
   "metadata": {},
   "outputs": [
    {
     "name": "stdout",
     "output_type": "stream",
     "text": [
      "Columns with Object types\n",
      "0                accountstatus\n",
      "1    e_c_comb_homeowner_renter\n",
      "2                serloc_dma_nm\n",
      "3             serloc_entity_nm\n",
      "dtype: object\n",
      "=============\n",
      "Cardinality\n",
      "accountstatus                 1\n",
      "e_c_comb_homeowner_renter     7\n",
      "serloc_dma_nm                89\n",
      "serloc_entity_nm             37\n",
      "dtype: int64\n",
      "=============\n",
      "Number of Missing\n",
      "accountstatus                 0\n",
      "e_c_comb_homeowner_renter     1\n",
      "serloc_dma_nm                35\n",
      "serloc_entity_nm              0\n",
      "dtype: int64\n"
     ]
    }
   ],
   "source": [
    "print('Columns with Object types')\n",
    "print(pd.Series(df.select_dtypes(include=[object]).columns))\n",
    "print('=============')\n",
    "print('Cardinality')\n",
    "print(df.select_dtypes(include=[object]).nunique()) \n",
    "print('=============')\n",
    "print('Number of Missing')\n",
    "print(df.select_dtypes(include=[object]).isnull().sum())"
   ]
  },
  {
   "cell_type": "code",
   "execution_count": 107,
   "metadata": {
    "collapsed": true
   },
   "outputs": [],
   "source": [
    "df = df.drop(['accountstatus','serloc_dma_nm','serloc_entity_nm'], 1)"
   ]
  },
  {
   "cell_type": "code",
   "execution_count": 108,
   "metadata": {
    "collapsed": true
   },
   "outputs": [],
   "source": [
    "df.e_c_comb_homeowner_renter = df.e_c_comb_homeowner_renter.astype(str) "
   ]
  },
  {
   "cell_type": "markdown",
   "metadata": {},
   "source": [
    "### One Hot Encoding"
   ]
  },
  {
   "cell_type": "code",
   "execution_count": 109,
   "metadata": {
    "collapsed": true
   },
   "outputs": [],
   "source": [
    "d = defaultdict(preprocessing.LabelEncoder)\n",
    "df.e_c_comb_homeowner_renter = df.fillna(-999999).apply(lambda x: d[x.name].fit_transform(x))"
   ]
  },
  {
   "cell_type": "markdown",
   "metadata": {},
   "source": [
    "\n",
    "### Splitting Target from the rest of the data frame"
   ]
  },
  {
   "cell_type": "code",
   "execution_count": 110,
   "metadata": {
    "collapsed": true
   },
   "outputs": [],
   "source": [
    "#features\n",
    "df_x = df.drop(TargetVar, 1)\n",
    "#target\n",
    "df_y = df.loc[:, [TargetVar]]\n",
    "y = df_y.values\n",
    "\n",
    "\n",
    "Columns = list(df_x)\n",
    "Num_Columns = list(df_x.drop(['e_c_comb_homeowner_renter'], 1))\n",
    "#Num_Columns = Columns"
   ]
  },
  {
   "cell_type": "markdown",
   "metadata": {
    "collapsed": true
   },
   "source": [
    "### Dealing with outliers and Replacing missing values with mean value of columns"
   ]
  },
  {
   "cell_type": "code",
   "execution_count": 111,
   "metadata": {
    "collapsed": true
   },
   "outputs": [],
   "source": [
    "down_quantiles = df_x[Num_Columns].quantile(0.05)\n",
    "up_quantiles = df_x[Num_Columns].quantile(0.95)\n",
    "df_x[Num_Columns] = df_x[Num_Columns].mask(df_x < down_quantiles, down_quantiles, axis=1)   \n",
    "df_x[Num_Columns] = df_x[Num_Columns].mask(df_x > up_quantiles, up_quantiles, axis=1)"
   ]
  },
  {
   "cell_type": "code",
   "execution_count": 112,
   "metadata": {
    "collapsed": true
   },
   "outputs": [],
   "source": [
    "#updated features with cleaned data\n",
    "df_x = df_x.apply(lambda x:x.fillna(x.mean()))\n",
    "x = df_x.values"
   ]
  },
  {
   "cell_type": "markdown",
   "metadata": {},
   "source": [
    "## Generating Training and Testing Sets"
   ]
  },
  {
   "cell_type": "code",
   "execution_count": 113,
   "metadata": {
    "collapsed": true
   },
   "outputs": [],
   "source": [
    "dfX_train, dfX_test, dfy_train, dfy_test = train_test_split(df_x, df_y, test_size = .3, random_state=25)\n",
    "X_train = dfX_train.values \n",
    "X_test = dfX_test.values\n",
    "y_train = dfy_train.values \n",
    "y_test = dfy_test.values"
   ]
  },
  {
   "cell_type": "markdown",
   "metadata": {},
   "source": [
    "The train_test_split function splits the dataset in train and test. We will develop the model on the training data set and test it on the test dataset. We do this because we do not want the model to overfit on the train dataset"
   ]
  },
  {
   "cell_type": "markdown",
   "metadata": {},
   "source": [
    "## Building and Evaluating the Random Forest Model"
   ]
  },
  {
   "cell_type": "code",
   "execution_count": 129,
   "metadata": {},
   "outputs": [
    {
     "name": "stdout",
     "output_type": "stream",
     "text": [
      "building tree 1 of 100\n",
      "building tree 2 of 100\n",
      "building tree 3 of 100\n",
      "building tree 4 of 100\n",
      "building tree 5 of 100\n",
      "building tree 6 of 100\n",
      "building tree 7 of 100\n",
      "building tree 8 of 100\n",
      "building tree 9 of 100\n",
      "building tree 10 of 100\n",
      "building tree 11 of 100\n",
      "building tree 12 of 100\n",
      "building tree 13 of 100\n",
      "building tree 14 of 100\n",
      "building tree 15 of 100\n",
      "building tree 16 of 100\n",
      "building tree 17 of 100\n",
      "building tree 18 of 100\n",
      "building tree 19 of 100\n",
      "building tree 20 of 100\n",
      "building tree 21 of 100\n",
      "building tree 22 of 100\n",
      "building tree 23 of 100\n",
      "building tree 24 of 100\n",
      "building tree 25 of 100\n",
      "building tree 26 of 100\n",
      "building tree 27 of 100\n",
      "building tree 28 of 100\n",
      "building tree 29 of 100\n",
      "building tree 30 of 100\n"
     ]
    },
    {
     "name": "stderr",
     "output_type": "stream",
     "text": [
      "[Parallel(n_jobs=1)]: Done   1 out of   1 | elapsed:    0.0s remaining:    0.0s\n"
     ]
    },
    {
     "name": "stdout",
     "output_type": "stream",
     "text": [
      "building tree 31 of 100\n",
      "building tree 32 of 100\n",
      "building tree 33 of 100\n",
      "building tree 34 of 100\n",
      "building tree 35 of 100\n",
      "building tree 36 of 100\n",
      "building tree 37 of 100\n",
      "building tree 38 of 100\n",
      "building tree 39 of 100\n",
      "building tree 40 of 100\n",
      "building tree 41 of 100\n",
      "building tree 42 of 100\n",
      "building tree 43 of 100\n",
      "building tree 44 of 100\n",
      "building tree 45 of 100\n",
      "building tree 46 of 100\n",
      "building tree 47 of 100\n",
      "building tree 48 of 100\n",
      "building tree 49 of 100\n",
      "building tree 50 of 100\n",
      "building tree 51 of 100\n",
      "building tree 52 of 100\n",
      "building tree 53 of 100\n",
      "building tree 54 of 100\n",
      "building tree 55 of 100\n",
      "building tree 56 of 100\n",
      "building tree 57 of 100\n",
      "building tree 58 of 100\n",
      "building tree 59 of 100\n",
      "building tree 60 of 100\n",
      "building tree 61 of 100\n",
      "building tree 62 of 100\n",
      "building tree 63 of 100\n",
      "building tree 64 of 100\n",
      "building tree 65 of 100\n",
      "building tree 66 of 100\n",
      "building tree 67 of 100\n",
      "building tree 68 of 100\n",
      "building tree 69 of 100\n",
      "building tree 70 of 100\n",
      "building tree 71 of 100\n",
      "building tree 72 of 100\n",
      "building tree 73 of 100\n",
      "building tree 74 of 100\n",
      "building tree 75 of 100\n",
      "building tree 76 of 100\n",
      "building tree 77 of 100\n",
      "building tree 78 of 100\n",
      "building tree 79 of 100\n",
      "building tree 80 of 100\n",
      "building tree 81 of 100\n",
      "building tree 82 of 100\n",
      "building tree 83 of 100\n",
      "building tree 84 of 100\n",
      "building tree 85 of 100\n",
      "building tree 86 of 100\n",
      "building tree 87 of 100\n",
      "building tree 88 of 100\n",
      "building tree 89 of 100\n",
      "building tree 90 of 100\n",
      "building tree 91 of 100\n",
      "building tree 92 of 100\n",
      "building tree 93 of 100\n",
      "building tree 94 of 100\n",
      "building tree 95 of 100\n",
      "building tree 96 of 100\n",
      "building tree 97 of 100\n",
      "building tree 98 of 100\n",
      "building tree 99 of 100\n",
      "building tree 100 of 100\n"
     ]
    },
    {
     "name": "stderr",
     "output_type": "stream",
     "text": [
      "[Parallel(n_jobs=1)]: Done 100 out of 100 | elapsed:    0.7s finished\n"
     ]
    },
    {
     "data": {
      "text/plain": [
       "RandomForestClassifier(bootstrap=True, class_weight=None, criterion='gini',\n",
       "            max_depth=3, max_features='auto', max_leaf_nodes=None,\n",
       "            min_impurity_decrease=0.0, min_impurity_split=None,\n",
       "            min_samples_leaf=1, min_samples_split=2,\n",
       "            min_weight_fraction_leaf=0.0, n_estimators=100, n_jobs=1,\n",
       "            oob_score=False, random_state=None, verbose=2,\n",
       "            warm_start=False)"
      ]
     },
     "execution_count": 129,
     "metadata": {},
     "output_type": "execute_result"
    }
   ],
   "source": [
    "from sklearn.ensemble import RandomForestClassifier\n",
    "from sklearn.metrics import accuracy_score\n",
    "from sklearn.metrics import roc_auc_score\n",
    "\n",
    "\n",
    "# Creating a random forest classifier. \n",
    "clf = RandomForestClassifier(n_estimators=100, max_depth = 3, verbose = 2)\n",
    "\n",
    "# Training the classifier\n",
    "clf.fit(X_train, y_train)"
   ]
  },
  {
   "cell_type": "code",
   "execution_count": 130,
   "metadata": {},
   "outputs": [
    {
     "name": "stderr",
     "output_type": "stream",
     "text": [
      "[Parallel(n_jobs=1)]: Done   1 out of   1 | elapsed:    0.0s remaining:    0.0s\n",
      "[Parallel(n_jobs=1)]: Done 100 out of 100 | elapsed:    0.1s finished\n",
      "[Parallel(n_jobs=1)]: Done   1 out of   1 | elapsed:    0.0s remaining:    0.0s\n",
      "[Parallel(n_jobs=1)]: Done 100 out of 100 | elapsed:    0.1s finished\n",
      "[Parallel(n_jobs=1)]: Done   1 out of   1 | elapsed:    0.0s remaining:    0.0s\n",
      "[Parallel(n_jobs=1)]: Done 100 out of 100 | elapsed:    0.1s finished\n",
      "[Parallel(n_jobs=1)]: Done   1 out of   1 | elapsed:    0.0s remaining:    0.0s\n",
      "[Parallel(n_jobs=1)]: Done 100 out of 100 | elapsed:    0.0s finished\n"
     ]
    }
   ],
   "source": [
    "y_pred_train = clf.predict(X_train)\n",
    "y_pred = clf.predict(X_test)\n",
    "probs_train = clf.predict_proba(X_train)\n",
    "probs = clf.predict_proba(X_test)\n",
    "\n",
    "scoreTrain = probs_train[:,1]\n",
    "scoreTest = probs[:,1]"
   ]
  },
  {
   "cell_type": "code",
   "execution_count": 131,
   "metadata": {},
   "outputs": [
    {
     "name": "stdout",
     "output_type": "stream",
     "text": [
      "                        Features     Score\n",
      "27                 num_free_vods  0.138535\n",
      "76          vi_minsperacctvodmin  0.113151\n",
      "26                 num_free_ests  0.092712\n",
      "55        ttl_vod_purchase_price  0.059726\n",
      "29                 num_paid_vods  0.055407\n",
      "84       vi_tot_vod_programs_cnt  0.047506\n",
      "37              svcs_premium_hbo  0.043436\n",
      "2    cost_recurring_video_amt_7d  0.042008\n",
      "83           vi_tot_vod_chan_cnt  0.040770\n",
      "86                  vid_cost_amt  0.036319\n",
      "75                vi_hbo_max_vod  0.027134\n",
      "87      vid_programming_cost_amt  0.022409\n",
      "34                   sho_mos_svc  0.022219\n",
      "1    cost_recurring_total_amt_7d  0.020777\n",
      "50                  ttl_cost_amt  0.020054\n",
      "72            vi_generic_max_vod  0.019389\n",
      "38         svcs_premium_showtime  0.019061\n",
      "45              svcs_x1_platform  0.017297\n",
      "46                        tenure  0.012686\n",
      "44         svcs_x1_days_on_books  0.011977\n",
      "24    mrc_recurring_total_amt_1m  0.009606\n",
      "35  svcs_dayssince_mostrecent_x1  0.009326\n",
      "43      svcs_video_days_on_books  0.008586\n",
      "32              sc_equipment_cnt  0.007819\n",
      "73                vi_hbo_max_dvr  0.007352\n",
      "28                 num_paid_ests  0.006875\n",
      "51        ttl_est_purchase_price  0.006755\n",
      "78                vi_oth_max_vod  0.005998\n",
      "12          e_c_music_lis_pop_ai  0.005848\n",
      "20         equip_dvr_hd_xcal_cnt  0.004572\n",
      "..                           ...       ...\n",
      "64            vi_cinemax_max_vod  0.000792\n",
      "60                 vi_ae_max_vod  0.000701\n",
      "53                   ttl_mrm_amt  0.000643\n",
      "79          vi_showtime_max_totl  0.000642\n",
      "81             vi_starz_max_totl  0.000506\n",
      "47   truckroll_ins_cost_amt_365d  0.000474\n",
      "15        e_c_sec_indv_exact_age  0.000463\n",
      "54                   ttl_mrm_pct  0.000445\n",
      "6      e_c_comb_homeowner_renter  0.000441\n",
      "13       e_c_predict_amt_alcohol  0.000428\n",
      "63           vi_cinemax_max_totl  0.000361\n",
      "14      e_c_rm_est_cur_mort_amnt  0.000323\n",
      "4     e_avg_bcc_creditbal100_6mo  0.000296\n",
      "48     truckroll_ins_points_365d  0.000258\n",
      "57      tts_past_vid_svc_prb_cnt  0.000242\n",
      "66     vi_comedycentral_max_totl  0.000236\n",
      "59                vi_ae_max_totl  0.000163\n",
      "65      vi_comedycentral_max_dvr  0.000147\n",
      "31   regl_sports_network_fee_amt  0.000000\n",
      "3                  custindicator  0.000000\n",
      "22   equip_xb3_wireless_gtwy_cnt  0.000000\n",
      "5    e_c_apmused_lux_car_dom_0t5  0.000000\n",
      "30            number_of_products  0.000000\n",
      "42   svcs_svod_disney_fam_movies  0.000000\n",
      "33           serloc_corp_sysprin  0.000000\n",
      "41                svcs_streampix  0.000000\n",
      "67      vi_comedycentral_max_vod  0.000000\n",
      "58                 vi_ae_max_dvr  0.000000\n",
      "61     vi_cartoonnetwork_max_dvr  0.000000\n",
      "0           account_courtesy_ind  0.000000\n",
      "\n",
      "[88 rows x 2 columns]\n"
     ]
    }
   ],
   "source": [
    " #Importance of Features\n",
    "Importance = list(zip(dfX_train, clf.feature_importances_))\n",
    "I = pd.DataFrame(Importance)\n",
    "I = I.rename(columns = {0: \"Features\", 1: \"Score\"})\n",
    "I = I.sort_values('Score', ascending=False)\n",
    "#Printing the Important variables\n",
    "print(I)"
   ]
  },
  {
   "cell_type": "markdown",
   "metadata": {},
   "source": [
    "Selecting Top N Features based on the selection factor"
   ]
  },
  {
   "cell_type": "code",
   "execution_count": 132,
   "metadata": {
    "collapsed": true
   },
   "outputs": [],
   "source": [
    "#TopFeatures = list(I[(I['Score']>0.01)].Features)\n",
    "#TopFeatures.append('target')"
   ]
  },
  {
   "cell_type": "markdown",
   "metadata": {},
   "source": [
    "## Check Precision and Recall from Confusion Matrix"
   ]
  },
  {
   "cell_type": "markdown",
   "metadata": {},
   "source": [
    "### Training Set"
   ]
  },
  {
   "cell_type": "code",
   "execution_count": 133,
   "metadata": {},
   "outputs": [
    {
     "data": {
      "text/html": [
       "<div>\n",
       "<style>\n",
       "    .dataframe thead tr:only-child th {\n",
       "        text-align: right;\n",
       "    }\n",
       "\n",
       "    .dataframe thead th {\n",
       "        text-align: left;\n",
       "    }\n",
       "\n",
       "    .dataframe tbody tr th {\n",
       "        vertical-align: top;\n",
       "    }\n",
       "</style>\n",
       "<table border=\"1\" class=\"dataframe\">\n",
       "  <thead>\n",
       "    <tr style=\"text-align: right;\">\n",
       "      <th></th>\n",
       "      <th>0</th>\n",
       "      <th>1</th>\n",
       "    </tr>\n",
       "  </thead>\n",
       "  <tbody>\n",
       "    <tr>\n",
       "      <th>0</th>\n",
       "      <td>1262</td>\n",
       "      <td>523</td>\n",
       "    </tr>\n",
       "    <tr>\n",
       "      <th>1</th>\n",
       "      <td>494</td>\n",
       "      <td>1253</td>\n",
       "    </tr>\n",
       "  </tbody>\n",
       "</table>\n",
       "</div>"
      ],
      "text/plain": [
       "      0     1\n",
       "0  1262   523\n",
       "1   494  1253"
      ]
     },
     "execution_count": 133,
     "metadata": {},
     "output_type": "execute_result"
    }
   ],
   "source": [
    "from sklearn.metrics import confusion_matrix, accuracy_score, precision_recall_fscore_support\n",
    "confusion_matrix = confusion_matrix(y_train, y_pred_train)\n",
    "pd.DataFrame(confusion_matrix)"
   ]
  },
  {
   "cell_type": "code",
   "execution_count": 134,
   "metadata": {},
   "outputs": [
    {
     "name": "stdout",
     "output_type": "stream",
     "text": [
      "Accuracy: 0.712061155153\n",
      "Recall: 0.717229536348\n",
      "Precision: 0.705518018018\n"
     ]
    }
   ],
   "source": [
    "from sklearn.metrics import accuracy_score, precision_score, recall_score\n",
    "acc = accuracy_score(y_train,y_pred_train)\n",
    "rec=recall_score(y_train,y_pred_train)\n",
    "pres=precision_score(y_train,y_pred_train)\n",
    "print ('Accuracy:', acc)\n",
    "print ('Recall:', rec)\n",
    "print ('Precision:', pres)"
   ]
  },
  {
   "cell_type": "markdown",
   "metadata": {},
   "source": [
    "### Testing Set"
   ]
  },
  {
   "cell_type": "code",
   "execution_count": 135,
   "metadata": {},
   "outputs": [
    {
     "data": {
      "text/html": [
       "<div>\n",
       "<style>\n",
       "    .dataframe thead tr:only-child th {\n",
       "        text-align: right;\n",
       "    }\n",
       "\n",
       "    .dataframe thead th {\n",
       "        text-align: left;\n",
       "    }\n",
       "\n",
       "    .dataframe tbody tr th {\n",
       "        vertical-align: top;\n",
       "    }\n",
       "</style>\n",
       "<table border=\"1\" class=\"dataframe\">\n",
       "  <thead>\n",
       "    <tr style=\"text-align: right;\">\n",
       "      <th></th>\n",
       "      <th>0</th>\n",
       "      <th>1</th>\n",
       "    </tr>\n",
       "  </thead>\n",
       "  <tbody>\n",
       "    <tr>\n",
       "      <th>0</th>\n",
       "      <td>502</td>\n",
       "      <td>236</td>\n",
       "    </tr>\n",
       "    <tr>\n",
       "      <th>1</th>\n",
       "      <td>202</td>\n",
       "      <td>574</td>\n",
       "    </tr>\n",
       "  </tbody>\n",
       "</table>\n",
       "</div>"
      ],
      "text/plain": [
       "     0    1\n",
       "0  502  236\n",
       "1  202  574"
      ]
     },
     "execution_count": 135,
     "metadata": {},
     "output_type": "execute_result"
    }
   ],
   "source": [
    "from sklearn.metrics import confusion_matrix, accuracy_score, precision_recall_fscore_support\n",
    "confusion_matrix = confusion_matrix(y_test, y_pred)\n",
    "pd.DataFrame(confusion_matrix)"
   ]
  },
  {
   "cell_type": "code",
   "execution_count": 136,
   "metadata": {},
   "outputs": [
    {
     "name": "stdout",
     "output_type": "stream",
     "text": [
      "Accuracy: 0.7107001321\n",
      "Recall: 0.739690721649\n",
      "Precision: 0.708641975309\n"
     ]
    }
   ],
   "source": [
    "from sklearn.metrics import accuracy_score, precision_score, recall_score\n",
    "acc = accuracy_score(y_test,y_pred)\n",
    "rec=recall_score(y_test,y_pred)\n",
    "pres=precision_score(y_test,y_pred)\n",
    "print ('Accuracy:', acc)\n",
    "print ('Recall:', rec)\n",
    "print ('Precision:', pres)"
   ]
  },
  {
   "cell_type": "markdown",
   "metadata": {},
   "source": [
    "## ROC curve"
   ]
  },
  {
   "cell_type": "code",
   "execution_count": 137,
   "metadata": {
    "collapsed": true
   },
   "outputs": [],
   "source": [
    "def Performance(Model,Y,X):\n",
    "    # Perforamnce of the model\n",
    "    fpr, tpr, _ = roc_curve(Y, Model.predict_proba(X)[:,1])\n",
    "    AUC  = auc(fpr, tpr)\n",
    "    print ('the AUC is : %0.4f' %  AUC)\n",
    "    plt.figure()\n",
    "    plt.plot(fpr, tpr, label='ROC curve (area = %0.4f)' % AUC)\n",
    "    plt.plot([0, 1], [0, 1], 'k--')\n",
    "    plt.xlim([0.0, 1.0])\n",
    "    plt.ylim([0.0, 1.05])\n",
    "    plt.xlabel('False Positive Rate')\n",
    "    plt.ylabel('True Positive Rate')\n",
    "    plt.title('ROC Curve')\n",
    "    plt.legend(loc=\"lower right\")\n",
    "    plt.show()"
   ]
  },
  {
   "cell_type": "markdown",
   "metadata": {},
   "source": [
    "### Training Set"
   ]
  },
  {
   "cell_type": "code",
   "execution_count": 138,
   "metadata": {
    "scrolled": false
   },
   "outputs": [
    {
     "name": "stderr",
     "output_type": "stream",
     "text": [
      "[Parallel(n_jobs=1)]: Done   1 out of   1 | elapsed:    0.0s remaining:    0.0s\n",
      "[Parallel(n_jobs=1)]: Done 100 out of 100 | elapsed:    0.1s finished\n"
     ]
    },
    {
     "name": "stdout",
     "output_type": "stream",
     "text": [
      "the AUC is : 0.7955\n"
     ]
    },
    {
     "data": {
      "image/png": "[encoded data removed]",
      "text/plain": [
       "<matplotlib.figure.Figure at 0x7f7584438470>"
      ]
     },
     "metadata": {},
     "output_type": "display_data"
    }
   ],
   "source": [
    "Performance(Model=clf,Y=y_train,X=X_train)"
   ]
  },
  {
   "cell_type": "markdown",
   "metadata": {},
   "source": [
    "### Testing Set"
   ]
  },
  {
   "cell_type": "code",
   "execution_count": 139,
   "metadata": {
    "scrolled": true
   },
   "outputs": [
    {
     "name": "stderr",
     "output_type": "stream",
     "text": [
      "[Parallel(n_jobs=1)]: Done   1 out of   1 | elapsed:    0.0s remaining:    0.0s\n",
      "[Parallel(n_jobs=1)]: Done 100 out of 100 | elapsed:    0.0s finished\n"
     ]
    },
    {
     "name": "stdout",
     "output_type": "stream",
     "text": [
      "the AUC is : 0.7897\n"
     ]
    },
    {
     "data": {
      "image/png": "[encoded data removed]",
      "text/plain": [
       "<matplotlib.figure.Figure at 0x7f757f14b400>"
      ]
     },
     "metadata": {},
     "output_type": "display_data"
    }
   ],
   "source": [
    "Performance(Model=clf,Y=y_test,X=X_test)"
   ]
  },
  {
   "cell_type": "markdown",
   "metadata": {},
   "source": [
    "## KS Statistic"
   ]
  },
  {
   "cell_type": "code",
   "execution_count": 125,
   "metadata": {
    "collapsed": true
   },
   "outputs": [],
   "source": [
    "# %load /home/mbagav200/Documentation_scripts/Deciles_script.py\n",
    "from collections import OrderedDict\n",
    "import pandas as pd\n",
    "import sys\n",
    "\n",
    "\n",
    "decile_color = 'skyblue'\n",
    "ks_color = 'yellow'\n",
    "\n",
    "\n",
    "def plot_pandas_style(styler):\n",
    "    from IPython.core.display import HTML\n",
    "    html = '\\n'.join([line.lstrip() for line in styler.render().split('\\n')])\n",
    "    return HTML(html)\n",
    "\n",
    "def highlight_max(s,color='yellow'):\n",
    "    '''\n",
    "    highlight the maximum in a Series yellow.\n",
    "    '''\n",
    "    is_max = s == s.max()\n",
    "    return ['background-color: {}'.format(color) if v else '' for v in is_max]\n",
    "\n",
    "def decile_labels(agg1,label,color='skyblue'):\n",
    "    agg_dummy = pd.DataFrame(OrderedDict((('TOTAL',0),('TARGET',0),('NONTARGET',0),('PCT_TAR',0),('CUM_TAR',0),('CUM_NONTAR',0),('DIST_TAR',0),('DIST_NONTAR',0),('SPREAD',0))),index=[0])\n",
    "    agg1 = agg1.append(agg_dummy).sort_index()\n",
    "    agg1.index.name = label\n",
    "    agg1 = agg1.style.apply(highlight_max, color = ks_color, subset=['SPREAD'])\n",
    "    agg1.bar(subset=['TARGET'], color='{}'.format(color))\n",
    "    agg1.bar(subset=['TOTAL'], color='{}'.format(color))\n",
    "    agg1.bar(subset=['PCT_TAR'], color='{}'.format(color))\n",
    "    return(agg1)\n",
    "\n",
    "def deciling(data,decile_by,target,nontarget):\n",
    "    inputs = list(decile_by)\n",
    "    inputs.extend((target,nontarget))\n",
    "    decile = data[inputs]\n",
    "    grouped = decile.groupby(decile_by)\n",
    "    agg1 = pd.DataFrame({},index=[])\n",
    "    agg1['TOTAL'] = grouped.sum()[nontarget] + grouped.sum()[target]\n",
    "    agg1['TARGET'] = grouped.sum()[target]\n",
    "    agg1['NONTARGET'] = grouped.sum()[nontarget]\n",
    "    agg1['PCT_TAR'] = grouped.mean()[target]*100\n",
    "    \n",
    "    if len(decile_by) > 1:\n",
    "        agg1['CUM_TAR'] = grouped.sum()[target].groupby(level=[0]).cumsum()\n",
    "        agg1['CUM_NONTAR'] = grouped.sum()[nontarget].groupby(level=[0]).cumsum()\n",
    "        agg1['DIST_TAR'] = agg1['CUM_TAR']/agg1['TARGET'].groupby(level=[0]).sum()*100\n",
    "        agg1['DIST_NONTAR'] = agg1['CUM_NONTAR']/agg1['NONTARGET'].groupby(level=[0]).sum()*100\n",
    "        agg1['SPREAD'] = (agg1['DIST_TAR'] - agg1['DIST_NONTAR'])\n",
    "        d = {}\n",
    "        \n",
    "        if agg1.index.names[0] == 'DIVISION':\n",
    "            loop = DIVISIONS\n",
    "        elif agg1.index.names[0] == 'REGION':\n",
    "            loop = REGIONS\n",
    "    \n",
    "        for i in loop:\n",
    "            x = loop.index(i)\n",
    "            d[x] = agg1.ix[i]\n",
    "            d[x] = decile_labels(d[x],i,color=decile_color)\n",
    "            d[x] = plot_pandas_style(d[x])    \n",
    "        return(d)\n",
    "    else:\n",
    "        agg1['CUM_TAR'] = grouped.sum()[target].cumsum()\n",
    "        agg1['CUM_NONTAR'] = grouped.sum()[nontarget].cumsum()\n",
    "        agg1['DIST_TAR'] = agg1['CUM_TAR']/agg1['TARGET'].sum()*100\n",
    "        agg1['DIST_NONTAR'] = agg1['CUM_NONTAR']/agg1['NONTARGET'].sum()*100\n",
    "        agg1['SPREAD'] = (agg1['DIST_TAR'] - agg1['DIST_NONTAR'])\n",
    "        agg1 = decile_labels(agg1,'NATIONAL',color=decile_color)\n",
    "        return(plot_pandas_style(agg1))\n"
   ]
  },
  {
   "cell_type": "code",
   "execution_count": 126,
   "metadata": {
    "collapsed": true
   },
   "outputs": [],
   "source": [
    "def KS(probability_results, test_labels):\n",
    "    # DEFINE 10 BUCKETS WITH EQUAL SIZE\n",
    "    Probability = pd.DataFrame(probability_results, columns = [\"miss\", \"score\"])\n",
    "    good = pd.DataFrame(test_labels, columns = [\"good\"])\n",
    "    Final = pd.concat([Probability, good], axis=1)\n",
    "    Final[\"bad\"] = 1 - Final.good\n",
    "    #Final['bucket'] = pd.qcut(Final.score, 10)\n",
    "    \n",
    "    Final['DECILE'] = pd.qcut(Final['score'],10,labels=False)\n",
    "    Final['DECILE'] = 10 - Final['DECILE']\n",
    "    \n",
    "    DecileTable = deciling(Final,['DECILE'],'good','bad')\n",
    "\n",
    "    %matplotlib inline\n",
    "    return DecileTable"
   ]
  },
  {
   "cell_type": "markdown",
   "metadata": {},
   "source": [
    "### Training"
   ]
  },
  {
   "cell_type": "code",
   "execution_count": 127,
   "metadata": {},
   "outputs": [
    {
     "data": {
      "text/html": [
       "<style  type=\"text/css\" >\n",
       "#T_88275c54_3670_11e8_8b34_246e9611b210row0_col0 {\n",
       "width:  10em;\n",
       "height:  80%;\n",
       "}    #T_88275c54_3670_11e8_8b34_246e9611b210row0_col1 {\n",
       "width:  10em;\n",
       "height:  80%;\n",
       "}    #T_88275c54_3670_11e8_8b34_246e9611b210row0_col3 {\n",
       "width:  10em;\n",
       "height:  80%;\n",
       "}    #T_88275c54_3670_11e8_8b34_246e9611b210row1_col0 {\n",
       "width:  10em;\n",
       "height:  80%;\n",
       "background:  linear-gradient(90deg,skyblue 100.0%, transparent 0%);\n",
       "}    #T_88275c54_3670_11e8_8b34_246e9611b210row1_col1 {\n",
       "width:  10em;\n",
       "height:  80%;\n",
       "background:  linear-gradient(90deg,skyblue 100.0%, transparent 0%);\n",
       "}    #T_88275c54_3670_11e8_8b34_246e9611b210row1_col3 {\n",
       "width:  10em;\n",
       "height:  80%;\n",
       "background:  linear-gradient(90deg,skyblue 100.0%, transparent 0%);\n",
       "}    #T_88275c54_3670_11e8_8b34_246e9611b210row2_col0 {\n",
       "width:  10em;\n",
       "height:  80%;\n",
       "background:  linear-gradient(90deg,skyblue 99.7%, transparent 0%);\n",
       "}    #T_88275c54_3670_11e8_8b34_246e9611b210row2_col1 {\n",
       "width:  10em;\n",
       "height:  80%;\n",
       "background:  linear-gradient(90deg,skyblue 85.8%, transparent 0%);\n",
       "}    #T_88275c54_3670_11e8_8b34_246e9611b210row2_col3 {\n",
       "width:  10em;\n",
       "height:  80%;\n",
       "background:  linear-gradient(90deg,skyblue 86.0%, transparent 0%);\n",
       "}    #T_88275c54_3670_11e8_8b34_246e9611b210row3_col0 {\n",
       "width:  10em;\n",
       "height:  80%;\n",
       "background:  linear-gradient(90deg,skyblue 99.7%, transparent 0%);\n",
       "}    #T_88275c54_3670_11e8_8b34_246e9611b210row3_col1 {\n",
       "width:  10em;\n",
       "height:  80%;\n",
       "background:  linear-gradient(90deg,skyblue 75.5%, transparent 0%);\n",
       "}    #T_88275c54_3670_11e8_8b34_246e9611b210row3_col3 {\n",
       "width:  10em;\n",
       "height:  80%;\n",
       "background:  linear-gradient(90deg,skyblue 75.8%, transparent 0%);\n",
       "}    #T_88275c54_3670_11e8_8b34_246e9611b210row4_col0 {\n",
       "width:  10em;\n",
       "height:  80%;\n",
       "background:  linear-gradient(90deg,skyblue 99.7%, transparent 0%);\n",
       "}    #T_88275c54_3670_11e8_8b34_246e9611b210row4_col1 {\n",
       "width:  10em;\n",
       "height:  80%;\n",
       "background:  linear-gradient(90deg,skyblue 70.3%, transparent 0%);\n",
       "}    #T_88275c54_3670_11e8_8b34_246e9611b210row4_col3 {\n",
       "width:  10em;\n",
       "height:  80%;\n",
       "background:  linear-gradient(90deg,skyblue 70.5%, transparent 0%);\n",
       "}    #T_88275c54_3670_11e8_8b34_246e9611b210row5_col0 {\n",
       "width:  10em;\n",
       "height:  80%;\n",
       "background:  linear-gradient(90deg,skyblue 99.7%, transparent 0%);\n",
       "}    #T_88275c54_3670_11e8_8b34_246e9611b210row5_col1 {\n",
       "width:  10em;\n",
       "height:  80%;\n",
       "background:  linear-gradient(90deg,skyblue 56.0%, transparent 0%);\n",
       "}    #T_88275c54_3670_11e8_8b34_246e9611b210row5_col3 {\n",
       "width:  10em;\n",
       "height:  80%;\n",
       "background:  linear-gradient(90deg,skyblue 56.2%, transparent 0%);\n",
       "}    #T_88275c54_3670_11e8_8b34_246e9611b210row5_col8 {\n",
       "background-color:  yellow;\n",
       "}    #T_88275c54_3670_11e8_8b34_246e9611b210row6_col0 {\n",
       "width:  10em;\n",
       "height:  80%;\n",
       "background:  linear-gradient(90deg,skyblue 99.7%, transparent 0%);\n",
       "}    #T_88275c54_3670_11e8_8b34_246e9611b210row6_col1 {\n",
       "width:  10em;\n",
       "height:  80%;\n",
       "background:  linear-gradient(90deg,skyblue 53.9%, transparent 0%);\n",
       "}    #T_88275c54_3670_11e8_8b34_246e9611b210row6_col3 {\n",
       "width:  10em;\n",
       "height:  80%;\n",
       "background:  linear-gradient(90deg,skyblue 54.0%, transparent 0%);\n",
       "}    #T_88275c54_3670_11e8_8b34_246e9611b210row7_col0 {\n",
       "width:  10em;\n",
       "height:  80%;\n",
       "background:  linear-gradient(90deg,skyblue 99.7%, transparent 0%);\n",
       "}    #T_88275c54_3670_11e8_8b34_246e9611b210row7_col1 {\n",
       "width:  10em;\n",
       "height:  80%;\n",
       "background:  linear-gradient(90deg,skyblue 43.3%, transparent 0%);\n",
       "}    #T_88275c54_3670_11e8_8b34_246e9611b210row7_col3 {\n",
       "width:  10em;\n",
       "height:  80%;\n",
       "background:  linear-gradient(90deg,skyblue 43.5%, transparent 0%);\n",
       "}    #T_88275c54_3670_11e8_8b34_246e9611b210row8_col0 {\n",
       "width:  10em;\n",
       "height:  80%;\n",
       "background:  linear-gradient(90deg,skyblue 99.7%, transparent 0%);\n",
       "}    #T_88275c54_3670_11e8_8b34_246e9611b210row8_col1 {\n",
       "width:  10em;\n",
       "height:  80%;\n",
       "background:  linear-gradient(90deg,skyblue 28.8%, transparent 0%);\n",
       "}    #T_88275c54_3670_11e8_8b34_246e9611b210row8_col3 {\n",
       "width:  10em;\n",
       "height:  80%;\n",
       "background:  linear-gradient(90deg,skyblue 28.9%, transparent 0%);\n",
       "}    #T_88275c54_3670_11e8_8b34_246e9611b210row9_col0 {\n",
       "width:  10em;\n",
       "height:  80%;\n",
       "background:  linear-gradient(90deg,skyblue 99.7%, transparent 0%);\n",
       "}    #T_88275c54_3670_11e8_8b34_246e9611b210row9_col1 {\n",
       "width:  10em;\n",
       "height:  80%;\n",
       "background:  linear-gradient(90deg,skyblue 18.9%, transparent 0%);\n",
       "}    #T_88275c54_3670_11e8_8b34_246e9611b210row9_col3 {\n",
       "width:  10em;\n",
       "height:  80%;\n",
       "background:  linear-gradient(90deg,skyblue 18.9%, transparent 0%);\n",
       "}    #T_88275c54_3670_11e8_8b34_246e9611b210row10_col0 {\n",
       "width:  10em;\n",
       "height:  80%;\n",
       "background:  linear-gradient(90deg,skyblue 100.0%, transparent 0%);\n",
       "}    #T_88275c54_3670_11e8_8b34_246e9611b210row10_col1 {\n",
       "width:  10em;\n",
       "height:  80%;\n",
       "background:  linear-gradient(90deg,skyblue 8.4%, transparent 0%);\n",
       "}    #T_88275c54_3670_11e8_8b34_246e9611b210row10_col3 {\n",
       "width:  10em;\n",
       "height:  80%;\n",
       "background:  linear-gradient(90deg,skyblue 8.4%, transparent 0%);\n",
       "}</style>  \n",
       "<table id=\"T_88275c54_3670_11e8_8b34_246e9611b210\" > \n",
       "<thead>    <tr> \n",
       "<th class=\"blank level0\" ></th> \n",
       "<th class=\"col_heading level0 col0\" >TOTAL</th> \n",
       "<th class=\"col_heading level0 col1\" >TARGET</th> \n",
       "<th class=\"col_heading level0 col2\" >NONTARGET</th> \n",
       "<th class=\"col_heading level0 col3\" >PCT_TAR</th> \n",
       "<th class=\"col_heading level0 col4\" >CUM_TAR</th> \n",
       "<th class=\"col_heading level0 col5\" >CUM_NONTAR</th> \n",
       "<th class=\"col_heading level0 col6\" >DIST_TAR</th> \n",
       "<th class=\"col_heading level0 col7\" >DIST_NONTAR</th> \n",
       "<th class=\"col_heading level0 col8\" >SPREAD</th> \n",
       "</tr>    <tr> \n",
       "<th class=\"index_name level0\" >NATIONAL</th> \n",
       "<th class=\"blank\" ></th> \n",
       "<th class=\"blank\" ></th> \n",
       "<th class=\"blank\" ></th> \n",
       "<th class=\"blank\" ></th> \n",
       "<th class=\"blank\" ></th> \n",
       "<th class=\"blank\" ></th> \n",
       "<th class=\"blank\" ></th> \n",
       "<th class=\"blank\" ></th> \n",
       "<th class=\"blank\" ></th> \n",
       "</tr></thead> \n",
       "<tbody>    <tr> \n",
       "<th id=\"T_88275c54_3670_11e8_8b34_246e9611b210\" class=\"row_heading level0 row0\" >0</th> \n",
       "<td id=\"T_88275c54_3670_11e8_8b34_246e9611b210row0_col0\" class=\"data row0 col0\" >0</td> \n",
       "<td id=\"T_88275c54_3670_11e8_8b34_246e9611b210row0_col1\" class=\"data row0 col1\" >0</td> \n",
       "<td id=\"T_88275c54_3670_11e8_8b34_246e9611b210row0_col2\" class=\"data row0 col2\" >0</td> \n",
       "<td id=\"T_88275c54_3670_11e8_8b34_246e9611b210row0_col3\" class=\"data row0 col3\" >0</td> \n",
       "<td id=\"T_88275c54_3670_11e8_8b34_246e9611b210row0_col4\" class=\"data row0 col4\" >0</td> \n",
       "<td id=\"T_88275c54_3670_11e8_8b34_246e9611b210row0_col5\" class=\"data row0 col5\" >0</td> \n",
       "<td id=\"T_88275c54_3670_11e8_8b34_246e9611b210row0_col6\" class=\"data row0 col6\" >0</td> \n",
       "<td id=\"T_88275c54_3670_11e8_8b34_246e9611b210row0_col7\" class=\"data row0 col7\" >0</td> \n",
       "<td id=\"T_88275c54_3670_11e8_8b34_246e9611b210row0_col8\" class=\"data row0 col8\" >0</td> \n",
       "</tr>    <tr> \n",
       "<th id=\"T_88275c54_3670_11e8_8b34_246e9611b210\" class=\"row_heading level0 row1\" >1</th> \n",
       "<td id=\"T_88275c54_3670_11e8_8b34_246e9611b210row1_col0\" class=\"data row1 col0\" >354</td> \n",
       "<td id=\"T_88275c54_3670_11e8_8b34_246e9611b210row1_col1\" class=\"data row1 col1\" >323</td> \n",
       "<td id=\"T_88275c54_3670_11e8_8b34_246e9611b210row1_col2\" class=\"data row1 col2\" >31</td> \n",
       "<td id=\"T_88275c54_3670_11e8_8b34_246e9611b210row1_col3\" class=\"data row1 col3\" >91.2429</td> \n",
       "<td id=\"T_88275c54_3670_11e8_8b34_246e9611b210row1_col4\" class=\"data row1 col4\" >323</td> \n",
       "<td id=\"T_88275c54_3670_11e8_8b34_246e9611b210row1_col5\" class=\"data row1 col5\" >31</td> \n",
       "<td id=\"T_88275c54_3670_11e8_8b34_246e9611b210row1_col6\" class=\"data row1 col6\" >18.4888</td> \n",
       "<td id=\"T_88275c54_3670_11e8_8b34_246e9611b210row1_col7\" class=\"data row1 col7\" >1.73669</td> \n",
       "<td id=\"T_88275c54_3670_11e8_8b34_246e9611b210row1_col8\" class=\"data row1 col8\" >16.7521</td> \n",
       "</tr>    <tr> \n",
       "<th id=\"T_88275c54_3670_11e8_8b34_246e9611b210\" class=\"row_heading level0 row2\" >2</th> \n",
       "<td id=\"T_88275c54_3670_11e8_8b34_246e9611b210row2_col0\" class=\"data row2 col0\" >353</td> \n",
       "<td id=\"T_88275c54_3670_11e8_8b34_246e9611b210row2_col1\" class=\"data row2 col1\" >277</td> \n",
       "<td id=\"T_88275c54_3670_11e8_8b34_246e9611b210row2_col2\" class=\"data row2 col2\" >76</td> \n",
       "<td id=\"T_88275c54_3670_11e8_8b34_246e9611b210row2_col3\" class=\"data row2 col3\" >78.4703</td> \n",
       "<td id=\"T_88275c54_3670_11e8_8b34_246e9611b210row2_col4\" class=\"data row2 col4\" >600</td> \n",
       "<td id=\"T_88275c54_3670_11e8_8b34_246e9611b210row2_col5\" class=\"data row2 col5\" >107</td> \n",
       "<td id=\"T_88275c54_3670_11e8_8b34_246e9611b210row2_col6\" class=\"data row2 col6\" >34.3446</td> \n",
       "<td id=\"T_88275c54_3670_11e8_8b34_246e9611b210row2_col7\" class=\"data row2 col7\" >5.9944</td> \n",
       "<td id=\"T_88275c54_3670_11e8_8b34_246e9611b210row2_col8\" class=\"data row2 col8\" >28.3502</td> \n",
       "</tr>    <tr> \n",
       "<th id=\"T_88275c54_3670_11e8_8b34_246e9611b210\" class=\"row_heading level0 row3\" >3</th> \n",
       "<td id=\"T_88275c54_3670_11e8_8b34_246e9611b210row3_col0\" class=\"data row3 col0\" >353</td> \n",
       "<td id=\"T_88275c54_3670_11e8_8b34_246e9611b210row3_col1\" class=\"data row3 col1\" >244</td> \n",
       "<td id=\"T_88275c54_3670_11e8_8b34_246e9611b210row3_col2\" class=\"data row3 col2\" >109</td> \n",
       "<td id=\"T_88275c54_3670_11e8_8b34_246e9611b210row3_col3\" class=\"data row3 col3\" >69.1218</td> \n",
       "<td id=\"T_88275c54_3670_11e8_8b34_246e9611b210row3_col4\" class=\"data row3 col4\" >844</td> \n",
       "<td id=\"T_88275c54_3670_11e8_8b34_246e9611b210row3_col5\" class=\"data row3 col5\" >216</td> \n",
       "<td id=\"T_88275c54_3670_11e8_8b34_246e9611b210row3_col6\" class=\"data row3 col6\" >48.3114</td> \n",
       "<td id=\"T_88275c54_3670_11e8_8b34_246e9611b210row3_col7\" class=\"data row3 col7\" >12.1008</td> \n",
       "<td id=\"T_88275c54_3670_11e8_8b34_246e9611b210row3_col8\" class=\"data row3 col8\" >36.2106</td> \n",
       "</tr>    <tr> \n",
       "<th id=\"T_88275c54_3670_11e8_8b34_246e9611b210\" class=\"row_heading level0 row4\" >4</th> \n",
       "<td id=\"T_88275c54_3670_11e8_8b34_246e9611b210row4_col0\" class=\"data row4 col0\" >353</td> \n",
       "<td id=\"T_88275c54_3670_11e8_8b34_246e9611b210row4_col1\" class=\"data row4 col1\" >227</td> \n",
       "<td id=\"T_88275c54_3670_11e8_8b34_246e9611b210row4_col2\" class=\"data row4 col2\" >126</td> \n",
       "<td id=\"T_88275c54_3670_11e8_8b34_246e9611b210row4_col3\" class=\"data row4 col3\" >64.3059</td> \n",
       "<td id=\"T_88275c54_3670_11e8_8b34_246e9611b210row4_col4\" class=\"data row4 col4\" >1071</td> \n",
       "<td id=\"T_88275c54_3670_11e8_8b34_246e9611b210row4_col5\" class=\"data row4 col5\" >342</td> \n",
       "<td id=\"T_88275c54_3670_11e8_8b34_246e9611b210row4_col6\" class=\"data row4 col6\" >61.3051</td> \n",
       "<td id=\"T_88275c54_3670_11e8_8b34_246e9611b210row4_col7\" class=\"data row4 col7\" >19.1597</td> \n",
       "<td id=\"T_88275c54_3670_11e8_8b34_246e9611b210row4_col8\" class=\"data row4 col8\" >42.1454</td> \n",
       "</tr>    <tr> \n",
       "<th id=\"T_88275c54_3670_11e8_8b34_246e9611b210\" class=\"row_heading level0 row5\" >5</th> \n",
       "<td id=\"T_88275c54_3670_11e8_8b34_246e9611b210row5_col0\" class=\"data row5 col0\" >353</td> \n",
       "<td id=\"T_88275c54_3670_11e8_8b34_246e9611b210row5_col1\" class=\"data row5 col1\" >181</td> \n",
       "<td id=\"T_88275c54_3670_11e8_8b34_246e9611b210row5_col2\" class=\"data row5 col2\" >172</td> \n",
       "<td id=\"T_88275c54_3670_11e8_8b34_246e9611b210row5_col3\" class=\"data row5 col3\" >51.2748</td> \n",
       "<td id=\"T_88275c54_3670_11e8_8b34_246e9611b210row5_col4\" class=\"data row5 col4\" >1252</td> \n",
       "<td id=\"T_88275c54_3670_11e8_8b34_246e9611b210row5_col5\" class=\"data row5 col5\" >514</td> \n",
       "<td id=\"T_88275c54_3670_11e8_8b34_246e9611b210row5_col6\" class=\"data row5 col6\" >71.6657</td> \n",
       "<td id=\"T_88275c54_3670_11e8_8b34_246e9611b210row5_col7\" class=\"data row5 col7\" >28.7955</td> \n",
       "<td id=\"T_88275c54_3670_11e8_8b34_246e9611b210row5_col8\" class=\"data row5 col8\" >42.8702</td> \n",
       "</tr>    <tr> \n",
       "<th id=\"T_88275c54_3670_11e8_8b34_246e9611b210\" class=\"row_heading level0 row6\" >6</th> \n",
       "<td id=\"T_88275c54_3670_11e8_8b34_246e9611b210row6_col0\" class=\"data row6 col0\" >353</td> \n",
       "<td id=\"T_88275c54_3670_11e8_8b34_246e9611b210row6_col1\" class=\"data row6 col1\" >174</td> \n",
       "<td id=\"T_88275c54_3670_11e8_8b34_246e9611b210row6_col2\" class=\"data row6 col2\" >179</td> \n",
       "<td id=\"T_88275c54_3670_11e8_8b34_246e9611b210row6_col3\" class=\"data row6 col3\" >49.2918</td> \n",
       "<td id=\"T_88275c54_3670_11e8_8b34_246e9611b210row6_col4\" class=\"data row6 col4\" >1426</td> \n",
       "<td id=\"T_88275c54_3670_11e8_8b34_246e9611b210row6_col5\" class=\"data row6 col5\" >693</td> \n",
       "<td id=\"T_88275c54_3670_11e8_8b34_246e9611b210row6_col6\" class=\"data row6 col6\" >81.6256</td> \n",
       "<td id=\"T_88275c54_3670_11e8_8b34_246e9611b210row6_col7\" class=\"data row6 col7\" >38.8235</td> \n",
       "<td id=\"T_88275c54_3670_11e8_8b34_246e9611b210row6_col8\" class=\"data row6 col8\" >42.8021</td> \n",
       "</tr>    <tr> \n",
       "<th id=\"T_88275c54_3670_11e8_8b34_246e9611b210\" class=\"row_heading level0 row7\" >7</th> \n",
       "<td id=\"T_88275c54_3670_11e8_8b34_246e9611b210row7_col0\" class=\"data row7 col0\" >353</td> \n",
       "<td id=\"T_88275c54_3670_11e8_8b34_246e9611b210row7_col1\" class=\"data row7 col1\" >140</td> \n",
       "<td id=\"T_88275c54_3670_11e8_8b34_246e9611b210row7_col2\" class=\"data row7 col2\" >213</td> \n",
       "<td id=\"T_88275c54_3670_11e8_8b34_246e9611b210row7_col3\" class=\"data row7 col3\" >39.6601</td> \n",
       "<td id=\"T_88275c54_3670_11e8_8b34_246e9611b210row7_col4\" class=\"data row7 col4\" >1566</td> \n",
       "<td id=\"T_88275c54_3670_11e8_8b34_246e9611b210row7_col5\" class=\"data row7 col5\" >906</td> \n",
       "<td id=\"T_88275c54_3670_11e8_8b34_246e9611b210row7_col6\" class=\"data row7 col6\" >89.6394</td> \n",
       "<td id=\"T_88275c54_3670_11e8_8b34_246e9611b210row7_col7\" class=\"data row7 col7\" >50.7563</td> \n",
       "<td id=\"T_88275c54_3670_11e8_8b34_246e9611b210row7_col8\" class=\"data row7 col8\" >38.8831</td> \n",
       "</tr>    <tr> \n",
       "<th id=\"T_88275c54_3670_11e8_8b34_246e9611b210\" class=\"row_heading level0 row8\" >8</th> \n",
       "<td id=\"T_88275c54_3670_11e8_8b34_246e9611b210row8_col0\" class=\"data row8 col0\" >353</td> \n",
       "<td id=\"T_88275c54_3670_11e8_8b34_246e9611b210row8_col1\" class=\"data row8 col1\" >93</td> \n",
       "<td id=\"T_88275c54_3670_11e8_8b34_246e9611b210row8_col2\" class=\"data row8 col2\" >260</td> \n",
       "<td id=\"T_88275c54_3670_11e8_8b34_246e9611b210row8_col3\" class=\"data row8 col3\" >26.3456</td> \n",
       "<td id=\"T_88275c54_3670_11e8_8b34_246e9611b210row8_col4\" class=\"data row8 col4\" >1659</td> \n",
       "<td id=\"T_88275c54_3670_11e8_8b34_246e9611b210row8_col5\" class=\"data row8 col5\" >1166</td> \n",
       "<td id=\"T_88275c54_3670_11e8_8b34_246e9611b210row8_col6\" class=\"data row8 col6\" >94.9628</td> \n",
       "<td id=\"T_88275c54_3670_11e8_8b34_246e9611b210row8_col7\" class=\"data row8 col7\" >65.3221</td> \n",
       "<td id=\"T_88275c54_3670_11e8_8b34_246e9611b210row8_col8\" class=\"data row8 col8\" >29.6407</td> \n",
       "</tr>    <tr> \n",
       "<th id=\"T_88275c54_3670_11e8_8b34_246e9611b210\" class=\"row_heading level0 row9\" >9</th> \n",
       "<td id=\"T_88275c54_3670_11e8_8b34_246e9611b210row9_col0\" class=\"data row9 col0\" >353</td> \n",
       "<td id=\"T_88275c54_3670_11e8_8b34_246e9611b210row9_col1\" class=\"data row9 col1\" >61</td> \n",
       "<td id=\"T_88275c54_3670_11e8_8b34_246e9611b210row9_col2\" class=\"data row9 col2\" >292</td> \n",
       "<td id=\"T_88275c54_3670_11e8_8b34_246e9611b210row9_col3\" class=\"data row9 col3\" >17.2805</td> \n",
       "<td id=\"T_88275c54_3670_11e8_8b34_246e9611b210row9_col4\" class=\"data row9 col4\" >1720</td> \n",
       "<td id=\"T_88275c54_3670_11e8_8b34_246e9611b210row9_col5\" class=\"data row9 col5\" >1458</td> \n",
       "<td id=\"T_88275c54_3670_11e8_8b34_246e9611b210row9_col6\" class=\"data row9 col6\" >98.4545</td> \n",
       "<td id=\"T_88275c54_3670_11e8_8b34_246e9611b210row9_col7\" class=\"data row9 col7\" >81.6807</td> \n",
       "<td id=\"T_88275c54_3670_11e8_8b34_246e9611b210row9_col8\" class=\"data row9 col8\" >16.7738</td> \n",
       "</tr>    <tr> \n",
       "<th id=\"T_88275c54_3670_11e8_8b34_246e9611b210\" class=\"row_heading level0 row10\" >10</th> \n",
       "<td id=\"T_88275c54_3670_11e8_8b34_246e9611b210row10_col0\" class=\"data row10 col0\" >354</td> \n",
       "<td id=\"T_88275c54_3670_11e8_8b34_246e9611b210row10_col1\" class=\"data row10 col1\" >27</td> \n",
       "<td id=\"T_88275c54_3670_11e8_8b34_246e9611b210row10_col2\" class=\"data row10 col2\" >327</td> \n",
       "<td id=\"T_88275c54_3670_11e8_8b34_246e9611b210row10_col3\" class=\"data row10 col3\" >7.62712</td> \n",
       "<td id=\"T_88275c54_3670_11e8_8b34_246e9611b210row10_col4\" class=\"data row10 col4\" >1747</td> \n",
       "<td id=\"T_88275c54_3670_11e8_8b34_246e9611b210row10_col5\" class=\"data row10 col5\" >1785</td> \n",
       "<td id=\"T_88275c54_3670_11e8_8b34_246e9611b210row10_col6\" class=\"data row10 col6\" >100</td> \n",
       "<td id=\"T_88275c54_3670_11e8_8b34_246e9611b210row10_col7\" class=\"data row10 col7\" >100</td> \n",
       "<td id=\"T_88275c54_3670_11e8_8b34_246e9611b210row10_col8\" class=\"data row10 col8\" >0</td> \n",
       "</tr></tbody> \n",
       "</table> "
      ],
      "text/plain": [
       "<IPython.core.display.HTML object>"
      ]
     },
     "execution_count": 127,
     "metadata": {},
     "output_type": "execute_result"
    }
   ],
   "source": [
    "KS(probs_train, y_train)"
   ]
  },
  {
   "cell_type": "markdown",
   "metadata": {},
   "source": [
    "### Testing"
   ]
  },
  {
   "cell_type": "code",
   "execution_count": 128,
   "metadata": {},
   "outputs": [
    {
     "data": {
      "text/html": [
       "<style  type=\"text/css\" >\n",
       "#T_897fc4ce_3670_11e8_8b34_246e9611b210row0_col0 {\n",
       "width:  10em;\n",
       "height:  80%;\n",
       "}    #T_897fc4ce_3670_11e8_8b34_246e9611b210row0_col1 {\n",
       "width:  10em;\n",
       "height:  80%;\n",
       "}    #T_897fc4ce_3670_11e8_8b34_246e9611b210row0_col3 {\n",
       "width:  10em;\n",
       "height:  80%;\n",
       "}    #T_897fc4ce_3670_11e8_8b34_246e9611b210row1_col0 {\n",
       "width:  10em;\n",
       "height:  80%;\n",
       "background:  linear-gradient(90deg,skyblue 100.0%, transparent 0%);\n",
       "}    #T_897fc4ce_3670_11e8_8b34_246e9611b210row1_col1 {\n",
       "width:  10em;\n",
       "height:  80%;\n",
       "background:  linear-gradient(90deg,skyblue 100.0%, transparent 0%);\n",
       "}    #T_897fc4ce_3670_11e8_8b34_246e9611b210row1_col3 {\n",
       "width:  10em;\n",
       "height:  80%;\n",
       "background:  linear-gradient(90deg,skyblue 100.0%, transparent 0%);\n",
       "}    #T_897fc4ce_3670_11e8_8b34_246e9611b210row2_col0 {\n",
       "width:  10em;\n",
       "height:  80%;\n",
       "background:  linear-gradient(90deg,skyblue 99.3%, transparent 0%);\n",
       "}    #T_897fc4ce_3670_11e8_8b34_246e9611b210row2_col1 {\n",
       "width:  10em;\n",
       "height:  80%;\n",
       "background:  linear-gradient(90deg,skyblue 97.0%, transparent 0%);\n",
       "}    #T_897fc4ce_3670_11e8_8b34_246e9611b210row2_col3 {\n",
       "width:  10em;\n",
       "height:  80%;\n",
       "background:  linear-gradient(90deg,skyblue 97.6%, transparent 0%);\n",
       "}    #T_897fc4ce_3670_11e8_8b34_246e9611b210row3_col0 {\n",
       "width:  10em;\n",
       "height:  80%;\n",
       "background:  linear-gradient(90deg,skyblue 99.3%, transparent 0%);\n",
       "}    #T_897fc4ce_3670_11e8_8b34_246e9611b210row3_col1 {\n",
       "width:  10em;\n",
       "height:  80%;\n",
       "background:  linear-gradient(90deg,skyblue 79.5%, transparent 0%);\n",
       "}    #T_897fc4ce_3670_11e8_8b34_246e9611b210row3_col3 {\n",
       "width:  10em;\n",
       "height:  80%;\n",
       "background:  linear-gradient(90deg,skyblue 80.1%, transparent 0%);\n",
       "}    #T_897fc4ce_3670_11e8_8b34_246e9611b210row4_col0 {\n",
       "width:  10em;\n",
       "height:  80%;\n",
       "background:  linear-gradient(90deg,skyblue 100.0%, transparent 0%);\n",
       "}    #T_897fc4ce_3670_11e8_8b34_246e9611b210row4_col1 {\n",
       "width:  10em;\n",
       "height:  80%;\n",
       "background:  linear-gradient(90deg,skyblue 72.0%, transparent 0%);\n",
       "}    #T_897fc4ce_3670_11e8_8b34_246e9611b210row4_col3 {\n",
       "width:  10em;\n",
       "height:  80%;\n",
       "background:  linear-gradient(90deg,skyblue 72.0%, transparent 0%);\n",
       "}    #T_897fc4ce_3670_11e8_8b34_246e9611b210row5_col0 {\n",
       "width:  10em;\n",
       "height:  80%;\n",
       "background:  linear-gradient(90deg,skyblue 99.3%, transparent 0%);\n",
       "}    #T_897fc4ce_3670_11e8_8b34_246e9611b210row5_col1 {\n",
       "width:  10em;\n",
       "height:  80%;\n",
       "background:  linear-gradient(90deg,skyblue 65.2%, transparent 0%);\n",
       "}    #T_897fc4ce_3670_11e8_8b34_246e9611b210row5_col3 {\n",
       "width:  10em;\n",
       "height:  80%;\n",
       "background:  linear-gradient(90deg,skyblue 65.6%, transparent 0%);\n",
       "}    #T_897fc4ce_3670_11e8_8b34_246e9611b210row6_col0 {\n",
       "width:  10em;\n",
       "height:  80%;\n",
       "background:  linear-gradient(90deg,skyblue 99.3%, transparent 0%);\n",
       "}    #T_897fc4ce_3670_11e8_8b34_246e9611b210row6_col1 {\n",
       "width:  10em;\n",
       "height:  80%;\n",
       "background:  linear-gradient(90deg,skyblue 59.1%, transparent 0%);\n",
       "}    #T_897fc4ce_3670_11e8_8b34_246e9611b210row6_col3 {\n",
       "width:  10em;\n",
       "height:  80%;\n",
       "background:  linear-gradient(90deg,skyblue 59.5%, transparent 0%);\n",
       "}    #T_897fc4ce_3670_11e8_8b34_246e9611b210row6_col8 {\n",
       "background-color:  yellow;\n",
       "}    #T_897fc4ce_3670_11e8_8b34_246e9611b210row7_col0 {\n",
       "width:  10em;\n",
       "height:  80%;\n",
       "background:  linear-gradient(90deg,skyblue 100.0%, transparent 0%);\n",
       "}    #T_897fc4ce_3670_11e8_8b34_246e9611b210row7_col1 {\n",
       "width:  10em;\n",
       "height:  80%;\n",
       "background:  linear-gradient(90deg,skyblue 48.5%, transparent 0%);\n",
       "}    #T_897fc4ce_3670_11e8_8b34_246e9611b210row7_col3 {\n",
       "width:  10em;\n",
       "height:  80%;\n",
       "background:  linear-gradient(90deg,skyblue 48.5%, transparent 0%);\n",
       "}    #T_897fc4ce_3670_11e8_8b34_246e9611b210row8_col0 {\n",
       "width:  10em;\n",
       "height:  80%;\n",
       "background:  linear-gradient(90deg,skyblue 99.3%, transparent 0%);\n",
       "}    #T_897fc4ce_3670_11e8_8b34_246e9611b210row8_col1 {\n",
       "width:  10em;\n",
       "height:  80%;\n",
       "background:  linear-gradient(90deg,skyblue 37.1%, transparent 0%);\n",
       "}    #T_897fc4ce_3670_11e8_8b34_246e9611b210row8_col3 {\n",
       "width:  10em;\n",
       "height:  80%;\n",
       "background:  linear-gradient(90deg,skyblue 37.4%, transparent 0%);\n",
       "}    #T_897fc4ce_3670_11e8_8b34_246e9611b210row9_col0 {\n",
       "width:  10em;\n",
       "height:  80%;\n",
       "background:  linear-gradient(90deg,skyblue 99.3%, transparent 0%);\n",
       "}    #T_897fc4ce_3670_11e8_8b34_246e9611b210row9_col1 {\n",
       "width:  10em;\n",
       "height:  80%;\n",
       "background:  linear-gradient(90deg,skyblue 23.5%, transparent 0%);\n",
       "}    #T_897fc4ce_3670_11e8_8b34_246e9611b210row9_col3 {\n",
       "width:  10em;\n",
       "height:  80%;\n",
       "background:  linear-gradient(90deg,skyblue 23.6%, transparent 0%);\n",
       "}    #T_897fc4ce_3670_11e8_8b34_246e9611b210row10_col0 {\n",
       "width:  10em;\n",
       "height:  80%;\n",
       "background:  linear-gradient(90deg,skyblue 100.0%, transparent 0%);\n",
       "}    #T_897fc4ce_3670_11e8_8b34_246e9611b210row10_col1 {\n",
       "width:  10em;\n",
       "height:  80%;\n",
       "background:  linear-gradient(90deg,skyblue 6.1%, transparent 0%);\n",
       "}    #T_897fc4ce_3670_11e8_8b34_246e9611b210row10_col3 {\n",
       "width:  10em;\n",
       "height:  80%;\n",
       "background:  linear-gradient(90deg,skyblue 6.1%, transparent 0%);\n",
       "}</style>  \n",
       "<table id=\"T_897fc4ce_3670_11e8_8b34_246e9611b210\" > \n",
       "<thead>    <tr> \n",
       "<th class=\"blank level0\" ></th> \n",
       "<th class=\"col_heading level0 col0\" >TOTAL</th> \n",
       "<th class=\"col_heading level0 col1\" >TARGET</th> \n",
       "<th class=\"col_heading level0 col2\" >NONTARGET</th> \n",
       "<th class=\"col_heading level0 col3\" >PCT_TAR</th> \n",
       "<th class=\"col_heading level0 col4\" >CUM_TAR</th> \n",
       "<th class=\"col_heading level0 col5\" >CUM_NONTAR</th> \n",
       "<th class=\"col_heading level0 col6\" >DIST_TAR</th> \n",
       "<th class=\"col_heading level0 col7\" >DIST_NONTAR</th> \n",
       "<th class=\"col_heading level0 col8\" >SPREAD</th> \n",
       "</tr>    <tr> \n",
       "<th class=\"index_name level0\" >NATIONAL</th> \n",
       "<th class=\"blank\" ></th> \n",
       "<th class=\"blank\" ></th> \n",
       "<th class=\"blank\" ></th> \n",
       "<th class=\"blank\" ></th> \n",
       "<th class=\"blank\" ></th> \n",
       "<th class=\"blank\" ></th> \n",
       "<th class=\"blank\" ></th> \n",
       "<th class=\"blank\" ></th> \n",
       "<th class=\"blank\" ></th> \n",
       "</tr></thead> \n",
       "<tbody>    <tr> \n",
       "<th id=\"T_897fc4ce_3670_11e8_8b34_246e9611b210\" class=\"row_heading level0 row0\" >0</th> \n",
       "<td id=\"T_897fc4ce_3670_11e8_8b34_246e9611b210row0_col0\" class=\"data row0 col0\" >0</td> \n",
       "<td id=\"T_897fc4ce_3670_11e8_8b34_246e9611b210row0_col1\" class=\"data row0 col1\" >0</td> \n",
       "<td id=\"T_897fc4ce_3670_11e8_8b34_246e9611b210row0_col2\" class=\"data row0 col2\" >0</td> \n",
       "<td id=\"T_897fc4ce_3670_11e8_8b34_246e9611b210row0_col3\" class=\"data row0 col3\" >0</td> \n",
       "<td id=\"T_897fc4ce_3670_11e8_8b34_246e9611b210row0_col4\" class=\"data row0 col4\" >0</td> \n",
       "<td id=\"T_897fc4ce_3670_11e8_8b34_246e9611b210row0_col5\" class=\"data row0 col5\" >0</td> \n",
       "<td id=\"T_897fc4ce_3670_11e8_8b34_246e9611b210row0_col6\" class=\"data row0 col6\" >0</td> \n",
       "<td id=\"T_897fc4ce_3670_11e8_8b34_246e9611b210row0_col7\" class=\"data row0 col7\" >0</td> \n",
       "<td id=\"T_897fc4ce_3670_11e8_8b34_246e9611b210row0_col8\" class=\"data row0 col8\" >0</td> \n",
       "</tr>    <tr> \n",
       "<th id=\"T_897fc4ce_3670_11e8_8b34_246e9611b210\" class=\"row_heading level0 row1\" >1</th> \n",
       "<td id=\"T_897fc4ce_3670_11e8_8b34_246e9611b210row1_col0\" class=\"data row1 col0\" >152</td> \n",
       "<td id=\"T_897fc4ce_3670_11e8_8b34_246e9611b210row1_col1\" class=\"data row1 col1\" >132</td> \n",
       "<td id=\"T_897fc4ce_3670_11e8_8b34_246e9611b210row1_col2\" class=\"data row1 col2\" >20</td> \n",
       "<td id=\"T_897fc4ce_3670_11e8_8b34_246e9611b210row1_col3\" class=\"data row1 col3\" >86.8421</td> \n",
       "<td id=\"T_897fc4ce_3670_11e8_8b34_246e9611b210row1_col4\" class=\"data row1 col4\" >132</td> \n",
       "<td id=\"T_897fc4ce_3670_11e8_8b34_246e9611b210row1_col5\" class=\"data row1 col5\" >20</td> \n",
       "<td id=\"T_897fc4ce_3670_11e8_8b34_246e9611b210row1_col6\" class=\"data row1 col6\" >17.0103</td> \n",
       "<td id=\"T_897fc4ce_3670_11e8_8b34_246e9611b210row1_col7\" class=\"data row1 col7\" >2.71003</td> \n",
       "<td id=\"T_897fc4ce_3670_11e8_8b34_246e9611b210row1_col8\" class=\"data row1 col8\" >14.3003</td> \n",
       "</tr>    <tr> \n",
       "<th id=\"T_897fc4ce_3670_11e8_8b34_246e9611b210\" class=\"row_heading level0 row2\" >2</th> \n",
       "<td id=\"T_897fc4ce_3670_11e8_8b34_246e9611b210row2_col0\" class=\"data row2 col0\" >151</td> \n",
       "<td id=\"T_897fc4ce_3670_11e8_8b34_246e9611b210row2_col1\" class=\"data row2 col1\" >128</td> \n",
       "<td id=\"T_897fc4ce_3670_11e8_8b34_246e9611b210row2_col2\" class=\"data row2 col2\" >23</td> \n",
       "<td id=\"T_897fc4ce_3670_11e8_8b34_246e9611b210row2_col3\" class=\"data row2 col3\" >84.7682</td> \n",
       "<td id=\"T_897fc4ce_3670_11e8_8b34_246e9611b210row2_col4\" class=\"data row2 col4\" >260</td> \n",
       "<td id=\"T_897fc4ce_3670_11e8_8b34_246e9611b210row2_col5\" class=\"data row2 col5\" >43</td> \n",
       "<td id=\"T_897fc4ce_3670_11e8_8b34_246e9611b210row2_col6\" class=\"data row2 col6\" >33.5052</td> \n",
       "<td id=\"T_897fc4ce_3670_11e8_8b34_246e9611b210row2_col7\" class=\"data row2 col7\" >5.82656</td> \n",
       "<td id=\"T_897fc4ce_3670_11e8_8b34_246e9611b210row2_col8\" class=\"data row2 col8\" >27.6786</td> \n",
       "</tr>    <tr> \n",
       "<th id=\"T_897fc4ce_3670_11e8_8b34_246e9611b210\" class=\"row_heading level0 row3\" >3</th> \n",
       "<td id=\"T_897fc4ce_3670_11e8_8b34_246e9611b210row3_col0\" class=\"data row3 col0\" >151</td> \n",
       "<td id=\"T_897fc4ce_3670_11e8_8b34_246e9611b210row3_col1\" class=\"data row3 col1\" >105</td> \n",
       "<td id=\"T_897fc4ce_3670_11e8_8b34_246e9611b210row3_col2\" class=\"data row3 col2\" >46</td> \n",
       "<td id=\"T_897fc4ce_3670_11e8_8b34_246e9611b210row3_col3\" class=\"data row3 col3\" >69.5364</td> \n",
       "<td id=\"T_897fc4ce_3670_11e8_8b34_246e9611b210row3_col4\" class=\"data row3 col4\" >365</td> \n",
       "<td id=\"T_897fc4ce_3670_11e8_8b34_246e9611b210row3_col5\" class=\"data row3 col5\" >89</td> \n",
       "<td id=\"T_897fc4ce_3670_11e8_8b34_246e9611b210row3_col6\" class=\"data row3 col6\" >47.0361</td> \n",
       "<td id=\"T_897fc4ce_3670_11e8_8b34_246e9611b210row3_col7\" class=\"data row3 col7\" >12.0596</td> \n",
       "<td id=\"T_897fc4ce_3670_11e8_8b34_246e9611b210row3_col8\" class=\"data row3 col8\" >34.9765</td> \n",
       "</tr>    <tr> \n",
       "<th id=\"T_897fc4ce_3670_11e8_8b34_246e9611b210\" class=\"row_heading level0 row4\" >4</th> \n",
       "<td id=\"T_897fc4ce_3670_11e8_8b34_246e9611b210row4_col0\" class=\"data row4 col0\" >152</td> \n",
       "<td id=\"T_897fc4ce_3670_11e8_8b34_246e9611b210row4_col1\" class=\"data row4 col1\" >95</td> \n",
       "<td id=\"T_897fc4ce_3670_11e8_8b34_246e9611b210row4_col2\" class=\"data row4 col2\" >57</td> \n",
       "<td id=\"T_897fc4ce_3670_11e8_8b34_246e9611b210row4_col3\" class=\"data row4 col3\" >62.5</td> \n",
       "<td id=\"T_897fc4ce_3670_11e8_8b34_246e9611b210row4_col4\" class=\"data row4 col4\" >460</td> \n",
       "<td id=\"T_897fc4ce_3670_11e8_8b34_246e9611b210row4_col5\" class=\"data row4 col5\" >146</td> \n",
       "<td id=\"T_897fc4ce_3670_11e8_8b34_246e9611b210row4_col6\" class=\"data row4 col6\" >59.2784</td> \n",
       "<td id=\"T_897fc4ce_3670_11e8_8b34_246e9611b210row4_col7\" class=\"data row4 col7\" >19.7832</td> \n",
       "<td id=\"T_897fc4ce_3670_11e8_8b34_246e9611b210row4_col8\" class=\"data row4 col8\" >39.4952</td> \n",
       "</tr>    <tr> \n",
       "<th id=\"T_897fc4ce_3670_11e8_8b34_246e9611b210\" class=\"row_heading level0 row5\" >5</th> \n",
       "<td id=\"T_897fc4ce_3670_11e8_8b34_246e9611b210row5_col0\" class=\"data row5 col0\" >151</td> \n",
       "<td id=\"T_897fc4ce_3670_11e8_8b34_246e9611b210row5_col1\" class=\"data row5 col1\" >86</td> \n",
       "<td id=\"T_897fc4ce_3670_11e8_8b34_246e9611b210row5_col2\" class=\"data row5 col2\" >65</td> \n",
       "<td id=\"T_897fc4ce_3670_11e8_8b34_246e9611b210row5_col3\" class=\"data row5 col3\" >56.9536</td> \n",
       "<td id=\"T_897fc4ce_3670_11e8_8b34_246e9611b210row5_col4\" class=\"data row5 col4\" >546</td> \n",
       "<td id=\"T_897fc4ce_3670_11e8_8b34_246e9611b210row5_col5\" class=\"data row5 col5\" >211</td> \n",
       "<td id=\"T_897fc4ce_3670_11e8_8b34_246e9611b210row5_col6\" class=\"data row5 col6\" >70.3608</td> \n",
       "<td id=\"T_897fc4ce_3670_11e8_8b34_246e9611b210row5_col7\" class=\"data row5 col7\" >28.5908</td> \n",
       "<td id=\"T_897fc4ce_3670_11e8_8b34_246e9611b210row5_col8\" class=\"data row5 col8\" >41.77</td> \n",
       "</tr>    <tr> \n",
       "<th id=\"T_897fc4ce_3670_11e8_8b34_246e9611b210\" class=\"row_heading level0 row6\" >6</th> \n",
       "<td id=\"T_897fc4ce_3670_11e8_8b34_246e9611b210row6_col0\" class=\"data row6 col0\" >151</td> \n",
       "<td id=\"T_897fc4ce_3670_11e8_8b34_246e9611b210row6_col1\" class=\"data row6 col1\" >78</td> \n",
       "<td id=\"T_897fc4ce_3670_11e8_8b34_246e9611b210row6_col2\" class=\"data row6 col2\" >73</td> \n",
       "<td id=\"T_897fc4ce_3670_11e8_8b34_246e9611b210row6_col3\" class=\"data row6 col3\" >51.6556</td> \n",
       "<td id=\"T_897fc4ce_3670_11e8_8b34_246e9611b210row6_col4\" class=\"data row6 col4\" >624</td> \n",
       "<td id=\"T_897fc4ce_3670_11e8_8b34_246e9611b210row6_col5\" class=\"data row6 col5\" >284</td> \n",
       "<td id=\"T_897fc4ce_3670_11e8_8b34_246e9611b210row6_col6\" class=\"data row6 col6\" >80.4124</td> \n",
       "<td id=\"T_897fc4ce_3670_11e8_8b34_246e9611b210row6_col7\" class=\"data row6 col7\" >38.4824</td> \n",
       "<td id=\"T_897fc4ce_3670_11e8_8b34_246e9611b210row6_col8\" class=\"data row6 col8\" >41.93</td> \n",
       "</tr>    <tr> \n",
       "<th id=\"T_897fc4ce_3670_11e8_8b34_246e9611b210\" class=\"row_heading level0 row7\" >7</th> \n",
       "<td id=\"T_897fc4ce_3670_11e8_8b34_246e9611b210row7_col0\" class=\"data row7 col0\" >152</td> \n",
       "<td id=\"T_897fc4ce_3670_11e8_8b34_246e9611b210row7_col1\" class=\"data row7 col1\" >64</td> \n",
       "<td id=\"T_897fc4ce_3670_11e8_8b34_246e9611b210row7_col2\" class=\"data row7 col2\" >88</td> \n",
       "<td id=\"T_897fc4ce_3670_11e8_8b34_246e9611b210row7_col3\" class=\"data row7 col3\" >42.1053</td> \n",
       "<td id=\"T_897fc4ce_3670_11e8_8b34_246e9611b210row7_col4\" class=\"data row7 col4\" >688</td> \n",
       "<td id=\"T_897fc4ce_3670_11e8_8b34_246e9611b210row7_col5\" class=\"data row7 col5\" >372</td> \n",
       "<td id=\"T_897fc4ce_3670_11e8_8b34_246e9611b210row7_col6\" class=\"data row7 col6\" >88.6598</td> \n",
       "<td id=\"T_897fc4ce_3670_11e8_8b34_246e9611b210row7_col7\" class=\"data row7 col7\" >50.4065</td> \n",
       "<td id=\"T_897fc4ce_3670_11e8_8b34_246e9611b210row7_col8\" class=\"data row7 col8\" >38.2533</td> \n",
       "</tr>    <tr> \n",
       "<th id=\"T_897fc4ce_3670_11e8_8b34_246e9611b210\" class=\"row_heading level0 row8\" >8</th> \n",
       "<td id=\"T_897fc4ce_3670_11e8_8b34_246e9611b210row8_col0\" class=\"data row8 col0\" >151</td> \n",
       "<td id=\"T_897fc4ce_3670_11e8_8b34_246e9611b210row8_col1\" class=\"data row8 col1\" >49</td> \n",
       "<td id=\"T_897fc4ce_3670_11e8_8b34_246e9611b210row8_col2\" class=\"data row8 col2\" >102</td> \n",
       "<td id=\"T_897fc4ce_3670_11e8_8b34_246e9611b210row8_col3\" class=\"data row8 col3\" >32.4503</td> \n",
       "<td id=\"T_897fc4ce_3670_11e8_8b34_246e9611b210row8_col4\" class=\"data row8 col4\" >737</td> \n",
       "<td id=\"T_897fc4ce_3670_11e8_8b34_246e9611b210row8_col5\" class=\"data row8 col5\" >474</td> \n",
       "<td id=\"T_897fc4ce_3670_11e8_8b34_246e9611b210row8_col6\" class=\"data row8 col6\" >94.9742</td> \n",
       "<td id=\"T_897fc4ce_3670_11e8_8b34_246e9611b210row8_col7\" class=\"data row8 col7\" >64.2276</td> \n",
       "<td id=\"T_897fc4ce_3670_11e8_8b34_246e9611b210row8_col8\" class=\"data row8 col8\" >30.7466</td> \n",
       "</tr>    <tr> \n",
       "<th id=\"T_897fc4ce_3670_11e8_8b34_246e9611b210\" class=\"row_heading level0 row9\" >9</th> \n",
       "<td id=\"T_897fc4ce_3670_11e8_8b34_246e9611b210row9_col0\" class=\"data row9 col0\" >151</td> \n",
       "<td id=\"T_897fc4ce_3670_11e8_8b34_246e9611b210row9_col1\" class=\"data row9 col1\" >31</td> \n",
       "<td id=\"T_897fc4ce_3670_11e8_8b34_246e9611b210row9_col2\" class=\"data row9 col2\" >120</td> \n",
       "<td id=\"T_897fc4ce_3670_11e8_8b34_246e9611b210row9_col3\" class=\"data row9 col3\" >20.5298</td> \n",
       "<td id=\"T_897fc4ce_3670_11e8_8b34_246e9611b210row9_col4\" class=\"data row9 col4\" >768</td> \n",
       "<td id=\"T_897fc4ce_3670_11e8_8b34_246e9611b210row9_col5\" class=\"data row9 col5\" >594</td> \n",
       "<td id=\"T_897fc4ce_3670_11e8_8b34_246e9611b210row9_col6\" class=\"data row9 col6\" >98.9691</td> \n",
       "<td id=\"T_897fc4ce_3670_11e8_8b34_246e9611b210row9_col7\" class=\"data row9 col7\" >80.4878</td> \n",
       "<td id=\"T_897fc4ce_3670_11e8_8b34_246e9611b210row9_col8\" class=\"data row9 col8\" >18.4813</td> \n",
       "</tr>    <tr> \n",
       "<th id=\"T_897fc4ce_3670_11e8_8b34_246e9611b210\" class=\"row_heading level0 row10\" >10</th> \n",
       "<td id=\"T_897fc4ce_3670_11e8_8b34_246e9611b210row10_col0\" class=\"data row10 col0\" >152</td> \n",
       "<td id=\"T_897fc4ce_3670_11e8_8b34_246e9611b210row10_col1\" class=\"data row10 col1\" >8</td> \n",
       "<td id=\"T_897fc4ce_3670_11e8_8b34_246e9611b210row10_col2\" class=\"data row10 col2\" >144</td> \n",
       "<td id=\"T_897fc4ce_3670_11e8_8b34_246e9611b210row10_col3\" class=\"data row10 col3\" >5.26316</td> \n",
       "<td id=\"T_897fc4ce_3670_11e8_8b34_246e9611b210row10_col4\" class=\"data row10 col4\" >776</td> \n",
       "<td id=\"T_897fc4ce_3670_11e8_8b34_246e9611b210row10_col5\" class=\"data row10 col5\" >738</td> \n",
       "<td id=\"T_897fc4ce_3670_11e8_8b34_246e9611b210row10_col6\" class=\"data row10 col6\" >100</td> \n",
       "<td id=\"T_897fc4ce_3670_11e8_8b34_246e9611b210row10_col7\" class=\"data row10 col7\" >100</td> \n",
       "<td id=\"T_897fc4ce_3670_11e8_8b34_246e9611b210row10_col8\" class=\"data row10 col8\" >0</td> \n",
       "</tr></tbody> \n",
       "</table> "
      ],
      "text/plain": [
       "<IPython.core.display.HTML object>"
      ]
     },
     "execution_count": 128,
     "metadata": {},
     "output_type": "execute_result"
    }
   ],
   "source": [
    "KS(probs, y_test)"
   ]
  },
  {
   "cell_type": "markdown",
   "metadata": {},
   "source": [
    "## Gains Plot"
   ]
  },
  {
   "cell_type": "code",
   "execution_count": 578,
   "metadata": {
    "collapsed": true
   },
   "outputs": [],
   "source": [
    "# %load /home/mbagav200/Documentation_scripts/Actual_Predicted.py\n",
    "from collections import OrderedDict\n",
    "import pandas as pd\n",
    "import matplotlib.pyplot as plt\n",
    "\n",
    "def plots(agg1,target,type):\n",
    "\n",
    "\tplt.figure(1,figsize=(20, 5))\n",
    "\n",
    "\tplt.subplot(131)\n",
    "\tplt.plot(agg1['DECILE'],agg1['ACTUAL'],label='Actual')\n",
    "\tplt.plot(agg1['DECILE'],agg1['PRED'],label='Pred')\n",
    "\tplt.xticks(range(10,110,10))\n",
    "\tplt.legend(fontsize=15)\n",
    "\tplt.grid(True)\n",
    "\tplt.title('Actual vs Predicted', fontsize=20)\n",
    "\tplt.xlabel(\"Population %\",fontsize=15)\n",
    "\tplt.ylabel(str(target) + \" \" + str(type) + \" %\",fontsize=15)\n",
    "\n",
    "\tplt.subplot(132)\n",
    "\tX = agg1['DECILE'].tolist()\n",
    "\tX.append(0)\n",
    "\tY = agg1['DIST_TAR'].tolist()\n",
    "\tY.append(0)\n",
    "\tplt.plot(sorted(X),sorted(Y))\n",
    "\tplt.plot([0, 100], [0, 100],'r--')\n",
    "\tplt.xticks(range(0,110,10))\n",
    "\tplt.yticks(range(0,110,10))\n",
    "\tplt.grid(True)\n",
    "\tplt.title('Gains Chart', fontsize=20)\n",
    "\tplt.xlabel(\"Population %\",fontsize=15)\n",
    "\tplt.ylabel(str(target) + str(\" DISTRIBUTION\") + \" %\",fontsize=15)\n",
    "\tplt.annotate(round(agg1[agg1['DECILE'] == 30].DIST_TAR.item(),2),xy=[30,30], \n",
    "\t\t\t\t xytext=(25, agg1[agg1['DECILE'] == 30].DIST_TAR.item() + 5),fontsize = 13)\n",
    "\tplt.annotate(round(agg1[agg1['DECILE'] == 50].DIST_TAR.item(),2),xy=[50,50], \n",
    "\t\t\t\t xytext=(45, agg1[agg1['DECILE'] == 50].DIST_TAR.item() + 5),fontsize = 13)\n",
    "\n",
    "\tplt.subplot(133)\n",
    "\tplt.plot(agg1['DECILE'],agg1['LIFT'])\n",
    "\tplt.xticks(range(10,110,10))\n",
    "\tplt.grid(True)\n",
    "\tplt.title('Lift Chart', fontsize=20)\n",
    "\tplt.xlabel(\"Population %\",fontsize=15)\n",
    "\tplt.ylabel(\"Lift\",fontsize=15)\n",
    "\n",
    "\tplt.tight_layout()\n",
    "\n",
    "def dec_plots(agg1,target,type):\n",
    "\t\n",
    "\tNortheast = agg1[agg1['DIVISION'] == 'NORTHEAST DIVISION']\n",
    "\tNortheast.name = 'Northeast'\n",
    "\tCentral = agg1[agg1['DIVISION'] == 'CENTRAL DIVISION']\n",
    "\tCentral.name = 'Central'\n",
    "\tWest = agg1[agg1['DIVISION'] == 'WEST DIVISION']\n",
    "\tWest.name = 'West'\n",
    "\t\n",
    "\tplt.figure(1,figsize=(20, 5))\n",
    "\n",
    "\tplt.subplot(131)\n",
    "\tfor i in [Northeast,Central,West]:\n",
    "\t\tplt.plot(i['DECILE'],i['ACTUAL'],label=i.name + ' - Actual')\n",
    "\t\tplt.plot(i['DECILE'],i['PRED'],label=i.name + ' - Pred')\n",
    "\tplt.xticks(range(10,110,10))\n",
    "\tplt.legend(fontsize=12)\n",
    "\tplt.grid(True)\n",
    "\tplt.title('Actual vs Predicted', fontsize=20)\n",
    "\tplt.xlabel(\"Population %\",fontsize=15)\n",
    "\tplt.ylabel(str(target) + \" \" + str(type) + \" %\",fontsize=15)\n",
    "\n",
    "\tplt.subplot(132)\n",
    "\tfor i in [Northeast,Central,West]:\n",
    "\t\tX = i['DECILE'].tolist()\n",
    "\t\tX.append(0)\n",
    "\t\tY = i['DIST_TAR'].tolist()\n",
    "\t\tY.append(0)\n",
    "\t\tplt.plot(sorted(X),sorted(Y),label= i.name)\n",
    "\tplt.xticks(range(0,110,10))\n",
    "\tplt.plot([0, 100], [0, 100],'r--')\n",
    "\tplt.yticks(range(0,110,10))\n",
    "\tplt.legend(fontsize=12)\n",
    "\tplt.grid(True)\n",
    "\tplt.title('Gains Chart', fontsize=20)\n",
    "\tplt.xlabel(\"Population %\",fontsize=15)\n",
    "\tplt.ylabel(str(target) + str(\" DISTRIBUTION\") + \" %\",fontsize=15)\n",
    "\t\n",
    "\n",
    "\tplt.subplot(133)\n",
    "\tfor i in [Northeast,Central,West]:\n",
    "\t\tplt.plot(i['DECILE'],i['LIFT'], label = i.name)\n",
    "\tplt.xticks(range(10,110,10))\n",
    "\tplt.legend(fontsize=12)\n",
    "\tplt.grid(True)\n",
    "\tplt.title('Lift Chart', fontsize=20)\n",
    "\tplt.xlabel(\"Population %\",fontsize=15)\n",
    "\tplt.ylabel(\"Lift\",fontsize=15)\n",
    "\n",
    "\tplt.tight_layout()\n",
    "\n",
    "\t\n",
    "def reg_plots(agg1,target,type):\n",
    "\t\n",
    "\tCALIFORNIA = agg1[agg1['REGION'] == 'CALIFORNIA REGION']\n",
    "\tFLORIDA = agg1[agg1['REGION'] == 'FLORIDA REGION']\n",
    "\tCHICAGO = agg1[agg1['REGION'] == 'CHICAGO REGION']\n",
    "\tBIG = agg1[agg1['REGION'] == 'BIG SOUTH REGION']\n",
    "\tFREEDOM = agg1[agg1['REGION'] == 'FREEDOM REGION']\n",
    "\tGREATER = agg1[agg1['REGION'] == 'GREATER BOSTON REGION']\n",
    "\tBELTWAY = agg1[agg1['REGION'] == 'BELTWAY REGION']\n",
    "\tMOUNTAIN = agg1[agg1['REGION'] == 'MOUNTAIN WEST REGION']\n",
    "\tHEARTLAND = agg1[agg1['REGION'] == 'HEARTLAND REGION']\n",
    "\tKEYSTONE = agg1[agg1['REGION'] == 'KEYSTONE REGION']\n",
    "\tSEATTLE = agg1[agg1['REGION'] == 'SEATTLE REGION']\n",
    "\tWESTERN = agg1[agg1['REGION'] == 'WESTERN NEW ENGLAND REGION']\n",
    "\tPORTLAND = agg1[agg1['REGION'] == 'PORTLAND REGION']\n",
    "\tTWIN = agg1[agg1['REGION'] == 'TWIN CITIES REGION']\n",
    "\tHOUSTON = agg1[agg1['REGION'] == 'HOUSTON REGION']\n",
    "\t\n",
    "\tCALIFORNIA.name = 'California'\n",
    "\tFLORIDA.name = 'Florida'\n",
    "\tCHICAGO.name = 'Chicago'\n",
    "\tBIG.name = 'Big South'\n",
    "\tFREEDOM.name = 'Freedom'\n",
    "\tGREATER.name = 'Greater Boston'\n",
    "\tBELTWAY.name = 'Beltway'\n",
    "\tMOUNTAIN.name = 'Mountain West'\n",
    "\tHEARTLAND.name = 'Heartland'\n",
    "\tKEYSTONE.name = 'Keystone'\n",
    "\tSEATTLE.name = 'Seattle'\n",
    "\tWESTERN.name = 'Western New England'\n",
    "\tPORTLAND.name = 'PORTLAND'\n",
    "\tTWIN.name = 'Twin Cities'\n",
    "\tHOUSTON.name = 'Houston'\n",
    "\t\n",
    "\tplt.figure(1,figsize=(20, 5))\n",
    "\tplt.subplot(131)\n",
    "\tfor i in [FREEDOM,GREATER,BELTWAY,KEYSTONE,WESTERN]:\n",
    "\t\tX = i['DECILE'].tolist()\n",
    "\t\tX.append(0)\n",
    "\t\tY = i['DIST_TAR'].tolist()\n",
    "\t\tY.append(0)\n",
    "\t\tplt.plot(sorted(X),sorted(Y),label= i.name)\n",
    "\tplt.plot([0, 100], [0, 100],'r--')\n",
    "\tplt.xticks(range(0,110,10))\n",
    "\tplt.yticks(range(0,110,10))\n",
    "\tplt.legend(fontsize=12)\n",
    "\tplt.grid(True)\n",
    "\tplt.title('Gains Chart - Northeast Division', fontsize=15)\n",
    "\tplt.xlabel(\"Population %\",fontsize=15)\n",
    "\tplt.ylabel(str(target) + str(\" DISTRIBUTION\") + \" %\",fontsize=15)\n",
    "\n",
    "\tplt.subplot(132)\n",
    "\tfor i in [FLORIDA,CHICAGO,BIG,HEARTLAND]:\n",
    "\t\tX = i['DECILE'].tolist()\n",
    "\t\tX.append(0)\n",
    "\t\tY = i['DIST_TAR'].tolist()\n",
    "\t\tY.append(0)\n",
    "\t\tplt.plot(sorted(X),sorted(Y),label= i.name)\n",
    "\tplt.plot([0, 100], [0, 100],'r--')\n",
    "\tplt.xticks(range(0,110,10))\n",
    "\tplt.yticks(range(0,110,10))\n",
    "\tplt.legend(fontsize=12)\n",
    "\tplt.grid(True)\n",
    "\tplt.title('Gains Chart - Central Division', fontsize=15)\n",
    "\tplt.xlabel(\"Population %\",fontsize=15)\n",
    "\tplt.ylabel(str(target) + str(\" DISTRIBUTION\") + \" %\",fontsize=15)\n",
    "\t\n",
    "\n",
    "\tplt.subplot(133)\n",
    "\tfor i in [CALIFORNIA,MOUNTAIN,SEATTLE,PORTLAND,TWIN,HOUSTON]:\n",
    "\t\tX = i['DECILE'].tolist()\n",
    "\t\tX.append(0)\n",
    "\t\tY = i['DIST_TAR'].tolist()\n",
    "\t\tY.append(0)\n",
    "\t\tplt.plot(sorted(X),sorted(Y),label= i.name)\n",
    "\tplt.plot([0, 100], [0, 100],'r--')\n",
    "\tplt.xticks(range(0,110,10))\n",
    "\tplt.yticks(range(0,110,10))\n",
    "\tplt.legend(fontsize=12)\n",
    "\tplt.grid(True)\n",
    "\tplt.title('Gains Chart - West Division', fontsize=15)\n",
    "\tplt.xlabel(\"Population %\",fontsize=15)\n",
    "\tplt.ylabel(str(target) + str(\" DISTRIBUTION\") + \" %\",fontsize=15)\n",
    "\n",
    "\tplt.tight_layout()\n",
    "\t\n",
    "def gains(data,decile_by,target,score,type):\n",
    "\tinputs = list(decile_by)\n",
    "\tinputs.extend((target,score))\n",
    "\tdecile = data[inputs]\n",
    "\tcheck = decile[decile_by].max()\n",
    "\tif check.isin([10]).any():\n",
    "\t\tmultiplier = 10\n",
    "\telse:\n",
    "\t\tmultiplier = 1\n",
    "\tgrouped = decile.groupby(decile_by)\n",
    "\tagg1 = pd.DataFrame({},index=[])\n",
    "\tagg1['ACTUAL'] = grouped.mean()[target]*100\n",
    "\tagg1['PRED'] = grouped.mean()[score]*100\n",
    "    \n",
    "\tif len(decile_by) > 1:\n",
    "\t\tagg1['DIST_TAR'] = grouped.sum()[target].groupby(level=[0]).cumsum()/grouped.sum()[target].groupby(level=[0]).sum()*100\n",
    "\t\tagg1 = agg1.reset_index()\n",
    "\t\tif agg1.columns[0:1].item() == 'REGION':\n",
    "\t\t\tagg1=agg1.rename(columns = {agg1.columns[1:2].item():'DECILE'})\n",
    "\t\telif agg1.columns[0:1].item() == 'DIVISION':\n",
    "\t\t\tagg1=agg1.rename(columns = {agg1.columns[1:2].item():'DECILE'})\n",
    "\t\t\n",
    "\t\tagg1['DECILE'] = agg1['DECILE']*multiplier\n",
    "\t\tagg1['LIFT'] = agg1['DIST_TAR']/agg1['DECILE']\n",
    "\t\t\n",
    "\t\tif agg1.columns[0:1].item() == 'REGION':\n",
    "\t\t\treg_plots(agg1,target,type)\n",
    "\t\telif agg1.columns[0:1].item() == 'DIVISION':\n",
    "\t\t\tdec_plots(agg1,target,type)\n",
    "\telse:\n",
    "\t\tagg1['DIST_TAR'] = grouped.sum()[target].cumsum()/grouped.sum()[target].sum()*100\n",
    "\t\tagg1.index.name = 'DECILE'\n",
    "\t\tagg1 = agg1.reset_index()\n",
    "\t\tagg1['DECILE'] = agg1['DECILE']*multiplier\n",
    "\t\tagg1['LIFT'] = agg1['DIST_TAR']/agg1['DECILE']\n",
    "\t\tplots(agg1,target,type)"
   ]
  },
  {
   "cell_type": "markdown",
   "metadata": {},
   "source": [
    "### Training Set"
   ]
  },
  {
   "cell_type": "code",
   "execution_count": 579,
   "metadata": {
    "collapsed": true
   },
   "outputs": [],
   "source": [
    "dfX_Score = pd.concat([dfX_train, dfy_train], axis=1)\n",
    "\n",
    "model_variables = dfX_Score.columns.tolist() \n",
    "    \n",
    "model_variables = [dfX_Score.upper() for dfX_Score in model_variables]\n",
    "\n",
    "dfX_Score['SCORE'] = scoreTrain\n",
    "\n",
    "dfX_Score['DECILE'] = pd.qcut(dfX_Score['SCORE'],10,labels=range(10,0,-1) )\n",
    "dfX_Score['DECILE'] = dfX_Score['DECILE'].astype(float)"
   ]
  },
  {
   "cell_type": "code",
   "execution_count": 580,
   "metadata": {},
   "outputs": [
    {
     "data": {
      "image/png": "[encoded data removed]",
      "text/plain": [
       "<matplotlib.figure.Figure at 0x7f6001920d68>"
      ]
     },
     "metadata": {},
     "output_type": "display_data"
    }
   ],
   "source": [
    "%matplotlib inline\n",
    "gains(dfX_Score,['DECILE'],TargetVar,'SCORE','Exercise Model')"
   ]
  },
  {
   "cell_type": "markdown",
   "metadata": {},
   "source": [
    "### Testing Set"
   ]
  },
  {
   "cell_type": "code",
   "execution_count": 581,
   "metadata": {
    "collapsed": true
   },
   "outputs": [],
   "source": [
    "dfX_ScoreTest = pd.concat([dfX_test, dfy_test], axis=1)\n",
    "\n",
    "model_variables = dfX_ScoreTest.columns.tolist() \n",
    "    \n",
    "model_variables = [dfX_ScoreTest.upper() for dfX_ScoreTest in model_variables]\n",
    "\n",
    "dfX_ScoreTest['SCORE'] = scoreTest\n",
    "\n",
    "dfX_ScoreTest['DECILE'] = pd.qcut(dfX_ScoreTest['SCORE'],10,labels=range(10,0,-1) )\n",
    "dfX_ScoreTest['DECILE'] = dfX_ScoreTest['DECILE'].astype(float)"
   ]
  },
  {
   "cell_type": "code",
   "execution_count": 582,
   "metadata": {},
   "outputs": [
    {
     "data": {
      "image/png": "[encoded data removed]",
      "text/plain": [
       "<matplotlib.figure.Figure at 0x7f5ff5bcf5f8>"
      ]
     },
     "metadata": {},
     "output_type": "display_data"
    }
   ],
   "source": [
    "%matplotlib inline\n",
    "gains(dfX_ScoreTest,['DECILE'],TargetVar,'SCORE','Exercise Model')"
   ]
  },
  {
   "cell_type": "code",
   "execution_count": null,
   "metadata": {
    "collapsed": true
   },
   "outputs": [],
   "source": []
  }
 ],
 "metadata": {
  "kernelspec": {
   "display_name": "Python 3",
   "language": "python",
   "name": "python3"
  },
  "language_info": {
   "codemirror_mode": {
    "name": "ipython",
    "version": 3
   },
   "file_extension": ".py",
   "mimetype": "text/x-python",
   "name": "python",
   "nbconvert_exporter": "python",
   "pygments_lexer": "ipython3",
   "version": "3.6.5"
  }
 },
 "nbformat": 4,
 "nbformat_minor": 2
}
