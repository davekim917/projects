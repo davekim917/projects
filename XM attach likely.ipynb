{
 "cells": [
  {
   "cell_type": "markdown",
   "metadata": {},
   "source": [
    "# **Import Libraries**"
   ]
  },
  {
   "cell_type": "code",
   "execution_count": 1,
   "metadata": {},
   "outputs": [
    {
     "name": "stderr",
     "output_type": "stream",
     "text": [
      "C:\\Users\\dkim207\\AppData\\Local\\Continuum\\anaconda3\\envs\\py3\\lib\\site-packages\\sklearn\\cross_validation.py:41: DeprecationWarning: This module was deprecated in version 0.18 in favor of the model_selection module into which all the refactored classes and functions are moved. Also note that the interface of the new CV iterators are different from that of this module. This module will be removed in 0.20.\n",
      "  \"This module will be removed in 0.20.\", DeprecationWarning)\n"
     ]
    }
   ],
   "source": [
    "# remove warnings\n",
    "import warnings\n",
    "warnings.filterwarnings('ignore')\n",
    "\n",
    "# linear algebra\n",
    "import numpy as np \n",
    "\n",
    "# data processing\n",
    "import pandas as pd \n",
    "\n",
    "# data visualization\n",
    "import seaborn as sns\n",
    "%matplotlib inline\n",
    "from matplotlib import pyplot as plt\n",
    "from matplotlib import style\n",
    "\n",
    "# Algorithms\n",
    "from sklearn.cross_validation import train_test_split\n",
    "from sklearn import linear_model\n",
    "from sklearn.linear_model import LogisticRegression\n",
    "from sklearn.ensemble import RandomForestClassifier\n",
    "from sklearn.linear_model import Perceptron\n",
    "from sklearn.tree import DecisionTreeClassifier\n",
    "from sklearn.neighbors import KNeighborsClassifier"
   ]
  },
  {
   "cell_type": "markdown",
   "metadata": {},
   "source": [
    "# **Retrieve Data**"
   ]
  },
  {
   "cell_type": "code",
   "execution_count": 2,
   "metadata": {},
   "outputs": [],
   "source": [
    "filename = 'C:/Users/dkim207/OneDrive - Comcast/Tableau Repository/dave_final_project_sampled.txt'\n",
    "df1      = pd.read_csv(filename,sep=\"|\")\n",
    "df1.rename(columns=lambda x: x.split('.')[1], inplace=True)"
   ]
  },
  {
   "cell_type": "code",
   "execution_count": 185,
   "metadata": {},
   "outputs": [],
   "source": [
    "df = df1.copy()"
   ]
  },
  {
   "cell_type": "code",
   "execution_count": 3,
   "metadata": {},
   "outputs": [],
   "source": [
    "# Add in digital traffic by account\n",
    "filename2 = 'C:/Users/dkim207/OneDrive - Comcast/Tableau Repository/dk_final_proj_digital_accounts.csv'\n",
    "digital_accts = pd.read_csv(filename2,sep=\"\\t\")"
   ]
  },
  {
   "cell_type": "code",
   "execution_count": 186,
   "metadata": {},
   "outputs": [],
   "source": [
    "# Combine dataframes to add digital traffic data\n",
    "cols = ['account']\n",
    "df = df.join(digital_accts.set_index(cols), on=cols)"
   ]
  },
  {
   "cell_type": "code",
   "execution_count": 187,
   "metadata": {},
   "outputs": [],
   "source": [
    "#Identify digital visitors and shoppers\n",
    "df[['visited_digital_last_30_days', 'digital_shopper']] = df[['visited_digital_last_30_days', 'digital_shopper']].fillna(0)\n",
    "df[['visited_digital_last_30_days', 'digital_shopper']] = df[['visited_digital_last_30_days', 'digital_shopper']].astype(int)\n",
    "#Don't need this actually\n",
    "df = df.drop(['digital_shopper'], axis=1)"
   ]
  },
  {
   "cell_type": "markdown",
   "metadata": {},
   "source": [
    "# **Let's Explore the Data**"
   ]
  },
  {
   "cell_type": "code",
   "execution_count": 188,
   "metadata": {},
   "outputs": [
    {
     "name": "stdout",
     "output_type": "stream",
     "text": [
      "<class 'pandas.core.frame.DataFrame'>\n",
      "RangeIndex: 884602 entries, 0 to 884601\n",
      "Columns: 111 entries, housekey to visited_digital_last_30_days\n",
      "dtypes: float64(80), int32(1), int64(11), object(19)\n",
      "memory usage: 745.8+ MB\n"
     ]
    }
   ],
   "source": [
    "df.info()"
   ]
  },
  {
   "cell_type": "markdown",
   "metadata": {},
   "source": [
    "**The data-set has 884602 examples and 110 features + the target variable**. 19 are objects that will need to be converted."
   ]
  },
  {
   "cell_type": "code",
   "execution_count": 189,
   "metadata": {},
   "outputs": [
    {
     "data": {
      "text/html": [
       "<div>\n",
       "<style scoped>\n",
       "    .dataframe tbody tr th:only-of-type {\n",
       "        vertical-align: middle;\n",
       "    }\n",
       "\n",
       "    .dataframe tbody tr th {\n",
       "        vertical-align: top;\n",
       "    }\n",
       "\n",
       "    .dataframe thead th {\n",
       "        text-align: right;\n",
       "    }\n",
       "</style>\n",
       "<table border=\"1\" class=\"dataframe\">\n",
       "  <thead>\n",
       "    <tr style=\"text-align: right;\">\n",
       "      <th></th>\n",
       "      <th>housekey</th>\n",
       "      <th>account</th>\n",
       "      <th>accountid</th>\n",
       "      <th>videopenetrationrate</th>\n",
       "      <th>total_mrc_amt</th>\n",
       "      <th>offer_months_duration</th>\n",
       "      <th>mrc_net_offer_amt</th>\n",
       "      <th>number_of_products</th>\n",
       "      <th>number_of_products_6m</th>\n",
       "      <th>equip_wireless_gateway_cnt</th>\n",
       "      <th>...</th>\n",
       "      <th>hsd_dn_gb_sum_90d</th>\n",
       "      <th>hsd_avggb_weekday_90d</th>\n",
       "      <th>hsd_avggb_weekend_90d</th>\n",
       "      <th>hsd_earlyfringe_dn_l30d</th>\n",
       "      <th>hsd_earlymorn_dn_l30d</th>\n",
       "      <th>hsd_latefringe_dn_l30d</th>\n",
       "      <th>hsd_postlatefringe_dn_l30d</th>\n",
       "      <th>hsd_primetime_dn_l30d</th>\n",
       "      <th>target_addxm</th>\n",
       "      <th>visited_digital_last_30_days</th>\n",
       "    </tr>\n",
       "  </thead>\n",
       "  <tbody>\n",
       "    <tr>\n",
       "      <th>count</th>\n",
       "      <td>8.846020e+05</td>\n",
       "      <td>8.846020e+05</td>\n",
       "      <td>8.846020e+05</td>\n",
       "      <td>884602.000000</td>\n",
       "      <td>836374.000000</td>\n",
       "      <td>613800.000000</td>\n",
       "      <td>613800.000000</td>\n",
       "      <td>884602.000000</td>\n",
       "      <td>785283.000000</td>\n",
       "      <td>884262.000000</td>\n",
       "      <td>...</td>\n",
       "      <td>884602.000000</td>\n",
       "      <td>884602.000000</td>\n",
       "      <td>884602.000000</td>\n",
       "      <td>884602.000000</td>\n",
       "      <td>884602.000000</td>\n",
       "      <td>884602.000000</td>\n",
       "      <td>884602.000000</td>\n",
       "      <td>884602.000000</td>\n",
       "      <td>884602.000000</td>\n",
       "      <td>884602.000000</td>\n",
       "    </tr>\n",
       "    <tr>\n",
       "      <th>mean</th>\n",
       "      <td>4.689186e+13</td>\n",
       "      <td>8.537726e+15</td>\n",
       "      <td>3.226494e+08</td>\n",
       "      <td>0.481152</td>\n",
       "      <td>138.222829</td>\n",
       "      <td>17.443047</td>\n",
       "      <td>102.547773</td>\n",
       "      <td>2.135857</td>\n",
       "      <td>2.296038</td>\n",
       "      <td>0.233208</td>\n",
       "      <td>...</td>\n",
       "      <td>412.544000</td>\n",
       "      <td>6.555151</td>\n",
       "      <td>8.962172</td>\n",
       "      <td>23.833181</td>\n",
       "      <td>10.804638</td>\n",
       "      <td>4.670260</td>\n",
       "      <td>10.938682</td>\n",
       "      <td>30.603981</td>\n",
       "      <td>0.095638</td>\n",
       "      <td>0.022027</td>\n",
       "    </tr>\n",
       "    <tr>\n",
       "      <th>std</th>\n",
       "      <td>3.158968e+13</td>\n",
       "      <td>2.316010e+14</td>\n",
       "      <td>2.259950e+08</td>\n",
       "      <td>0.253693</td>\n",
       "      <td>68.431883</td>\n",
       "      <td>27.659924</td>\n",
       "      <td>47.871097</td>\n",
       "      <td>0.936925</td>\n",
       "      <td>0.799879</td>\n",
       "      <td>0.435742</td>\n",
       "      <td>...</td>\n",
       "      <td>455.687938</td>\n",
       "      <td>7.306473</td>\n",
       "      <td>9.707307</td>\n",
       "      <td>28.914454</td>\n",
       "      <td>15.470963</td>\n",
       "      <td>7.403285</td>\n",
       "      <td>21.098721</td>\n",
       "      <td>35.640888</td>\n",
       "      <td>0.294095</td>\n",
       "      <td>0.146771</td>\n",
       "    </tr>\n",
       "    <tr>\n",
       "      <th>min</th>\n",
       "      <td>1.001000e+12</td>\n",
       "      <td>8.155100e+15</td>\n",
       "      <td>1.001400e+05</td>\n",
       "      <td>0.000000</td>\n",
       "      <td>0.000000</td>\n",
       "      <td>1.000000</td>\n",
       "      <td>0.030000</td>\n",
       "      <td>0.000000</td>\n",
       "      <td>0.000000</td>\n",
       "      <td>0.000000</td>\n",
       "      <td>...</td>\n",
       "      <td>0.000000</td>\n",
       "      <td>0.000000</td>\n",
       "      <td>0.000000</td>\n",
       "      <td>-8.730000</td>\n",
       "      <td>-8.250000</td>\n",
       "      <td>-2.980000</td>\n",
       "      <td>-9.790000</td>\n",
       "      <td>0.000000</td>\n",
       "      <td>0.000000</td>\n",
       "      <td>0.000000</td>\n",
       "    </tr>\n",
       "    <tr>\n",
       "      <th>25%</th>\n",
       "      <td>2.065736e+13</td>\n",
       "      <td>8.396411e+15</td>\n",
       "      <td>4.293640e+07</td>\n",
       "      <td>0.297297</td>\n",
       "      <td>80.950000</td>\n",
       "      <td>12.000000</td>\n",
       "      <td>59.990000</td>\n",
       "      <td>2.000000</td>\n",
       "      <td>2.000000</td>\n",
       "      <td>0.000000</td>\n",
       "      <td>...</td>\n",
       "      <td>81.370000</td>\n",
       "      <td>1.333764</td>\n",
       "      <td>1.734563</td>\n",
       "      <td>3.150000</td>\n",
       "      <td>1.490000</td>\n",
       "      <td>0.120000</td>\n",
       "      <td>0.550000</td>\n",
       "      <td>3.800000</td>\n",
       "      <td>0.000000</td>\n",
       "      <td>0.000000</td>\n",
       "    </tr>\n",
       "    <tr>\n",
       "      <th>50%</th>\n",
       "      <td>3.740517e+13</td>\n",
       "      <td>8.499100e+15</td>\n",
       "      <td>4.910349e+08</td>\n",
       "      <td>0.473684</td>\n",
       "      <td>140.440000</td>\n",
       "      <td>12.000000</td>\n",
       "      <td>100.000000</td>\n",
       "      <td>2.000000</td>\n",
       "      <td>2.000000</td>\n",
       "      <td>0.000000</td>\n",
       "      <td>...</td>\n",
       "      <td>266.455000</td>\n",
       "      <td>4.226474</td>\n",
       "      <td>5.912216</td>\n",
       "      <td>13.170000</td>\n",
       "      <td>5.350000</td>\n",
       "      <td>1.430000</td>\n",
       "      <td>2.860000</td>\n",
       "      <td>18.160000</td>\n",
       "      <td>0.000000</td>\n",
       "      <td>0.000000</td>\n",
       "    </tr>\n",
       "    <tr>\n",
       "      <th>75%</th>\n",
       "      <td>7.751086e+13</td>\n",
       "      <td>8.771402e+15</td>\n",
       "      <td>5.204409e+08</td>\n",
       "      <td>0.666667</td>\n",
       "      <td>190.590000</td>\n",
       "      <td>24.000000</td>\n",
       "      <td>134.980000</td>\n",
       "      <td>3.000000</td>\n",
       "      <td>3.000000</td>\n",
       "      <td>0.000000</td>\n",
       "      <td>...</td>\n",
       "      <td>591.517500</td>\n",
       "      <td>9.312540</td>\n",
       "      <td>13.016075</td>\n",
       "      <td>34.380000</td>\n",
       "      <td>13.810000</td>\n",
       "      <td>6.110000</td>\n",
       "      <td>11.260000</td>\n",
       "      <td>45.220000</td>\n",
       "      <td>0.000000</td>\n",
       "      <td>0.000000</td>\n",
       "    </tr>\n",
       "    <tr>\n",
       "      <th>max</th>\n",
       "      <td>9.999900e+13</td>\n",
       "      <td>8.993410e+15</td>\n",
       "      <td>5.320413e+08</td>\n",
       "      <td>1.000000</td>\n",
       "      <td>584.400000</td>\n",
       "      <td>9604.000000</td>\n",
       "      <td>309.990000</td>\n",
       "      <td>4.000000</td>\n",
       "      <td>4.000000</td>\n",
       "      <td>16.000000</td>\n",
       "      <td>...</td>\n",
       "      <td>11079.020000</td>\n",
       "      <td>283.905670</td>\n",
       "      <td>326.018985</td>\n",
       "      <td>364.300000</td>\n",
       "      <td>361.290000</td>\n",
       "      <td>109.850000</td>\n",
       "      <td>456.810000</td>\n",
       "      <td>426.900000</td>\n",
       "      <td>1.000000</td>\n",
       "      <td>1.000000</td>\n",
       "    </tr>\n",
       "  </tbody>\n",
       "</table>\n",
       "<p>8 rows × 92 columns</p>\n",
       "</div>"
      ],
      "text/plain": [
       "           housekey       account     accountid  videopenetrationrate  \\\n",
       "count  8.846020e+05  8.846020e+05  8.846020e+05         884602.000000   \n",
       "mean   4.689186e+13  8.537726e+15  3.226494e+08              0.481152   \n",
       "std    3.158968e+13  2.316010e+14  2.259950e+08              0.253693   \n",
       "min    1.001000e+12  8.155100e+15  1.001400e+05              0.000000   \n",
       "25%    2.065736e+13  8.396411e+15  4.293640e+07              0.297297   \n",
       "50%    3.740517e+13  8.499100e+15  4.910349e+08              0.473684   \n",
       "75%    7.751086e+13  8.771402e+15  5.204409e+08              0.666667   \n",
       "max    9.999900e+13  8.993410e+15  5.320413e+08              1.000000   \n",
       "\n",
       "       total_mrc_amt  offer_months_duration  mrc_net_offer_amt  \\\n",
       "count  836374.000000          613800.000000      613800.000000   \n",
       "mean      138.222829              17.443047         102.547773   \n",
       "std        68.431883              27.659924          47.871097   \n",
       "min         0.000000               1.000000           0.030000   \n",
       "25%        80.950000              12.000000          59.990000   \n",
       "50%       140.440000              12.000000         100.000000   \n",
       "75%       190.590000              24.000000         134.980000   \n",
       "max       584.400000            9604.000000         309.990000   \n",
       "\n",
       "       number_of_products  number_of_products_6m  equip_wireless_gateway_cnt  \\\n",
       "count       884602.000000          785283.000000               884262.000000   \n",
       "mean             2.135857               2.296038                    0.233208   \n",
       "std              0.936925               0.799879                    0.435742   \n",
       "min              0.000000               0.000000                    0.000000   \n",
       "25%              2.000000               2.000000                    0.000000   \n",
       "50%              2.000000               2.000000                    0.000000   \n",
       "75%              3.000000               3.000000                    0.000000   \n",
       "max              4.000000               4.000000                   16.000000   \n",
       "\n",
       "                   ...               hsd_dn_gb_sum_90d  hsd_avggb_weekday_90d  \\\n",
       "count              ...                   884602.000000          884602.000000   \n",
       "mean               ...                      412.544000               6.555151   \n",
       "std                ...                      455.687938               7.306473   \n",
       "min                ...                        0.000000               0.000000   \n",
       "25%                ...                       81.370000               1.333764   \n",
       "50%                ...                      266.455000               4.226474   \n",
       "75%                ...                      591.517500               9.312540   \n",
       "max                ...                    11079.020000             283.905670   \n",
       "\n",
       "       hsd_avggb_weekend_90d  hsd_earlyfringe_dn_l30d  hsd_earlymorn_dn_l30d  \\\n",
       "count          884602.000000            884602.000000          884602.000000   \n",
       "mean                8.962172                23.833181              10.804638   \n",
       "std                 9.707307                28.914454              15.470963   \n",
       "min                 0.000000                -8.730000              -8.250000   \n",
       "25%                 1.734563                 3.150000               1.490000   \n",
       "50%                 5.912216                13.170000               5.350000   \n",
       "75%                13.016075                34.380000              13.810000   \n",
       "max               326.018985               364.300000             361.290000   \n",
       "\n",
       "       hsd_latefringe_dn_l30d  hsd_postlatefringe_dn_l30d  \\\n",
       "count           884602.000000               884602.000000   \n",
       "mean                 4.670260                   10.938682   \n",
       "std                  7.403285                   21.098721   \n",
       "min                 -2.980000                   -9.790000   \n",
       "25%                  0.120000                    0.550000   \n",
       "50%                  1.430000                    2.860000   \n",
       "75%                  6.110000                   11.260000   \n",
       "max                109.850000                  456.810000   \n",
       "\n",
       "       hsd_primetime_dn_l30d   target_addxm  visited_digital_last_30_days  \n",
       "count          884602.000000  884602.000000                 884602.000000  \n",
       "mean               30.603981       0.095638                      0.022027  \n",
       "std                35.640888       0.294095                      0.146771  \n",
       "min                 0.000000       0.000000                      0.000000  \n",
       "25%                 3.800000       0.000000                      0.000000  \n",
       "50%                18.160000       0.000000                      0.000000  \n",
       "75%                45.220000       0.000000                      0.000000  \n",
       "max               426.900000       1.000000                      1.000000  \n",
       "\n",
       "[8 rows x 92 columns]"
      ]
     },
     "execution_count": 189,
     "metadata": {},
     "output_type": "execute_result"
    }
   ],
   "source": [
    "df.describe()"
   ]
  },
  {
   "cell_type": "markdown",
   "metadata": {},
   "source": [
    "**9.5% out of the dataset has attached XM**. Some features look to potentially have outliers and missing values."
   ]
  },
  {
   "cell_type": "code",
   "execution_count": 190,
   "metadata": {},
   "outputs": [],
   "source": [
    "# Dropping some columns I don't like, keeping accounts in a separate dataframe\n",
    "df_account = df.copy()\n",
    "df = df.drop(['housekey','accountid','account','email_snt_yahoo_l90d','email_snt_aol_l90d','email_snt_comcast_l90d','email_snt_gmail_l90d','email_opn_anyedu_l90d','email_snt_anynet_l90d','email_snt_anyedu_l90d','email_snt_anycom_l90d','expdemo_consumer_mosaic_2011_us'], 1)\n",
    "TargetVar = 'target_addxm'"
   ]
  },
  {
   "cell_type": "code",
   "execution_count": 191,
   "metadata": {},
   "outputs": [],
   "source": [
    "# Balancing data to due the large skew of rows without XM\n",
    "TargetVar = 'target_addxm'\n",
    "Pdf_TargetOneD = df.loc[df[TargetVar] == 1].copy()\n",
    "Pdf_TargetZeroD = df.loc[df[TargetVar] == 0].copy()\n",
    "Target_ZeroD = Pdf_TargetZeroD.take(np.random.permutation(len(Pdf_TargetZeroD))[:len(df.loc[df[TargetVar] == 1])]).copy()\n",
    "\n",
    "# Creating a final data frame\n",
    "df = Pdf_TargetOneD.append(Target_ZeroD, ignore_index=True).copy()"
   ]
  },
  {
   "cell_type": "code",
   "execution_count": 192,
   "metadata": {},
   "outputs": [
    {
     "name": "stdout",
     "output_type": "stream",
     "text": [
      "1    84602\n",
      "0    84602\n",
      "Name: target_addxm, dtype: int64\n",
      " ========================\n"
     ]
    },
    {
     "data": {
      "image/png": "[encoded data removed]",
      "text/plain": [
       "<Figure size 432x288 with 1 Axes>"
      ]
     },
     "metadata": {},
     "output_type": "display_data"
    }
   ],
   "source": [
    "# Check distribution of dataframe\n",
    "df[TargetVar].value_counts().plot(kind='barh')\n",
    "print(df[TargetVar].value_counts())\n",
    "print(\" ========================\")\n",
    "plt.title(TargetVar)\n",
    "plt.ylabel('Count')\n",
    "plt.show()"
   ]
  },
  {
   "cell_type": "code",
   "execution_count": 193,
   "metadata": {},
   "outputs": [
    {
     "data": {
      "text/html": [
       "<div>\n",
       "<style scoped>\n",
       "    .dataframe tbody tr th:only-of-type {\n",
       "        vertical-align: middle;\n",
       "    }\n",
       "\n",
       "    .dataframe tbody tr th {\n",
       "        vertical-align: top;\n",
       "    }\n",
       "\n",
       "    .dataframe thead th {\n",
       "        text-align: right;\n",
       "    }\n",
       "</style>\n",
       "<table border=\"1\" class=\"dataframe\">\n",
       "  <thead>\n",
       "    <tr style=\"text-align: right;\">\n",
       "      <th></th>\n",
       "      <th>Total</th>\n",
       "      <th>%</th>\n",
       "    </tr>\n",
       "  </thead>\n",
       "  <tbody>\n",
       "    <tr>\n",
       "      <th>svcs_days_since_most_recent_xh</th>\n",
       "      <td>158054</td>\n",
       "      <td>93.4</td>\n",
       "    </tr>\n",
       "    <tr>\n",
       "      <th>svcs_xh_days_on_books</th>\n",
       "      <td>158054</td>\n",
       "      <td>93.4</td>\n",
       "    </tr>\n",
       "    <tr>\n",
       "      <th>svcs_days_since_last_x1_product_ended</th>\n",
       "      <td>128387</td>\n",
       "      <td>75.9</td>\n",
       "    </tr>\n",
       "    <tr>\n",
       "      <th>svcs_days_since_had_last_cdv</th>\n",
       "      <td>118078</td>\n",
       "      <td>69.8</td>\n",
       "    </tr>\n",
       "    <tr>\n",
       "      <th>wifi_total_gb</th>\n",
       "      <td>113509</td>\n",
       "      <td>67.1</td>\n",
       "    </tr>\n",
       "    <tr>\n",
       "      <th>svcs_days_since_last_dvr_service_ended</th>\n",
       "      <td>109366</td>\n",
       "      <td>64.6</td>\n",
       "    </tr>\n",
       "    <tr>\n",
       "      <th>cdv_total_min</th>\n",
       "      <td>95223</td>\n",
       "      <td>56.3</td>\n",
       "    </tr>\n",
       "    <tr>\n",
       "      <th>svcs_cdv_days_on_books</th>\n",
       "      <td>90618</td>\n",
       "      <td>53.6</td>\n",
       "    </tr>\n",
       "    <tr>\n",
       "      <th>svcs_days_since_most_recent_cdv</th>\n",
       "      <td>90618</td>\n",
       "      <td>53.6</td>\n",
       "    </tr>\n",
       "    <tr>\n",
       "      <th>svcs_days_since_last_hd_service_ended</th>\n",
       "      <td>87047</td>\n",
       "      <td>51.4</td>\n",
       "    </tr>\n",
       "    <tr>\n",
       "      <th>svcs_days_since_had_last_video</th>\n",
       "      <td>84251</td>\n",
       "      <td>49.8</td>\n",
       "    </tr>\n",
       "    <tr>\n",
       "      <th>svcs_days_since_most_recent_x1</th>\n",
       "      <td>66322</td>\n",
       "      <td>39.2</td>\n",
       "    </tr>\n",
       "    <tr>\n",
       "      <th>vi_minsperacctdvrmin</th>\n",
       "      <td>56215</td>\n",
       "      <td>33.2</td>\n",
       "    </tr>\n",
       "    <tr>\n",
       "      <th>vi_minsperacct</th>\n",
       "      <td>56215</td>\n",
       "      <td>33.2</td>\n",
       "    </tr>\n",
       "    <tr>\n",
       "      <th>vi_minsperacctlinearmin</th>\n",
       "      <td>56215</td>\n",
       "      <td>33.2</td>\n",
       "    </tr>\n",
       "    <tr>\n",
       "      <th>vi_minsperaccttotalmin</th>\n",
       "      <td>56215</td>\n",
       "      <td>33.2</td>\n",
       "    </tr>\n",
       "    <tr>\n",
       "      <th>vi_minsperacctvodmin</th>\n",
       "      <td>56215</td>\n",
       "      <td>33.2</td>\n",
       "    </tr>\n",
       "    <tr>\n",
       "      <th>tts_total_tickets_l90d</th>\n",
       "      <td>56018</td>\n",
       "      <td>33.1</td>\n",
       "    </tr>\n",
       "    <tr>\n",
       "      <th>tts_total_tickets_dayssince</th>\n",
       "      <td>56018</td>\n",
       "      <td>33.1</td>\n",
       "    </tr>\n",
       "    <tr>\n",
       "      <th>svcs_days_since_had_last_hsd</th>\n",
       "      <td>52864</td>\n",
       "      <td>31.2</td>\n",
       "    </tr>\n",
       "    <tr>\n",
       "      <th>expdemo_consumer_cell_phone_ai</th>\n",
       "      <td>50467</td>\n",
       "      <td>29.8</td>\n",
       "    </tr>\n",
       "    <tr>\n",
       "      <th>offer_months_duration</th>\n",
       "      <td>45008</td>\n",
       "      <td>26.6</td>\n",
       "    </tr>\n",
       "    <tr>\n",
       "      <th>offer_prod_mix_name</th>\n",
       "      <td>45008</td>\n",
       "      <td>26.6</td>\n",
       "    </tr>\n",
       "    <tr>\n",
       "      <th>mrc_net_offer_amt</th>\n",
       "      <td>45008</td>\n",
       "      <td>26.6</td>\n",
       "    </tr>\n",
       "    <tr>\n",
       "      <th>email_clk_fmt_h_l90d</th>\n",
       "      <td>35044</td>\n",
       "      <td>20.7</td>\n",
       "    </tr>\n",
       "    <tr>\n",
       "      <th>email_opn_anycom_l90d</th>\n",
       "      <td>35044</td>\n",
       "      <td>20.7</td>\n",
       "    </tr>\n",
       "    <tr>\n",
       "      <th>email_opn_anynet_l90d</th>\n",
       "      <td>35044</td>\n",
       "      <td>20.7</td>\n",
       "    </tr>\n",
       "    <tr>\n",
       "      <th>svcs_video_days_on_books</th>\n",
       "      <td>33771</td>\n",
       "      <td>20.0</td>\n",
       "    </tr>\n",
       "    <tr>\n",
       "      <th>svcs_days_since_most_recent_video</th>\n",
       "      <td>33771</td>\n",
       "      <td>20.0</td>\n",
       "    </tr>\n",
       "    <tr>\n",
       "      <th>demo_num_adults_living_unit</th>\n",
       "      <td>33379</td>\n",
       "      <td>19.7</td>\n",
       "    </tr>\n",
       "    <tr>\n",
       "      <th>demo_children_num_hh</th>\n",
       "      <td>33372</td>\n",
       "      <td>19.7</td>\n",
       "    </tr>\n",
       "    <tr>\n",
       "      <th>demo_len_of_res</th>\n",
       "      <td>33190</td>\n",
       "      <td>19.6</td>\n",
       "    </tr>\n",
       "    <tr>\n",
       "      <th>number_of_products_6m</th>\n",
       "      <td>24124</td>\n",
       "      <td>14.3</td>\n",
       "    </tr>\n",
       "    <tr>\n",
       "      <th>expdemo_consumer_purchase_via_on_line</th>\n",
       "      <td>13257</td>\n",
       "      <td>7.8</td>\n",
       "    </tr>\n",
       "    <tr>\n",
       "      <th>expdemo_consumer_presence_cell_phone</th>\n",
       "      <td>13152</td>\n",
       "      <td>7.8</td>\n",
       "    </tr>\n",
       "    <tr>\n",
       "      <th>total_mrc_amt</th>\n",
       "      <td>10661</td>\n",
       "      <td>6.3</td>\n",
       "    </tr>\n",
       "    <tr>\n",
       "      <th>svcs_days_since_most_recent_hsd</th>\n",
       "      <td>3032</td>\n",
       "      <td>1.8</td>\n",
       "    </tr>\n",
       "    <tr>\n",
       "      <th>svcs_hsd_days_on_books</th>\n",
       "      <td>3032</td>\n",
       "      <td>1.8</td>\n",
       "    </tr>\n",
       "    <tr>\n",
       "      <th>expdemo_census_median_hh_income</th>\n",
       "      <td>552</td>\n",
       "      <td>0.3</td>\n",
       "    </tr>\n",
       "    <tr>\n",
       "      <th>expdemo_census_avg_hhsize</th>\n",
       "      <td>552</td>\n",
       "      <td>0.3</td>\n",
       "    </tr>\n",
       "    <tr>\n",
       "      <th>expdemo_census_pct_pop_asian_only</th>\n",
       "      <td>552</td>\n",
       "      <td>0.3</td>\n",
       "    </tr>\n",
       "    <tr>\n",
       "      <th>expdemo_census_pct_pop_age_10_13</th>\n",
       "      <td>552</td>\n",
       "      <td>0.3</td>\n",
       "    </tr>\n",
       "    <tr>\n",
       "      <th>expdemo_census_pct_pop_black_only</th>\n",
       "      <td>552</td>\n",
       "      <td>0.3</td>\n",
       "    </tr>\n",
       "    <tr>\n",
       "      <th>expdemo_census_pct_pop_age_14_17</th>\n",
       "      <td>552</td>\n",
       "      <td>0.3</td>\n",
       "    </tr>\n",
       "    <tr>\n",
       "      <th>expdemo_census_pct_pop_age_18_20</th>\n",
       "      <td>552</td>\n",
       "      <td>0.3</td>\n",
       "    </tr>\n",
       "    <tr>\n",
       "      <th>expdemo_census_pct_pop_age_18_65</th>\n",
       "      <td>552</td>\n",
       "      <td>0.3</td>\n",
       "    </tr>\n",
       "    <tr>\n",
       "      <th>expdemo_census_pct_pop_age_5_9</th>\n",
       "      <td>552</td>\n",
       "      <td>0.3</td>\n",
       "    </tr>\n",
       "    <tr>\n",
       "      <th>expdemo_census_pop_per_sq_mile</th>\n",
       "      <td>552</td>\n",
       "      <td>0.3</td>\n",
       "    </tr>\n",
       "    <tr>\n",
       "      <th>expdemo_census_pop_age_3plus</th>\n",
       "      <td>552</td>\n",
       "      <td>0.3</td>\n",
       "    </tr>\n",
       "    <tr>\n",
       "      <th>expdemo_census_pop_age_15plus</th>\n",
       "      <td>552</td>\n",
       "      <td>0.3</td>\n",
       "    </tr>\n",
       "  </tbody>\n",
       "</table>\n",
       "</div>"
      ],
      "text/plain": [
       "                                         Total     %\n",
       "svcs_days_since_most_recent_xh          158054  93.4\n",
       "svcs_xh_days_on_books                   158054  93.4\n",
       "svcs_days_since_last_x1_product_ended   128387  75.9\n",
       "svcs_days_since_had_last_cdv            118078  69.8\n",
       "wifi_total_gb                           113509  67.1\n",
       "svcs_days_since_last_dvr_service_ended  109366  64.6\n",
       "cdv_total_min                            95223  56.3\n",
       "svcs_cdv_days_on_books                   90618  53.6\n",
       "svcs_days_since_most_recent_cdv          90618  53.6\n",
       "svcs_days_since_last_hd_service_ended    87047  51.4\n",
       "svcs_days_since_had_last_video           84251  49.8\n",
       "svcs_days_since_most_recent_x1           66322  39.2\n",
       "vi_minsperacctdvrmin                     56215  33.2\n",
       "vi_minsperacct                           56215  33.2\n",
       "vi_minsperacctlinearmin                  56215  33.2\n",
       "vi_minsperaccttotalmin                   56215  33.2\n",
       "vi_minsperacctvodmin                     56215  33.2\n",
       "tts_total_tickets_l90d                   56018  33.1\n",
       "tts_total_tickets_dayssince              56018  33.1\n",
       "svcs_days_since_had_last_hsd             52864  31.2\n",
       "expdemo_consumer_cell_phone_ai           50467  29.8\n",
       "offer_months_duration                    45008  26.6\n",
       "offer_prod_mix_name                      45008  26.6\n",
       "mrc_net_offer_amt                        45008  26.6\n",
       "email_clk_fmt_h_l90d                     35044  20.7\n",
       "email_opn_anycom_l90d                    35044  20.7\n",
       "email_opn_anynet_l90d                    35044  20.7\n",
       "svcs_video_days_on_books                 33771  20.0\n",
       "svcs_days_since_most_recent_video        33771  20.0\n",
       "demo_num_adults_living_unit              33379  19.7\n",
       "demo_children_num_hh                     33372  19.7\n",
       "demo_len_of_res                          33190  19.6\n",
       "number_of_products_6m                    24124  14.3\n",
       "expdemo_consumer_purchase_via_on_line    13257   7.8\n",
       "expdemo_consumer_presence_cell_phone     13152   7.8\n",
       "total_mrc_amt                            10661   6.3\n",
       "svcs_days_since_most_recent_hsd           3032   1.8\n",
       "svcs_hsd_days_on_books                    3032   1.8\n",
       "expdemo_census_median_hh_income            552   0.3\n",
       "expdemo_census_avg_hhsize                  552   0.3\n",
       "expdemo_census_pct_pop_asian_only          552   0.3\n",
       "expdemo_census_pct_pop_age_10_13           552   0.3\n",
       "expdemo_census_pct_pop_black_only          552   0.3\n",
       "expdemo_census_pct_pop_age_14_17           552   0.3\n",
       "expdemo_census_pct_pop_age_18_20           552   0.3\n",
       "expdemo_census_pct_pop_age_18_65           552   0.3\n",
       "expdemo_census_pct_pop_age_5_9             552   0.3\n",
       "expdemo_census_pop_per_sq_mile             552   0.3\n",
       "expdemo_census_pop_age_3plus               552   0.3\n",
       "expdemo_census_pop_age_15plus              552   0.3"
      ]
     },
     "execution_count": 193,
     "metadata": {},
     "output_type": "execute_result"
    }
   ],
   "source": [
    "# Look at what data is missing:\n",
    "total = df.isnull().sum().sort_values(ascending=False)\n",
    "percent_1 = df.isnull().sum()/df.isnull().count()*100\n",
    "percent_2 = (round(percent_1, 1)).sort_values(ascending=False)\n",
    "missing_data = pd.concat([total, percent_2], axis=1, keys=['Total', '%'])\n",
    "missing_data.sort_values(by='Total',ascending=False).head(50)"
   ]
  },
  {
   "cell_type": "code",
   "execution_count": 194,
   "metadata": {},
   "outputs": [],
   "source": [
    "# Some columns with missing data seem to be counters, Fillna with 0 for those.\n",
    "cols = ['svcs_days_since_most_recent_xh','svcs_xh_days_on_books','svcs_days_since_last_x1_product_ended','svcs_days_since_had_last_cdv','svcs_days_since_last_dvr_service_ended','svcs_cdv_days_on_books','svcs_days_since_most_recent_cdv','svcs_days_since_last_hd_service_ended','svcs_days_since_had_last_video','svcs_days_since_most_recent_x1','svcs_days_since_had_last_hsd','offer_months_duration','svcs_video_days_on_books','svcs_days_since_most_recent_video','svcs_days_since_most_recent_hsd','svcs_hsd_days_on_books']\n",
    "df[cols] = df[cols].fillna(0)"
   ]
  },
  {
   "cell_type": "code",
   "execution_count": 195,
   "metadata": {},
   "outputs": [],
   "source": [
    "# Convert num of children to float\n",
    "df['demo_children_num_hh'][df['demo_children_num_hh']=='7+']='7'\n",
    "df['demo_children_num_hh'][df['demo_children_num_hh']==0.0]='0'\n",
    "df['demo_children_num_hh'][df['demo_children_num_hh']==1.0]='1'\n",
    "df['demo_children_num_hh'][df['demo_children_num_hh']==2.0]='2'\n",
    "df['demo_children_num_hh'][df['demo_children_num_hh']==3.0]='3'\n",
    "df['demo_children_num_hh'][df['demo_children_num_hh']==4.0]='4'\n",
    "df['demo_children_num_hh'][df['demo_children_num_hh']==5.0]='5'\n",
    "df['demo_children_num_hh'][df['demo_children_num_hh']==6.0]='6'"
   ]
  },
  {
   "cell_type": "code",
   "execution_count": 196,
   "metadata": {},
   "outputs": [
    {
     "data": {
      "text/plain": [
       "BLAST HSD                  59916\n",
       "PERFORMANCE TIER HSD       53670\n",
       "EXTREME 105/150 HSD        11836\n",
       "PERFORMANCE 25 HSD         10300\n",
       "NO HSD                      9095\n",
       "BLAST PRO HSD               6183\n",
       "PERFORMANCE PRO HSD         5972\n",
       "INTERNET ESSENTIALS HSD     4575\n",
       "PERFORMANCE STARTER HSD     3852\n",
       "ECONOMY PLUS HSD            1432\n",
       "GIGABIT PRO HSD             1360\n",
       "EXTREME 250/505 HSD          934\n",
       "INTERNET 5 HSD                36\n",
       "ULTRA HSD                      6\n",
       "Name: svcs_hsd_tier_name, dtype: int64"
      ]
     },
     "execution_count": 196,
     "metadata": {},
     "output_type": "execute_result"
    }
   ],
   "source": [
    "df['svcs_hsd_tier_name'].value_counts()"
   ]
  },
  {
   "cell_type": "code",
   "execution_count": 197,
   "metadata": {},
   "outputs": [],
   "source": [
    "hsd_tier = {\"BLAST HSD\": 0, \n",
    "            \"PERFORMANCE TIER HSD\": 1,\n",
    "            \"EXTREME 105/150 HSD\": 2,\n",
    "            \"PERFORMANCE 25 HSD\": 3,\n",
    "            \"NO HSD\": 4,\n",
    "            \"BLAST PRO HSD\": 5,\n",
    "            \"PERFORMANCE PRO HSD\": 6,\n",
    "            \"INTERNET ESSENTIALS HSD\": 7,\n",
    "            \"ECONOMY PLUS HSD\": 8,\n",
    "            \"GIGABIT PRO HSD\": 9,\n",
    "            \"EXTREME 250/505 HSD\": 10,\n",
    "            \"INTERNET 5 HSD\": 11,\n",
    "            \"ULTRA HSD\": 12\n",
    "           }\n",
    "df['svcs_hsd_tier_name'] = df['svcs_hsd_tier_name'].map(hsd_tier)"
   ]
  },
  {
   "cell_type": "code",
   "execution_count": 198,
   "metadata": {},
   "outputs": [],
   "source": [
    "# Picking a few features that look like could contribute to XM attach rate\n",
    "feats = ['email_opn_anycom_l90d','number_of_products','total_mrc_amt','auto_pay_enrollment','demo_children_num_hh','svcs_hsd_tier_name']"
   ]
  },
  {
   "cell_type": "code",
   "execution_count": 199,
   "metadata": {
    "scrolled": true
   },
   "outputs": [
    {
     "name": "stderr",
     "output_type": "stream",
     "text": [
      "C:\\Users\\dkim207\\AppData\\Local\\Continuum\\anaconda3\\envs\\py3\\lib\\site-packages\\matplotlib\\axes\\_axes.py:6462: UserWarning: The 'normed' kwarg is deprecated, and has been replaced by the 'density' kwarg.\n",
      "  warnings.warn(\"The 'normed' kwarg is deprecated, and has been \"\n",
      "C:\\Users\\dkim207\\AppData\\Local\\Continuum\\anaconda3\\envs\\py3\\lib\\site-packages\\matplotlib\\axes\\_axes.py:6462: UserWarning: The 'normed' kwarg is deprecated, and has been replaced by the 'density' kwarg.\n",
      "  warnings.warn(\"The 'normed' kwarg is deprecated, and has been \"\n",
      "C:\\Users\\dkim207\\AppData\\Local\\Continuum\\anaconda3\\envs\\py3\\lib\\site-packages\\matplotlib\\axes\\_axes.py:6462: UserWarning: The 'normed' kwarg is deprecated, and has been replaced by the 'density' kwarg.\n",
      "  warnings.warn(\"The 'normed' kwarg is deprecated, and has been \"\n",
      "C:\\Users\\dkim207\\AppData\\Local\\Continuum\\anaconda3\\envs\\py3\\lib\\site-packages\\matplotlib\\axes\\_axes.py:6462: UserWarning: The 'normed' kwarg is deprecated, and has been replaced by the 'density' kwarg.\n",
      "  warnings.warn(\"The 'normed' kwarg is deprecated, and has been \"\n"
     ]
    },
    {
     "data": {
      "image/png": "[encoded data removed]",
      "text/plain": [
       "<Figure size 720x288 with 2 Axes>"
      ]
     },
     "metadata": {},
     "output_type": "display_data"
    }
   ],
   "source": [
    "# Number of Products and Auto Pay\n",
    "attached = 'attached'\n",
    "not_attached = 'not attached'\n",
    "fig, axes = plt.subplots(nrows=1, ncols=2,figsize=(10, 4))\n",
    "autopay = df[df['auto_pay_enrollment']==1]\n",
    "no_autopay = df[df['auto_pay_enrollment']==0]\n",
    "ax = sns.distplot(autopay[autopay[TargetVar]==1].number_of_products.dropna(), bins=18, label = attached, ax = axes[0], kde =False)\n",
    "ax = sns.distplot(autopay[autopay[TargetVar]==0].number_of_products.dropna(), bins=40, label = not_attached, ax = axes[0], kde =False)\n",
    "ax.legend()\n",
    "ax.set_title('Auto Pay')\n",
    "ax = sns.distplot(no_autopay[no_autopay[TargetVar]==1].number_of_products.dropna(), bins=18, label = attached, ax = axes[1], kde =False)\n",
    "ax = sns.distplot(no_autopay[no_autopay[TargetVar]==0].number_of_products.dropna(), bins=40, label = not_attached, ax = axes[1], kde =False)\n",
    "ax.legend()\n",
    "_ = ax.set_title('No Auto Pay')"
   ]
  },
  {
   "cell_type": "markdown",
   "metadata": {},
   "source": [
    "It seems that being on Auto Pay has no importance, which is interesting as Auto Pay is the only payment option available on XM. However **customers with Triple or Quad play have seem to have increased odds of XM attach**, this is not a surprise as this would naturally represent customers with higher brand loyalty. "
   ]
  },
  {
   "cell_type": "code",
   "execution_count": 200,
   "metadata": {},
   "outputs": [
    {
     "data": {
      "text/plain": [
       "<matplotlib.axes._subplots.AxesSubplot at 0x1e435fb95c0>"
      ]
     },
     "execution_count": 200,
     "metadata": {},
     "output_type": "execute_result"
    },
    {
     "data": {
      "image/png": "[encoded data removed]",
      "text/plain": [
       "<Figure size 432x288 with 1 Axes>"
      ]
     },
     "metadata": {},
     "output_type": "display_data"
    }
   ],
   "source": [
    "#Children in hh\n",
    "sns.barplot(x='demo_children_num_hh', y='target_addxm', data=df, palette=\"Blues_d\")\n",
    "\n",
    "#A bar plot represents an estimate of central tendency for a numeric variable\n",
    "#with the height of each rectangle and provides some indication of the uncertainty around that estimate using error bars."
   ]
  },
  {
   "cell_type": "markdown",
   "metadata": {},
   "source": [
    "It looks like number of children in hh may not contribute to an account's XM attach rate prediction."
   ]
  },
  {
   "cell_type": "code",
   "execution_count": 201,
   "metadata": {},
   "outputs": [
    {
     "data": {
      "text/plain": [
       "<matplotlib.axes._subplots.AxesSubplot at 0x1e43559cd68>"
      ]
     },
     "execution_count": 201,
     "metadata": {},
     "output_type": "execute_result"
    },
    {
     "data": {
      "image/png": "[encoded data removed]",
      "text/plain": [
       "<Figure size 432x288 with 1 Axes>"
      ]
     },
     "metadata": {},
     "output_type": "display_data"
    }
   ],
   "source": [
    "#Number of Products\n",
    "sns.barplot(x='number_of_products', y='target_addxm', data=df, palette=\"Blues_d\")\n",
    "\n",
    "#A bar plot represents an estimate of central tendency for a numeric variable\n",
    "#with the height of each rectangle and provides some indication of the uncertainty around that estimate using error bars."
   ]
  },
  {
   "cell_type": "markdown",
   "metadata": {},
   "source": [
    "**customers with Triple or Quad play have seem to have increased odds of XM attach, especially Quad play**. This is not a surprise as this would naturally represent customers with higher brand loyalty. "
   ]
  },
  {
   "cell_type": "code",
   "execution_count": 202,
   "metadata": {},
   "outputs": [
    {
     "data": {
      "text/plain": [
       "<matplotlib.axes._subplots.AxesSubplot at 0x1e4370bab70>"
      ]
     },
     "execution_count": 202,
     "metadata": {},
     "output_type": "execute_result"
    },
    {
     "data": {
      "image/png": "[encoded data removed]",
      "text/plain": [
       "<Figure size 432x288 with 1 Axes>"
      ]
     },
     "metadata": {},
     "output_type": "display_data"
    }
   ],
   "source": [
    "#Number of Products\n",
    "sns.barplot(x='auto_pay_enrollment', y='target_addxm', data=df, palette=\"Blues_d\")\n",
    "\n",
    "#A bar plot represents an estimate of central tendency for a numeric variable\n",
    "#with the height of each rectangle and provides some indication of the uncertainty around that estimate using error bars."
   ]
  },
  {
   "cell_type": "markdown",
   "metadata": {},
   "source": [
    "It seems that being on Auto Pay has no importance, which is interesting as Auto Pay is the only payment option available on XM."
   ]
  },
  {
   "cell_type": "code",
   "execution_count": 271,
   "metadata": {},
   "outputs": [
    {
     "data": {
      "text/plain": [
       "<matplotlib.axes._subplots.AxesSubplot at 0x1e428450e10>"
      ]
     },
     "execution_count": 271,
     "metadata": {},
     "output_type": "execute_result"
    },
    {
     "data": {
      "image/png": "[encoded data removed]",
      "text/plain": [
       "<Figure size 432x288 with 1 Axes>"
      ]
     },
     "metadata": {},
     "output_type": "display_data"
    }
   ],
   "source": [
    "#Number of Products\n",
    "sns.barplot(x='svcs_hsd_tier_name', y='target_addxm', data=df, palette=\"Blues_d\")\n",
    "\n",
    "#A bar plot represents an estimate of central tendency for a numeric variable\n",
    "#with the height of each rectangle and provides some indication of the uncertainty around that estimate using error bars."
   ]
  },
  {
   "cell_type": "markdown",
   "metadata": {},
   "source": [
    "9 = Gigabit\n",
    "\n",
    "4 = No HSD\n",
    "\n",
    "5 = Blast Pro\n",
    "\n",
    "10 = Extreme 250/505\n",
    "\n",
    "Gigabit subscribers look like the most XM likely customers, and NO HSD subscribers also showing higher likelihood. These are 2 opposite ends of the spectrum but also make sense - Gigabit customers likely would want to consolidate their broadband with 1 company, and also would appreciate the Verizon network. On the other hand HSD is required for XM, so for anyone who is interested in XM they would have to add HSD."
   ]
  },
  {
   "cell_type": "markdown",
   "metadata": {},
   "source": [
    "## Create new feature"
   ]
  },
  {
   "cell_type": "code",
   "execution_count": 204,
   "metadata": {},
   "outputs": [],
   "source": [
    "# Number of Products + Visited the website\n",
    "df['num_prod_site_visited']= df['number_of_products'] + df['visited_digital_last_30_days']"
   ]
  },
  {
   "cell_type": "markdown",
   "metadata": {},
   "source": [
    "# **Data Prep**"
   ]
  },
  {
   "cell_type": "code",
   "execution_count": 205,
   "metadata": {},
   "outputs": [],
   "source": [
    "#Dropping columns with more than 85% of missing values\n",
    "df = df.dropna(thresh=len(df)*0.15, axis=1)"
   ]
  },
  {
   "cell_type": "code",
   "execution_count": 206,
   "metadata": {},
   "outputs": [
    {
     "name": "stdout",
     "output_type": "stream",
     "text": [
      "Columns with Object types\n",
      "0           serloc_biller_dwelling_type_desc\n",
      "1               cusacc_current_division_name\n",
      "2                 cusacc_current_region_name\n",
      "3                 cusacc_electronic_bill_ind\n",
      "4                        offer_prod_mix_name\n",
      "5                       svcs_video_tier_name\n",
      "6                         svcs_cdv_tier_name\n",
      "7        expdemo_consumer_dwelling_unit_size\n",
      "8             expdemo_consumer_dwelling_type\n",
      "9     expdemo_consumer_comb_homeowner_renter\n",
      "10      expdemo_consumer_estimated_hh_income\n",
      "11     expdemo_consumer_purchase_via_on_line\n",
      "12      expdemo_consumer_presence_cell_phone\n",
      "13            expdemo_consumer_cell_phone_ai\n",
      "14                            vi_minsperacct\n",
      "15                           demo_len_of_res\n",
      "16                      demo_children_num_hh\n",
      "dtype: object\n",
      "=============\n",
      "Number of Missing\n",
      "serloc_biller_dwelling_type_desc              0\n",
      "cusacc_current_division_name                  0\n",
      "cusacc_current_region_name                    0\n",
      "cusacc_electronic_bill_ind                    0\n",
      "offer_prod_mix_name                       45008\n",
      "svcs_video_tier_name                         37\n",
      "svcs_cdv_tier_name                           37\n",
      "expdemo_consumer_dwelling_unit_size         527\n",
      "expdemo_consumer_dwelling_type              527\n",
      "expdemo_consumer_comb_homeowner_renter      527\n",
      "expdemo_consumer_estimated_hh_income        527\n",
      "expdemo_consumer_purchase_via_on_line     13257\n",
      "expdemo_consumer_presence_cell_phone      13152\n",
      "expdemo_consumer_cell_phone_ai            50467\n",
      "vi_minsperacct                            56215\n",
      "demo_len_of_res                           33190\n",
      "demo_children_num_hh                      33372\n",
      "dtype: int64\n"
     ]
    }
   ],
   "source": [
    "print('Columns with Object types')\n",
    "print(pd.Series(df.select_dtypes(include=[object]).columns))\n",
    "print('=============')\n",
    "print('Number of Missing')\n",
    "print(df.select_dtypes(include=[object]).isnull().sum())"
   ]
  },
  {
   "cell_type": "code",
   "execution_count": 207,
   "metadata": {},
   "outputs": [
    {
     "data": {
      "text/plain": [
       "count                      169167\n",
       "unique                          8\n",
       "top       DIGITAL PREFERRED VIDEO\n",
       "freq                        74137\n",
       "Name: svcs_video_tier_name, dtype: object"
      ]
     },
     "execution_count": 207,
     "metadata": {},
     "output_type": "execute_result"
    }
   ],
   "source": [
    "#Fill missing data with most common\n",
    "df['svcs_video_tier_name'].describe()"
   ]
  },
  {
   "cell_type": "code",
   "execution_count": 208,
   "metadata": {},
   "outputs": [],
   "source": [
    "common_value = 'DIGITAL PREFERRED VIDEO'\n",
    "df['svcs_video_tier_name'] = df['svcs_video_tier_name'].fillna(common_value)"
   ]
  },
  {
   "cell_type": "code",
   "execution_count": 209,
   "metadata": {},
   "outputs": [
    {
     "data": {
      "text/plain": [
       "count     169167\n",
       "unique         3\n",
       "top       NO CDV\n",
       "freq       90582\n",
       "Name: svcs_cdv_tier_name, dtype: object"
      ]
     },
     "execution_count": 209,
     "metadata": {},
     "output_type": "execute_result"
    }
   ],
   "source": [
    "df['svcs_cdv_tier_name'].describe()"
   ]
  },
  {
   "cell_type": "code",
   "execution_count": 210,
   "metadata": {},
   "outputs": [],
   "source": [
    "common_value = 'NO CDV'\n",
    "df['svcs_cdv_tier_name'] = df['svcs_cdv_tier_name'].fillna(common_value)"
   ]
  },
  {
   "cell_type": "code",
   "execution_count": 211,
   "metadata": {},
   "outputs": [
    {
     "data": {
      "text/plain": [
       "count     168677\n",
       "unique         9\n",
       "top            A\n",
       "freq      127529\n",
       "Name: expdemo_consumer_dwelling_unit_size, dtype: object"
      ]
     },
     "execution_count": 211,
     "metadata": {},
     "output_type": "execute_result"
    }
   ],
   "source": [
    "df['expdemo_consumer_dwelling_unit_size'].describe()"
   ]
  },
  {
   "cell_type": "code",
   "execution_count": 212,
   "metadata": {},
   "outputs": [
    {
     "data": {
      "text/plain": [
       "count     168677\n",
       "unique         4\n",
       "top            S\n",
       "freq      126773\n",
       "Name: expdemo_consumer_dwelling_type, dtype: object"
      ]
     },
     "execution_count": 212,
     "metadata": {},
     "output_type": "execute_result"
    }
   ],
   "source": [
    "df['expdemo_consumer_dwelling_type'].describe()"
   ]
  },
  {
   "cell_type": "code",
   "execution_count": 213,
   "metadata": {},
   "outputs": [
    {
     "data": {
      "text/plain": [
       "count     168677\n",
       "unique         7\n",
       "top            H\n",
       "freq       95557\n",
       "Name: expdemo_consumer_comb_homeowner_renter, dtype: object"
      ]
     },
     "execution_count": 213,
     "metadata": {},
     "output_type": "execute_result"
    }
   ],
   "source": [
    "df['expdemo_consumer_comb_homeowner_renter'].describe()"
   ]
  },
  {
   "cell_type": "code",
   "execution_count": 214,
   "metadata": {},
   "outputs": [
    {
     "data": {
      "text/plain": [
       "count     168677\n",
       "unique        13\n",
       "top            E\n",
       "freq       29817\n",
       "Name: expdemo_consumer_estimated_hh_income, dtype: object"
      ]
     },
     "execution_count": 214,
     "metadata": {},
     "output_type": "execute_result"
    }
   ],
   "source": [
    "df['expdemo_consumer_estimated_hh_income'].describe()"
   ]
  },
  {
   "cell_type": "code",
   "execution_count": 215,
   "metadata": {},
   "outputs": [],
   "source": [
    "common_value = 'A'\n",
    "df['expdemo_consumer_dwelling_unit_size'] = df['expdemo_consumer_dwelling_unit_size'].fillna(common_value)"
   ]
  },
  {
   "cell_type": "code",
   "execution_count": 216,
   "metadata": {},
   "outputs": [],
   "source": [
    "common_value = 'S'\n",
    "df['expdemo_consumer_dwelling_type'] = df['expdemo_consumer_dwelling_type'].fillna(common_value)"
   ]
  },
  {
   "cell_type": "code",
   "execution_count": 217,
   "metadata": {},
   "outputs": [],
   "source": [
    "common_value = 'H'\n",
    "df['expdemo_consumer_comb_homeowner_renter'] = df['expdemo_consumer_comb_homeowner_renter'].fillna(common_value)"
   ]
  },
  {
   "cell_type": "code",
   "execution_count": 218,
   "metadata": {},
   "outputs": [],
   "source": [
    "common_value = 'E'\n",
    "df['expdemo_consumer_estimated_hh_income'] = df['expdemo_consumer_estimated_hh_income'].fillna(common_value)"
   ]
  },
  {
   "cell_type": "code",
   "execution_count": 219,
   "metadata": {},
   "outputs": [],
   "source": [
    "#Identify object type columns\n",
    "obj_columns = list(pd.Series(df.select_dtypes(include=[object]).columns))\n",
    "\n",
    "#Convert objects to numeric\n",
    "for name in obj_columns:\n",
    "    col = pd.Categorical(df[name])\n",
    "    df[name] = col.codes"
   ]
  },
  {
   "cell_type": "code",
   "execution_count": 220,
   "metadata": {},
   "outputs": [
    {
     "name": "stdout",
     "output_type": "stream",
     "text": [
      "Columns with Object types\n",
      "Series([], dtype: object)\n",
      "=============\n",
      "Number of Missing\n",
      "Series([], dtype: float64)\n"
     ]
    }
   ],
   "source": [
    "#Confirm there are no object columns left\n",
    "print('Columns with Object types')\n",
    "print(pd.Series(df.select_dtypes(include=[object]).columns))\n",
    "print('=============')\n",
    "print('Number of Missing')\n",
    "print(df.select_dtypes(include=[object]).isnull().sum())"
   ]
  },
  {
   "cell_type": "code",
   "execution_count": 221,
   "metadata": {},
   "outputs": [],
   "source": [
    "#Splitting Target from the rest of the data frame\n",
    "#Features\n",
    "df_x = df.drop(TargetVar, 1)\n",
    "#Target\n",
    "df_y = df.loc[:, [TargetVar]]\n",
    "y = df_y.values"
   ]
  },
  {
   "cell_type": "code",
   "execution_count": 222,
   "metadata": {},
   "outputs": [],
   "source": [
    "#Get columns and split numeric columns for outlier identification\n",
    "Columns = list(df_x)\n",
    "Num_Columns = list(df_x.loc[:, df_x.dtypes == 'float64'])"
   ]
  },
  {
   "cell_type": "code",
   "execution_count": 223,
   "metadata": {},
   "outputs": [],
   "source": [
    "#Dealing with outliers and Replacing missing values with mean value of columns\n",
    "down_quantiles = df_x[Num_Columns].quantile(0.05)\n",
    "up_quantiles = df_x[Num_Columns].quantile(0.95)\n",
    "df_x[Num_Columns] = df_x[Num_Columns].mask(df_x < down_quantiles, down_quantiles, axis=1)   \n",
    "df_x[Num_Columns] = df_x[Num_Columns].mask(df_x > up_quantiles, up_quantiles, axis=1)"
   ]
  },
  {
   "cell_type": "code",
   "execution_count": 224,
   "metadata": {},
   "outputs": [],
   "source": [
    "#Features with cleaned data, fillna with mean for remainder\n",
    "df_x = df_x.apply(lambda x:x.fillna(x.mean()))\n",
    "x = df_x.values"
   ]
  },
  {
   "cell_type": "code",
   "execution_count": 225,
   "metadata": {},
   "outputs": [
    {
     "data": {
      "image/png": "[encoded data removed]",
      "text/plain": [
       "<Figure size 432x288 with 1 Axes>"
      ]
     },
     "metadata": {},
     "output_type": "display_data"
    }
   ],
   "source": [
    "#Bin the MRC amount\n",
    "num_bins = 6\n",
    "n, bins, patches = plt.hist(df_x['total_mrc_amt'], num_bins, facecolor='blue', alpha=0.5)\n",
    "plt.show()"
   ]
  },
  {
   "cell_type": "code",
   "execution_count": 226,
   "metadata": {},
   "outputs": [],
   "source": [
    "df_x['total_mrc_amt_bin'] = df_x['total_mrc_amt']\n",
    "df_x.loc[ df_x['total_mrc_amt_bin'] <= 50, 'total_mrc_amt_bin'] = 0\n",
    "df_x.loc[(df_x['total_mrc_amt_bin'] > 50) & (df_x['total_mrc_amt_bin'] <= 100), 'total_mrc_amt_bin'] = 1\n",
    "df_x.loc[(df_x['total_mrc_amt_bin'] > 100) & (df_x['total_mrc_amt_bin'] <= 150), 'total_mrc_amt_bin'] = 2\n",
    "df_x.loc[(df_x['total_mrc_amt_bin'] > 150) & (df_x['total_mrc_amt_bin'] <= 200), 'total_mrc_amt_bin'] = 3\n",
    "df_x.loc[(df_x['total_mrc_amt_bin'] > 200) & (df_x['total_mrc_amt_bin'] <= 250), 'total_mrc_amt_bin'] = 4\n",
    "df_x.loc[ df_x['total_mrc_amt_bin'] > 250, 'total_mrc_amt_bin'] = 5\n",
    "df_x['total_mrc_amt_bin'] = df_x['total_mrc_amt_bin'].astype(int)"
   ]
  },
  {
   "cell_type": "code",
   "execution_count": 227,
   "metadata": {},
   "outputs": [
    {
     "data": {
      "text/plain": [
       "2    45367\n",
       "3    41333\n",
       "1    34974\n",
       "4    32427\n",
       "0    15103\n",
       "Name: total_mrc_amt_bin, dtype: int64"
      ]
     },
     "execution_count": 227,
     "metadata": {},
     "output_type": "execute_result"
    }
   ],
   "source": [
    "# let's see how it's distributed\n",
    "df_x['total_mrc_amt_bin'].value_counts()"
   ]
  },
  {
   "cell_type": "code",
   "execution_count": 228,
   "metadata": {},
   "outputs": [],
   "source": [
    "# Drop numeric MRC column\n",
    "df_x = df_x.drop(['total_mrc_amt'], 1)"
   ]
  },
  {
   "cell_type": "markdown",
   "metadata": {},
   "source": [
    "# **Building the model**"
   ]
  },
  {
   "cell_type": "code",
   "execution_count": 229,
   "metadata": {},
   "outputs": [],
   "source": [
    "dfX_train, dfX_test, dfy_train, dfy_test = train_test_split(df_x, df_y, test_size = .2, random_state=1)\n",
    "X_train = dfX_train.values\n",
    "X_test = dfX_test.values\n",
    "y_train = dfy_train.values \n",
    "y_test = dfy_test.values"
   ]
  },
  {
   "cell_type": "code",
   "execution_count": 238,
   "metadata": {},
   "outputs": [
    {
     "name": "stderr",
     "output_type": "stream",
     "text": [
      "C:\\Users\\dkim207\\AppData\\Local\\Continuum\\anaconda3\\envs\\py3\\lib\\site-packages\\ipykernel_launcher.py:7: DataConversionWarning: A column-vector y was passed when a 1d array was expected. Please change the shape of y to (n_samples,), for example using ravel().\n",
      "  import sys\n"
     ]
    },
    {
     "name": "stdout",
     "output_type": "stream",
     "text": [
      "68.43 %\n"
     ]
    }
   ],
   "source": [
    "# Random Forest\n",
    "random_forest = RandomForestClassifier(n_estimators=200, random_state=1, \n",
    "                                       max_depth=10, \n",
    "                                       min_samples_leaf = 4,\n",
    "                                       min_samples_split = 10,\n",
    "                                       n_jobs=-1)\n",
    "random_forest.fit(X_train, y_train)\n",
    "\n",
    "Y_prediction = random_forest.predict(X_test)\n",
    "Y_prediction_train = random_forest.predict(X_train)\n",
    "\n",
    "random_forest.score(X_train, y_train)\n",
    "acc_random_forest = round(random_forest.score(X_train, y_train) * 100, 2)\n",
    "print(round(acc_random_forest,2,), \"%\")"
   ]
  },
  {
   "cell_type": "code",
   "execution_count": 239,
   "metadata": {},
   "outputs": [
    {
     "name": "stdout",
     "output_type": "stream",
     "text": [
      "65.08 %\n"
     ]
    }
   ],
   "source": [
    "acc_random_forest_test = round(random_forest.score(X_test, y_test) * 100, 2)\n",
    "print(round(acc_random_forest_test,2,), \"%\")"
   ]
  },
  {
   "cell_type": "code",
   "execution_count": 49,
   "metadata": {},
   "outputs": [
    {
     "name": "stderr",
     "output_type": "stream",
     "text": [
      "C:\\Users\\dkim207\\AppData\\Local\\Continuum\\anaconda3\\envs\\py3\\lib\\site-packages\\sklearn\\utils\\validation.py:578: DataConversionWarning: A column-vector y was passed when a 1d array was expected. Please change the shape of y to (n_samples, ), for example using ravel().\n",
      "  y = column_or_1d(y, warn=True)\n"
     ]
    },
    {
     "name": "stdout",
     "output_type": "stream",
     "text": [
      "62.47 %\n"
     ]
    }
   ],
   "source": [
    "# Logistic Regression\n",
    "logreg = LogisticRegression(n_jobs=-1)\n",
    "logreg.fit(X_train, y_train)\n",
    "\n",
    "Y_pred_log = logreg.predict(X_test)\n",
    "Y_pred_log_train = logreg.predict(X_train)\n",
    "\n",
    "acc_log = round(logreg.score(X_train, y_train) * 100, 2)\n",
    "print(round(acc_log,2,), \"%\")"
   ]
  },
  {
   "cell_type": "code",
   "execution_count": 97,
   "metadata": {},
   "outputs": [
    {
     "name": "stderr",
     "output_type": "stream",
     "text": [
      "C:\\Users\\dkim207\\AppData\\Local\\Continuum\\anaconda3\\envs\\py3\\lib\\site-packages\\ipykernel_launcher.py:6: DataConversionWarning: A column-vector y was passed when a 1d array was expected. Please change the shape of y to (n_samples, ), for example using ravel().\n",
      "  \n",
      "C:\\Users\\dkim207\\AppData\\Local\\Continuum\\anaconda3\\envs\\py3\\lib\\site-packages\\ipykernel_launcher.py:6: DataConversionWarning: A column-vector y was passed when a 1d array was expected. Please change the shape of y to (n_samples, ), for example using ravel().\n",
      "  \n",
      "C:\\Users\\dkim207\\AppData\\Local\\Continuum\\anaconda3\\envs\\py3\\lib\\site-packages\\ipykernel_launcher.py:6: DataConversionWarning: A column-vector y was passed when a 1d array was expected. Please change the shape of y to (n_samples, ), for example using ravel().\n",
      "  \n",
      "C:\\Users\\dkim207\\AppData\\Local\\Continuum\\anaconda3\\envs\\py3\\lib\\site-packages\\ipykernel_launcher.py:6: DataConversionWarning: A column-vector y was passed when a 1d array was expected. Please change the shape of y to (n_samples, ), for example using ravel().\n",
      "  \n",
      "C:\\Users\\dkim207\\AppData\\Local\\Continuum\\anaconda3\\envs\\py3\\lib\\site-packages\\ipykernel_launcher.py:6: DataConversionWarning: A column-vector y was passed when a 1d array was expected. Please change the shape of y to (n_samples, ), for example using ravel().\n",
      "  \n"
     ]
    },
    {
     "data": {
      "image/png": "[encoded data removed]",
      "text/plain": [
       "<Figure size 432x288 with 1 Axes>"
      ]
     },
     "metadata": {},
     "output_type": "display_data"
    }
   ],
   "source": [
    "import pylab as pl\n",
    "myList = list(range(1,10))\n",
    "Nc = list(filter(lambda x: x % 2 != 0, myList))\n",
    "knn_opt = [KNeighborsClassifier(n_neighbors=i, n_jobs=-1) for i in Nc]\n",
    "\n",
    "score = [knn_opt[i].fit(X_train, y_train).score(X_train, y_train) for i in range(len(knn_opt))]\n",
    "\n",
    "pl.plot(Nc,score)\n",
    "pl.grid(True)\n",
    "pl.xlabel('Number of K')\n",
    "pl.ylabel('Score')\n",
    "pl.title('Elbow Curve')\n",
    "pl.show()"
   ]
  },
  {
   "cell_type": "code",
   "execution_count": 92,
   "metadata": {},
   "outputs": [
    {
     "name": "stderr",
     "output_type": "stream",
     "text": [
      "C:\\Users\\dkim207\\AppData\\Local\\Continuum\\anaconda3\\envs\\py3\\lib\\site-packages\\ipykernel_launcher.py:3: DataConversionWarning: A column-vector y was passed when a 1d array was expected. Please change the shape of y to (n_samples, ), for example using ravel().\n",
      "  This is separate from the ipykernel package so we can avoid doing imports until\n"
     ]
    },
    {
     "name": "stdout",
     "output_type": "stream",
     "text": [
      "75.72 %\n"
     ]
    }
   ],
   "source": [
    "# KNN\n",
    "knn = KNeighborsClassifier(n_neighbors = 3, n_jobs=-1)\n",
    "knn.fit(X_train, y_train)\n",
    "\n",
    "Y_pred_knn = knn.predict(X_test)\n",
    "Y_pred_knn_train = knn.predict(X_train)\n",
    "\n",
    "acc_knn = round(knn.score(X_train, y_train) * 100, 2)\n",
    "print(round(acc_knn,2,), \"%\")"
   ]
  },
  {
   "cell_type": "code",
   "execution_count": 51,
   "metadata": {},
   "outputs": [
    {
     "name": "stderr",
     "output_type": "stream",
     "text": [
      "C:\\Users\\dkim207\\AppData\\Local\\Continuum\\anaconda3\\envs\\py3\\lib\\site-packages\\sklearn\\utils\\validation.py:578: DataConversionWarning: A column-vector y was passed when a 1d array was expected. Please change the shape of y to (n_samples, ), for example using ravel().\n",
      "  y = column_or_1d(y, warn=True)\n"
     ]
    },
    {
     "name": "stdout",
     "output_type": "stream",
     "text": [
      "51.2 %\n"
     ]
    }
   ],
   "source": [
    "# Perceptron\n",
    "perceptron = Perceptron(max_iter=10)\n",
    "perceptron.fit(X_train, y_train)\n",
    "\n",
    "Y_pred_perc = perceptron.predict(X_test)\n",
    "Y_pred_perc_train = perceptron.predict(X_train)\n",
    "\n",
    "acc_perceptron = round(perceptron.score(X_train, y_train) * 100, 2)\n",
    "print(round(acc_perceptron,2,), \"%\")"
   ]
  },
  {
   "cell_type": "code",
   "execution_count": 140,
   "metadata": {},
   "outputs": [
    {
     "name": "stdout",
     "output_type": "stream",
     "text": [
      "65.66 %\n"
     ]
    }
   ],
   "source": [
    "# Decision Tree\n",
    "decision_tree = DecisionTreeClassifier(max_depth=10)\n",
    "decision_tree.fit(X_train, y_train)\n",
    "\n",
    "Y_pred_dt = decision_tree.predict(X_test)\n",
    "Y_pred_dt_train = decision_tree.predict(X_train)\n",
    "\n",
    "acc_decision_tree = round(decision_tree.score(X_train, y_train) * 100, 2)\n",
    "print(round(acc_decision_tree,2,), \"%\")"
   ]
  },
  {
   "cell_type": "code",
   "execution_count": 240,
   "metadata": {},
   "outputs": [
    {
     "data": {
      "text/html": [
       "<div>\n",
       "<style scoped>\n",
       "    .dataframe tbody tr th:only-of-type {\n",
       "        vertical-align: middle;\n",
       "    }\n",
       "\n",
       "    .dataframe tbody tr th {\n",
       "        vertical-align: top;\n",
       "    }\n",
       "\n",
       "    .dataframe thead th {\n",
       "        text-align: right;\n",
       "    }\n",
       "</style>\n",
       "<table border=\"1\" class=\"dataframe\">\n",
       "  <thead>\n",
       "    <tr style=\"text-align: right;\">\n",
       "      <th></th>\n",
       "      <th>Model</th>\n",
       "    </tr>\n",
       "    <tr>\n",
       "      <th>Score</th>\n",
       "      <th></th>\n",
       "    </tr>\n",
       "  </thead>\n",
       "  <tbody>\n",
       "    <tr>\n",
       "      <th>75.72</th>\n",
       "      <td>KNN</td>\n",
       "    </tr>\n",
       "    <tr>\n",
       "      <th>68.43</th>\n",
       "      <td>Random Forest</td>\n",
       "    </tr>\n",
       "    <tr>\n",
       "      <th>65.66</th>\n",
       "      <td>Decision Tree</td>\n",
       "    </tr>\n",
       "    <tr>\n",
       "      <th>62.47</th>\n",
       "      <td>Logistic Regression</td>\n",
       "    </tr>\n",
       "    <tr>\n",
       "      <th>51.20</th>\n",
       "      <td>Perceptron</td>\n",
       "    </tr>\n",
       "  </tbody>\n",
       "</table>\n",
       "</div>"
      ],
      "text/plain": [
       "                     Model\n",
       "Score                     \n",
       "75.72                  KNN\n",
       "68.43        Random Forest\n",
       "65.66        Decision Tree\n",
       "62.47  Logistic Regression\n",
       "51.20           Perceptron"
      ]
     },
     "execution_count": 240,
     "metadata": {},
     "output_type": "execute_result"
    }
   ],
   "source": [
    "results = pd.DataFrame({\n",
    "    'Model': ['KNN', 'Logistic Regression', \n",
    "              'Random Forest', 'Perceptron', \n",
    "              'Decision Tree'],\n",
    "    'Score': [acc_knn, acc_log, \n",
    "              acc_random_forest, acc_perceptron, \n",
    "              acc_decision_tree]})\n",
    "result_df = results.sort_values(by='Score', ascending=False)\n",
    "result_df = result_df.set_index('Score')\n",
    "result_df.head(9)"
   ]
  },
  {
   "cell_type": "markdown",
   "metadata": {},
   "source": [
    "# **K-Fold Cross Validation**\n",
    "\n",
    "K-Fold Cross Validation randomly splits the training data into **K subsets called folds**. Let's image we would split our data into 4 folds (K = 4).  Our random forest model would be trained and evaluated 4 times, using a different fold for evaluation everytime, while it would be trained on the remaining 3 folds. \n",
    "\n",
    "In the first row, the model get's trained on the first, second and third subset and evaluated on the fourth. In the second row, the model get's trained on the second, third and fourth subset and evaluated on the first. K-Fold Cross Validation repeats this process till every fold acted once as an evaluation fold."
   ]
  },
  {
   "cell_type": "code",
   "execution_count": 241,
   "metadata": {},
   "outputs": [],
   "source": [
    "c, r = y_train.shape\n",
    "y_train_reshape = y_train.reshape(c,)"
   ]
  },
  {
   "cell_type": "code",
   "execution_count": 242,
   "metadata": {},
   "outputs": [],
   "source": [
    "from sklearn.model_selection import cross_val_score\n",
    "scores = cross_val_score(random_forest, X_train, y_train_reshape, cv=10, scoring = \"accuracy\", n_jobs=-1)"
   ]
  },
  {
   "cell_type": "code",
   "execution_count": 243,
   "metadata": {},
   "outputs": [
    {
     "name": "stdout",
     "output_type": "stream",
     "text": [
      "Scores: [0.64667208 0.64822339 0.64999631 0.64238753 0.65085697 0.63874113\n",
      " 0.64671986 0.64745863 0.64287825 0.65445142]\n",
      "Mean: 0.6468385577136059\n",
      "Standard Deviation: 0.004329927629424358\n"
     ]
    }
   ],
   "source": [
    "print(\"Scores:\", scores)\n",
    "print(\"Mean:\", scores.mean())\n",
    "print(\"Standard Deviation:\", scores.std())"
   ]
  },
  {
   "cell_type": "markdown",
   "metadata": {},
   "source": [
    "Our model has a average accuracy of 65% with a standard deviation of 0.03%; the accuracy of our model can differ +/- 0.03%"
   ]
  },
  {
   "cell_type": "code",
   "execution_count": 244,
   "metadata": {},
   "outputs": [
    {
     "name": "stdout",
     "output_type": "stream",
     "text": [
      "Scores: [0.51931743 0.51414641 0.52301101 0.51717515 0.52423168 0.51085993\n",
      " 0.5212766  0.52556147 0.51307624 0.51518286]\n",
      "Mean: 0.518383876572569\n",
      "Standard Deviation: 0.004804254915964992\n"
     ]
    }
   ],
   "source": [
    "scoresKNN = cross_val_score(knn, X_train, y_train_reshape, cv=10, scoring = \"accuracy\", n_jobs=-1)\n",
    "print(\"Scores:\", scoresKNN)\n",
    "print(\"Mean:\", scoresKNN.mean())\n",
    "print(\"Standard Deviation:\", scoresKNN.std())"
   ]
  },
  {
   "cell_type": "markdown",
   "metadata": {},
   "source": [
    "## RF Feature Importance"
   ]
  },
  {
   "cell_type": "code",
   "execution_count": 245,
   "metadata": {},
   "outputs": [
    {
     "data": {
      "text/html": [
       "<div>\n",
       "<style scoped>\n",
       "    .dataframe tbody tr th:only-of-type {\n",
       "        vertical-align: middle;\n",
       "    }\n",
       "\n",
       "    .dataframe tbody tr th {\n",
       "        vertical-align: top;\n",
       "    }\n",
       "\n",
       "    .dataframe thead th {\n",
       "        text-align: right;\n",
       "    }\n",
       "</style>\n",
       "<table border=\"1\" class=\"dataframe\">\n",
       "  <thead>\n",
       "    <tr style=\"text-align: right;\">\n",
       "      <th></th>\n",
       "      <th>Features</th>\n",
       "      <th>Score</th>\n",
       "    </tr>\n",
       "  </thead>\n",
       "  <tbody>\n",
       "    <tr>\n",
       "      <th>96</th>\n",
       "      <td>visited_digital_last_30_days</td>\n",
       "      <td>0.149405</td>\n",
       "    </tr>\n",
       "    <tr>\n",
       "      <th>82</th>\n",
       "      <td>email_clk_fmt_h_l90d</td>\n",
       "      <td>0.054207</td>\n",
       "    </tr>\n",
       "    <tr>\n",
       "      <th>72</th>\n",
       "      <td>call_sales_count_90d</td>\n",
       "      <td>0.054060</td>\n",
       "    </tr>\n",
       "    <tr>\n",
       "      <th>19</th>\n",
       "      <td>svcs_days_since_most_recent_x1</td>\n",
       "      <td>0.042117</td>\n",
       "    </tr>\n",
       "    <tr>\n",
       "      <th>74</th>\n",
       "      <td>call_total_count_90d</td>\n",
       "      <td>0.040896</td>\n",
       "    </tr>\n",
       "    <tr>\n",
       "      <th>97</th>\n",
       "      <td>num_prod_site_visited</td>\n",
       "      <td>0.034354</td>\n",
       "    </tr>\n",
       "    <tr>\n",
       "      <th>84</th>\n",
       "      <td>wifi_total_gb</td>\n",
       "      <td>0.032924</td>\n",
       "    </tr>\n",
       "    <tr>\n",
       "      <th>12</th>\n",
       "      <td>svcs_hsd_days_on_books</td>\n",
       "      <td>0.030959</td>\n",
       "    </tr>\n",
       "    <tr>\n",
       "      <th>16</th>\n",
       "      <td>svcs_days_since_most_recent_hsd</td>\n",
       "      <td>0.028408</td>\n",
       "    </tr>\n",
       "    <tr>\n",
       "      <th>68</th>\n",
       "      <td>email_opn_anycom_l90d</td>\n",
       "      <td>0.019244</td>\n",
       "    </tr>\n",
       "    <tr>\n",
       "      <th>11</th>\n",
       "      <td>svcs_video_days_on_books</td>\n",
       "      <td>0.018121</td>\n",
       "    </tr>\n",
       "    <tr>\n",
       "      <th>49</th>\n",
       "      <td>expdemo_pscs_pct_wrst_status</td>\n",
       "      <td>0.015749</td>\n",
       "    </tr>\n",
       "    <tr>\n",
       "      <th>71</th>\n",
       "      <td>call_svc_count_90d</td>\n",
       "      <td>0.015622</td>\n",
       "    </tr>\n",
       "    <tr>\n",
       "      <th>15</th>\n",
       "      <td>svcs_days_since_most_recent_video</td>\n",
       "      <td>0.015416</td>\n",
       "    </tr>\n",
       "    <tr>\n",
       "      <th>5</th>\n",
       "      <td>offer_months_duration</td>\n",
       "      <td>0.015179</td>\n",
       "    </tr>\n",
       "    <tr>\n",
       "      <th>7</th>\n",
       "      <td>offer_prod_mix_name</td>\n",
       "      <td>0.014801</td>\n",
       "    </tr>\n",
       "    <tr>\n",
       "      <th>43</th>\n",
       "      <td>expdemo_consumer_median_fam_hh_income</td>\n",
       "      <td>0.013233</td>\n",
       "    </tr>\n",
       "    <tr>\n",
       "      <th>81</th>\n",
       "      <td>tts_total_tickets_dayssince</td>\n",
       "      <td>0.012761</td>\n",
       "    </tr>\n",
       "    <tr>\n",
       "      <th>48</th>\n",
       "      <td>expdemo_pscs_num_trade_delinq90_12mo</td>\n",
       "      <td>0.012168</td>\n",
       "    </tr>\n",
       "    <tr>\n",
       "      <th>67</th>\n",
       "      <td>expdemo_consumer_predict_amt_personal</td>\n",
       "      <td>0.011657</td>\n",
       "    </tr>\n",
       "    <tr>\n",
       "      <th>25</th>\n",
       "      <td>svcs_days_since_had_last_hsd</td>\n",
       "      <td>0.010735</td>\n",
       "    </tr>\n",
       "    <tr>\n",
       "      <th>80</th>\n",
       "      <td>tts_total_tickets_l90d</td>\n",
       "      <td>0.010493</td>\n",
       "    </tr>\n",
       "    <tr>\n",
       "      <th>77</th>\n",
       "      <td>vi_minsperacctdvrmin</td>\n",
       "      <td>0.010491</td>\n",
       "    </tr>\n",
       "    <tr>\n",
       "      <th>79</th>\n",
       "      <td>vi_minsperaccttotalmin</td>\n",
       "      <td>0.009566</td>\n",
       "    </tr>\n",
       "    <tr>\n",
       "      <th>75</th>\n",
       "      <td>vi_minsperacct</td>\n",
       "      <td>0.009214</td>\n",
       "    </tr>\n",
       "    <tr>\n",
       "      <th>89</th>\n",
       "      <td>hsd_avggb_weekday_90d</td>\n",
       "      <td>0.009047</td>\n",
       "    </tr>\n",
       "    <tr>\n",
       "      <th>52</th>\n",
       "      <td>expdemo_pscs_avg_credit_total_6mo</td>\n",
       "      <td>0.008780</td>\n",
       "    </tr>\n",
       "    <tr>\n",
       "      <th>6</th>\n",
       "      <td>mrc_net_offer_amt</td>\n",
       "      <td>0.008714</td>\n",
       "    </tr>\n",
       "    <tr>\n",
       "      <th>78</th>\n",
       "      <td>vi_minsperacctvodmin</td>\n",
       "      <td>0.007900</td>\n",
       "    </tr>\n",
       "    <tr>\n",
       "      <th>83</th>\n",
       "      <td>cdv_total_min</td>\n",
       "      <td>0.007809</td>\n",
       "    </tr>\n",
       "    <tr>\n",
       "      <th>...</th>\n",
       "      <td>...</td>\n",
       "      <td>...</td>\n",
       "    </tr>\n",
       "    <tr>\n",
       "      <th>93</th>\n",
       "      <td>hsd_latefringe_dn_l30d</td>\n",
       "      <td>0.005541</td>\n",
       "    </tr>\n",
       "    <tr>\n",
       "      <th>36</th>\n",
       "      <td>expdemo_consumer_networth</td>\n",
       "      <td>0.005337</td>\n",
       "    </tr>\n",
       "    <tr>\n",
       "      <th>4</th>\n",
       "      <td>cusacc_electronic_bill_ind</td>\n",
       "      <td>0.005185</td>\n",
       "    </tr>\n",
       "    <tr>\n",
       "      <th>66</th>\n",
       "      <td>expdemo_census_median_hh_income</td>\n",
       "      <td>0.005174</td>\n",
       "    </tr>\n",
       "    <tr>\n",
       "      <th>37</th>\n",
       "      <td>expdemo_consumer_pct_pop_white_only</td>\n",
       "      <td>0.005167</td>\n",
       "    </tr>\n",
       "    <tr>\n",
       "      <th>55</th>\n",
       "      <td>expdemo_census_pop_per_sq_mile</td>\n",
       "      <td>0.005027</td>\n",
       "    </tr>\n",
       "    <tr>\n",
       "      <th>98</th>\n",
       "      <td>total_mrc_amt_bin</td>\n",
       "      <td>0.005001</td>\n",
       "    </tr>\n",
       "    <tr>\n",
       "      <th>95</th>\n",
       "      <td>hsd_primetime_dn_l30d</td>\n",
       "      <td>0.004974</td>\n",
       "    </tr>\n",
       "    <tr>\n",
       "      <th>51</th>\n",
       "      <td>expdemo_pscs_avg_bcc_bal_6mo</td>\n",
       "      <td>0.004846</td>\n",
       "    </tr>\n",
       "    <tr>\n",
       "      <th>40</th>\n",
       "      <td>expdemo_consumer_pct_pop_hispanic</td>\n",
       "      <td>0.004794</td>\n",
       "    </tr>\n",
       "    <tr>\n",
       "      <th>17</th>\n",
       "      <td>svcs_days_since_most_recent_cdv</td>\n",
       "      <td>0.004656</td>\n",
       "    </tr>\n",
       "    <tr>\n",
       "      <th>53</th>\n",
       "      <td>expdemo_census_pop_age_3plus</td>\n",
       "      <td>0.004608</td>\n",
       "    </tr>\n",
       "    <tr>\n",
       "      <th>13</th>\n",
       "      <td>svcs_cdv_days_on_books</td>\n",
       "      <td>0.004599</td>\n",
       "    </tr>\n",
       "    <tr>\n",
       "      <th>50</th>\n",
       "      <td>expdemo_pscs_mos_since_trade</td>\n",
       "      <td>0.004587</td>\n",
       "    </tr>\n",
       "    <tr>\n",
       "      <th>54</th>\n",
       "      <td>expdemo_census_pop_age_15plus</td>\n",
       "      <td>0.004507</td>\n",
       "    </tr>\n",
       "    <tr>\n",
       "      <th>42</th>\n",
       "      <td>expdemo_consumer_ispsa_decile</td>\n",
       "      <td>0.004485</td>\n",
       "    </tr>\n",
       "    <tr>\n",
       "      <th>61</th>\n",
       "      <td>expdemo_census_pct_pop_white_only</td>\n",
       "      <td>0.004344</td>\n",
       "    </tr>\n",
       "    <tr>\n",
       "      <th>28</th>\n",
       "      <td>svcs_days_since_last_hd_service_ended</td>\n",
       "      <td>0.004294</td>\n",
       "    </tr>\n",
       "    <tr>\n",
       "      <th>0</th>\n",
       "      <td>videopenetrationrate</td>\n",
       "      <td>0.004282</td>\n",
       "    </tr>\n",
       "    <tr>\n",
       "      <th>65</th>\n",
       "      <td>expdemo_census_avg_hhsize</td>\n",
       "      <td>0.004262</td>\n",
       "    </tr>\n",
       "    <tr>\n",
       "      <th>64</th>\n",
       "      <td>expdemo_census_pct_pop_non_hispanic</td>\n",
       "      <td>0.004260</td>\n",
       "    </tr>\n",
       "    <tr>\n",
       "      <th>60</th>\n",
       "      <td>expdemo_census_pct_pop_age_18_65</td>\n",
       "      <td>0.004189</td>\n",
       "    </tr>\n",
       "    <tr>\n",
       "      <th>46</th>\n",
       "      <td>expdemo_pscs_trade_open_12mos</td>\n",
       "      <td>0.004175</td>\n",
       "    </tr>\n",
       "    <tr>\n",
       "      <th>62</th>\n",
       "      <td>expdemo_census_pct_pop_black_only</td>\n",
       "      <td>0.003810</td>\n",
       "    </tr>\n",
       "    <tr>\n",
       "      <th>56</th>\n",
       "      <td>expdemo_census_pct_pop_age_5_9</td>\n",
       "      <td>0.003718</td>\n",
       "    </tr>\n",
       "    <tr>\n",
       "      <th>63</th>\n",
       "      <td>expdemo_census_pct_pop_asian_only</td>\n",
       "      <td>0.003684</td>\n",
       "    </tr>\n",
       "    <tr>\n",
       "      <th>57</th>\n",
       "      <td>expdemo_census_pct_pop_age_10_13</td>\n",
       "      <td>0.003660</td>\n",
       "    </tr>\n",
       "    <tr>\n",
       "      <th>20</th>\n",
       "      <td>svcs_video_tier_name</td>\n",
       "      <td>0.003636</td>\n",
       "    </tr>\n",
       "    <tr>\n",
       "      <th>58</th>\n",
       "      <td>expdemo_census_pct_pop_age_14_17</td>\n",
       "      <td>0.003564</td>\n",
       "    </tr>\n",
       "    <tr>\n",
       "      <th>3</th>\n",
       "      <td>cusacc_current_region_name</td>\n",
       "      <td>0.003444</td>\n",
       "    </tr>\n",
       "  </tbody>\n",
       "</table>\n",
       "<p>75 rows × 2 columns</p>\n",
       "</div>"
      ],
      "text/plain": [
       "                                 Features     Score\n",
       "96           visited_digital_last_30_days  0.149405\n",
       "82                   email_clk_fmt_h_l90d  0.054207\n",
       "72                   call_sales_count_90d  0.054060\n",
       "19         svcs_days_since_most_recent_x1  0.042117\n",
       "74                   call_total_count_90d  0.040896\n",
       "97                  num_prod_site_visited  0.034354\n",
       "84                          wifi_total_gb  0.032924\n",
       "12                 svcs_hsd_days_on_books  0.030959\n",
       "16        svcs_days_since_most_recent_hsd  0.028408\n",
       "68                  email_opn_anycom_l90d  0.019244\n",
       "11               svcs_video_days_on_books  0.018121\n",
       "49           expdemo_pscs_pct_wrst_status  0.015749\n",
       "71                     call_svc_count_90d  0.015622\n",
       "15      svcs_days_since_most_recent_video  0.015416\n",
       "5                   offer_months_duration  0.015179\n",
       "7                     offer_prod_mix_name  0.014801\n",
       "43  expdemo_consumer_median_fam_hh_income  0.013233\n",
       "81            tts_total_tickets_dayssince  0.012761\n",
       "48   expdemo_pscs_num_trade_delinq90_12mo  0.012168\n",
       "67  expdemo_consumer_predict_amt_personal  0.011657\n",
       "25           svcs_days_since_had_last_hsd  0.010735\n",
       "80                 tts_total_tickets_l90d  0.010493\n",
       "77                   vi_minsperacctdvrmin  0.010491\n",
       "79                 vi_minsperaccttotalmin  0.009566\n",
       "75                         vi_minsperacct  0.009214\n",
       "89                  hsd_avggb_weekday_90d  0.009047\n",
       "52      expdemo_pscs_avg_credit_total_6mo  0.008780\n",
       "6                       mrc_net_offer_amt  0.008714\n",
       "78                   vi_minsperacctvodmin  0.007900\n",
       "83                          cdv_total_min  0.007809\n",
       "..                                    ...       ...\n",
       "93                 hsd_latefringe_dn_l30d  0.005541\n",
       "36              expdemo_consumer_networth  0.005337\n",
       "4              cusacc_electronic_bill_ind  0.005185\n",
       "66        expdemo_census_median_hh_income  0.005174\n",
       "37    expdemo_consumer_pct_pop_white_only  0.005167\n",
       "55         expdemo_census_pop_per_sq_mile  0.005027\n",
       "98                      total_mrc_amt_bin  0.005001\n",
       "95                  hsd_primetime_dn_l30d  0.004974\n",
       "51           expdemo_pscs_avg_bcc_bal_6mo  0.004846\n",
       "40      expdemo_consumer_pct_pop_hispanic  0.004794\n",
       "17        svcs_days_since_most_recent_cdv  0.004656\n",
       "53           expdemo_census_pop_age_3plus  0.004608\n",
       "13                 svcs_cdv_days_on_books  0.004599\n",
       "50           expdemo_pscs_mos_since_trade  0.004587\n",
       "54          expdemo_census_pop_age_15plus  0.004507\n",
       "42          expdemo_consumer_ispsa_decile  0.004485\n",
       "61      expdemo_census_pct_pop_white_only  0.004344\n",
       "28  svcs_days_since_last_hd_service_ended  0.004294\n",
       "0                    videopenetrationrate  0.004282\n",
       "65              expdemo_census_avg_hhsize  0.004262\n",
       "64    expdemo_census_pct_pop_non_hispanic  0.004260\n",
       "60       expdemo_census_pct_pop_age_18_65  0.004189\n",
       "46          expdemo_pscs_trade_open_12mos  0.004175\n",
       "62      expdemo_census_pct_pop_black_only  0.003810\n",
       "56         expdemo_census_pct_pop_age_5_9  0.003718\n",
       "63      expdemo_census_pct_pop_asian_only  0.003684\n",
       "57       expdemo_census_pct_pop_age_10_13  0.003660\n",
       "20                   svcs_video_tier_name  0.003636\n",
       "58       expdemo_census_pct_pop_age_14_17  0.003564\n",
       "3              cusacc_current_region_name  0.003444\n",
       "\n",
       "[75 rows x 2 columns]"
      ]
     },
     "execution_count": 245,
     "metadata": {},
     "output_type": "execute_result"
    }
   ],
   "source": [
    " #Importance of Features\n",
    "Importance = list(zip(dfX_train, random_forest.feature_importances_))\n",
    "I = pd.DataFrame(Importance)\n",
    "I = I.rename(columns = {0: \"Features\", 1: \"Score\"})\n",
    "I = I.sort_values('Score', ascending=False)\n",
    "#Printing the Important variables\n",
    "I.head(75)"
   ]
  },
  {
   "cell_type": "code",
   "execution_count": 246,
   "metadata": {},
   "outputs": [],
   "source": [
    "#TopFeatures = list(I[(I['Score']>0.01)].Features)\n",
    "TopFeatures = ['visited_digital_last_30_days','number_of_products','total_mrc_amt_bin',\n",
    "                  'demo_children_num_hh','num_prod_site_visited','svcs_hsd_tier_name',\n",
    "                  'email_clk_fmt_h_l90d','call_sales_count_90d','wifi_total_gb','email_opn_anycom_l90d']"
   ]
  },
  {
   "cell_type": "code",
   "execution_count": 247,
   "metadata": {},
   "outputs": [
    {
     "name": "stderr",
     "output_type": "stream",
     "text": [
      "C:\\Users\\dkim207\\AppData\\Local\\Continuum\\anaconda3\\envs\\py3\\lib\\site-packages\\ipykernel_launcher.py:13: DataConversionWarning: A column-vector y was passed when a 1d array was expected. Please change the shape of y to (n_samples,), for example using ravel().\n",
      "  del sys.path[0]\n"
     ]
    },
    {
     "name": "stdout",
     "output_type": "stream",
     "text": [
      "62.94 %\n",
      "62.12 %\n"
     ]
    }
   ],
   "source": [
    "# Train again with top features\n",
    "# Random Forest w top features\n",
    "dfX_train_top = dfX_train[TopFeatures]\n",
    "dfX_test_top = dfX_test[TopFeatures]\n",
    "X_train_top = dfX_train_top.values \n",
    "X_test_top = dfX_test_top.values\n",
    "\n",
    "random_forest_top = RandomForestClassifier(n_estimators=200, random_state=1, \n",
    "                                       max_depth=10, \n",
    "                                       min_samples_leaf = 4,\n",
    "                                       min_samples_split = 10,\n",
    "                                       n_jobs=-1)\n",
    "random_forest_top.fit(X_train_top, y_train)\n",
    "Y_prediction_top = random_forest_top.predict(X_test_top)\n",
    "Y_prediction_top_train = random_forest_top.predict(X_train_top)\n",
    "random_forest_top.score(X_train_top, y_train)\n",
    "\n",
    "acc_random_forest_top = round(random_forest_top.score(X_train_top, y_train) * 100, 2)\n",
    "print(round(acc_random_forest_top,2,), \"%\")\n",
    "\n",
    "acc_random_forest_top_test = round(random_forest_top.score(X_test_top, y_test) * 100, 2)\n",
    "print(round(acc_random_forest_top_test,2,), \"%\")"
   ]
  },
  {
   "cell_type": "code",
   "execution_count": null,
   "metadata": {},
   "outputs": [],
   "source": [
    "param_grid = { \"criterion\" : [\"gini\", \"entropy\"], \"min_samples_leaf\" : [1, 5, 10, 25, 50, 70], \"min_samples_split\" : [2, 4, 10, 12, 16, 18, 25, 35], \"n_estimators\": [100]}\n",
    "\n",
    "from sklearn.model_selection import GridSearchCV, cross_val_score"
   ]
  },
  {
   "cell_type": "code",
   "execution_count": null,
   "metadata": {
    "collapsed": true
   },
   "outputs": [],
   "source": [
    "rf = RandomForestClassifier(n_estimators=100, max_features='auto', oob_score=True, random_state=1, n_jobs=-1)"
   ]
  },
  {
   "cell_type": "code",
   "execution_count": null,
   "metadata": {
    "collapsed": true
   },
   "outputs": [],
   "source": [
    "clf = GridSearchCV(estimator=rf, param_grid=param_grid, n_jobs=-1)"
   ]
  },
  {
   "cell_type": "code",
   "execution_count": null,
   "metadata": {},
   "outputs": [],
   "source": [
    "clf.fit(X_train_top, y_train_reshape)"
   ]
  },
  {
   "cell_type": "code",
   "execution_count": null,
   "metadata": {
    "collapsed": true
   },
   "outputs": [],
   "source": [
    "clf.best_params_"
   ]
  },
  {
   "cell_type": "code",
   "execution_count": 123,
   "metadata": {},
   "outputs": [
    {
     "name": "stderr",
     "output_type": "stream",
     "text": [
      "C:\\Users\\dkim207\\AppData\\Local\\Continuum\\anaconda3\\envs\\py3\\lib\\site-packages\\ipykernel_launcher.py:13: DataConversionWarning: A column-vector y was passed when a 1d array was expected. Please change the shape of y to (n_samples,), for example using ravel().\n",
      "  del sys.path[0]\n"
     ]
    },
    {
     "name": "stdout",
     "output_type": "stream",
     "text": [
      "oob score: 63.85999999999999 %\n"
     ]
    }
   ],
   "source": [
    "#Test with different parameters to improve accuracy\n",
    "# Random Forest\n",
    "random_forest_param = RandomForestClassifier(n_estimators=150, random_state=1, max_depth=10, min_samples_leaf=5, bootstrap=True,\n",
    "                                            n_jobs=-1)\n",
    "                                        #, min_samples_split=10, min_samples_leaf=1\n",
    "\n",
    "random_forest_param.fit(X_train, y_train)\n",
    "Y_prediction_param = random_forest_param.predict(X_test)\n",
    "\n",
    "random_forest_param.score(X_train, y_train)\n",
    "\n",
    "print(\"oob score:\", round(random_forest_param.oob_score_, 4)*100, \"%\")"
   ]
  },
  {
   "cell_type": "code",
   "execution_count": 102,
   "metadata": {},
   "outputs": [],
   "source": [
    "Y_prediction_param_train = random_forest_param.predict(X_train)"
   ]
  },
  {
   "cell_type": "code",
   "execution_count": 124,
   "metadata": {},
   "outputs": [
    {
     "name": "stdout",
     "output_type": "stream",
     "text": [
      "99.59 %\n"
     ]
    }
   ],
   "source": [
    "acc_random_forest_param = round(random_forest_param.score(X_train, y_train) * 100, 2)\n",
    "print(round(acc_random_forest_param,2,), \"%\")"
   ]
  },
  {
   "cell_type": "code",
   "execution_count": 248,
   "metadata": {},
   "outputs": [
    {
     "data": {
      "text/plain": [
       "array([[47365, 20404],\n",
       "       [27471, 40123]], dtype=int64)"
      ]
     },
     "execution_count": 248,
     "metadata": {},
     "output_type": "execute_result"
    }
   ],
   "source": [
    "#Confusion Matrix\n",
    "from sklearn.model_selection import cross_val_predict\n",
    "from sklearn.metrics import confusion_matrix\n",
    "predictions = cross_val_predict(random_forest, X_train, y_train_reshape, cv=3, n_jobs=-1)\n",
    "confusion_matrix(y_train_reshape, predictions)"
   ]
  },
  {
   "cell_type": "code",
   "execution_count": 257,
   "metadata": {},
   "outputs": [
    {
     "data": {
      "text/plain": [
       "array([[48804, 18965],\n",
       "       [32049, 35545]], dtype=int64)"
      ]
     },
     "execution_count": 257,
     "metadata": {},
     "output_type": "execute_result"
    }
   ],
   "source": [
    "#Confusion Matrix\n",
    "from sklearn.model_selection import cross_val_predict\n",
    "from sklearn.metrics import confusion_matrix\n",
    "predictions_top = cross_val_predict(random_forest_top, X_train_top, y_train_reshape, cv=3, n_jobs=-1)\n",
    "confusion_matrix(y_train_reshape, predictions_top)"
   ]
  },
  {
   "cell_type": "code",
   "execution_count": 272,
   "metadata": {},
   "outputs": [
    {
     "data": {
      "text/html": [
       "<div>\n",
       "<style scoped>\n",
       "    .dataframe tbody tr th:only-of-type {\n",
       "        vertical-align: middle;\n",
       "    }\n",
       "\n",
       "    .dataframe tbody tr th {\n",
       "        vertical-align: top;\n",
       "    }\n",
       "\n",
       "    .dataframe thead th {\n",
       "        text-align: right;\n",
       "    }\n",
       "</style>\n",
       "<table border=\"1\" class=\"dataframe\">\n",
       "  <thead>\n",
       "    <tr style=\"text-align: right;\">\n",
       "      <th></th>\n",
       "      <th>0</th>\n",
       "      <th>1</th>\n",
       "    </tr>\n",
       "  </thead>\n",
       "  <tbody>\n",
       "    <tr>\n",
       "      <th>0</th>\n",
       "      <td>50532</td>\n",
       "      <td>17237</td>\n",
       "    </tr>\n",
       "    <tr>\n",
       "      <th>1</th>\n",
       "      <td>25493</td>\n",
       "      <td>42101</td>\n",
       "    </tr>\n",
       "  </tbody>\n",
       "</table>\n",
       "</div>"
      ],
      "text/plain": [
       "       0      1\n",
       "0  50532  17237\n",
       "1  25493  42101"
      ]
     },
     "execution_count": 272,
     "metadata": {},
     "output_type": "execute_result"
    }
   ],
   "source": [
    "#Confusion Matrix Training\n",
    "from sklearn.metrics import confusion_matrix\n",
    "confusion_matrix_train = confusion_matrix(y_train, Y_prediction_train)\n",
    "pd.DataFrame(confusion_matrix_train)"
   ]
  },
  {
   "cell_type": "code",
   "execution_count": 273,
   "metadata": {},
   "outputs": [
    {
     "data": {
      "text/html": [
       "<div>\n",
       "<style scoped>\n",
       "    .dataframe tbody tr th:only-of-type {\n",
       "        vertical-align: middle;\n",
       "    }\n",
       "\n",
       "    .dataframe tbody tr th {\n",
       "        vertical-align: top;\n",
       "    }\n",
       "\n",
       "    .dataframe thead th {\n",
       "        text-align: right;\n",
       "    }\n",
       "</style>\n",
       "<table border=\"1\" class=\"dataframe\">\n",
       "  <thead>\n",
       "    <tr style=\"text-align: right;\">\n",
       "      <th></th>\n",
       "      <th>0</th>\n",
       "      <th>1</th>\n",
       "    </tr>\n",
       "  </thead>\n",
       "  <tbody>\n",
       "    <tr>\n",
       "      <th>0</th>\n",
       "      <td>11872</td>\n",
       "      <td>4961</td>\n",
       "    </tr>\n",
       "    <tr>\n",
       "      <th>1</th>\n",
       "      <td>6857</td>\n",
       "      <td>10151</td>\n",
       "    </tr>\n",
       "  </tbody>\n",
       "</table>\n",
       "</div>"
      ],
      "text/plain": [
       "       0      1\n",
       "0  11872   4961\n",
       "1   6857  10151"
      ]
     },
     "execution_count": 273,
     "metadata": {},
     "output_type": "execute_result"
    }
   ],
   "source": [
    "#Confusion Matrix Test\n",
    "from sklearn.metrics import confusion_matrix\n",
    "confusion_matrix_test = confusion_matrix(y_test, Y_prediction)\n",
    "pd.DataFrame(confusion_matrix_test)"
   ]
  },
  {
   "cell_type": "markdown",
   "metadata": {},
   "source": [
    "The first row is about the no-XM-predictions: **49.5K customers were correctly classified as no XM** (called true negatives)  and **18.2K where wrongly classified as no XM** (false negatives).\n",
    "\n",
    "The second row is about the XM-predictions: **24K customers where wrongly classified as XM** (false positives) and **43.5K where correctly classified as XM** (true positives)."
   ]
  },
  {
   "cell_type": "code",
   "execution_count": 253,
   "metadata": {},
   "outputs": [
    {
     "name": "stdout",
     "output_type": "stream",
     "text": [
      "Recall: 0.6228511406337841\n",
      "Precision: 0.7095116114462907\n"
     ]
    }
   ],
   "source": [
    "#Check Precision and Recall\n",
    "from sklearn.metrics import precision_score, recall_score\n",
    "rec=recall_score(y_train,Y_prediction_train)\n",
    "pres=precision_score(y_train,Y_prediction_train)\n",
    "print ('Recall:', rec)\n",
    "print ('Precision:', pres)"
   ]
  },
  {
   "cell_type": "code",
   "execution_count": 254,
   "metadata": {},
   "outputs": [
    {
     "name": "stdout",
     "output_type": "stream",
     "text": [
      "Recall: 0.5968367826904986\n",
      "Precision: 0.6717178401270514\n"
     ]
    }
   ],
   "source": [
    "#Testing\n",
    "rec=recall_score(y_test,Y_prediction)\n",
    "pres=precision_score(y_test,Y_prediction)\n",
    "print ('Recall:', rec)\n",
    "print ('Precision:', pres)"
   ]
  },
  {
   "cell_type": "code",
   "execution_count": 255,
   "metadata": {},
   "outputs": [
    {
     "name": "stdout",
     "output_type": "stream",
     "text": [
      "Precision: 0.6628942455433112\n",
      "Recall: 0.5935881883007368\n"
     ]
    }
   ],
   "source": [
    "from sklearn.metrics import precision_score, recall_score\n",
    "\n",
    "print(\"Precision:\", precision_score(y_train, predictions))\n",
    "print(\"Recall:\",recall_score(y_train, predictions))"
   ]
  },
  {
   "cell_type": "markdown",
   "metadata": {},
   "source": [
    "Our model predicts 65.4% of the time, a customer's XM attach correctly (precision). The recall tells us that it predicted the XM attach of 62.2% of the people who actually attached. "
   ]
  },
  {
   "cell_type": "code",
   "execution_count": 256,
   "metadata": {},
   "outputs": [
    {
     "data": {
      "text/plain": [
       "0.6263297976131939"
      ]
     },
     "execution_count": 256,
     "metadata": {},
     "output_type": "execute_result"
    }
   ],
   "source": [
    "#F Score\n",
    "from sklearn.metrics import f1_score\n",
    "f1_score(y_train, predictions)"
   ]
  },
  {
   "cell_type": "markdown",
   "metadata": {},
   "source": [
    "F Score is a combination of Precision and Recall"
   ]
  },
  {
   "cell_type": "code",
   "execution_count": 258,
   "metadata": {},
   "outputs": [],
   "source": [
    "# Precision Recall Curve\n",
    "from sklearn.metrics import precision_recall_curve\n",
    "\n",
    "# getting the probabilities of our predictions\n",
    "y_scores = random_forest.predict_proba(X_train)\n",
    "y_scores = y_scores[:,1]\n",
    "\n",
    "precision, recall, threshold = precision_recall_curve(y_train, y_scores)"
   ]
  },
  {
   "cell_type": "code",
   "execution_count": 259,
   "metadata": {},
   "outputs": [
    {
     "data": {
      "image/png": "[encoded data removed]",
      "text/plain": [
       "<Figure size 1008x504 with 1 Axes>"
      ]
     },
     "metadata": {},
     "output_type": "display_data"
    }
   ],
   "source": [
    "def plot_precision_and_recall(precision, recall, threshold):\n",
    "    plt.plot(threshold, precision[:-1], \"r-\", label=\"precision\", linewidth=5)\n",
    "    plt.plot(threshold, recall[:-1], \"b\", label=\"recall\", linewidth=5)\n",
    "    plt.xlabel(\"threshold\", fontsize=19)\n",
    "    plt.legend(loc=\"upper right\", fontsize=19)\n",
    "    plt.ylim([0, 1])\n",
    "\n",
    "plt.figure(figsize=(14, 7))\n",
    "plot_precision_and_recall(precision, recall, threshold)\n",
    "plt.show()"
   ]
  },
  {
   "cell_type": "markdown",
   "metadata": {},
   "source": [
    "Above you can clearly see that the recall is falling of rapidly at a precision of around 65%.  Because of that you may want to select the precision/recall tradeoff before that - maybe at around 60 %.\n",
    "\n",
    "You are now able to choose a threshold, that gives you the best precision/recall tradeoff for your current machine learning problem. If you want for example a precision of 80%, you can easily look at the plots and see that you would need a threshold of around 0.4.  Then you could train a model with exactly that threshold and would get the desired accuracy.\n",
    "\n",
    "\n",
    "Another way is to plot the precision and recall against each other:"
   ]
  },
  {
   "cell_type": "code",
   "execution_count": 260,
   "metadata": {},
   "outputs": [
    {
     "data": {
      "image/png": "[encoded data removed]",
      "text/plain": [
       "<Figure size 1008x504 with 1 Axes>"
      ]
     },
     "metadata": {},
     "output_type": "display_data"
    }
   ],
   "source": [
    "def plot_precision_vs_recall(precision, recall):\n",
    "    plt.plot(recall, precision, \"g--\", linewidth=2.5)\n",
    "    plt.ylabel(\"recall\", fontsize=19)\n",
    "    plt.xlabel(\"precision\", fontsize=19)\n",
    "    plt.axis([0, 1.5, 0, 1.5])\n",
    "\n",
    "plt.figure(figsize=(14, 7))\n",
    "plot_precision_vs_recall(precision, recall)\n",
    "plt.show()"
   ]
  },
  {
   "cell_type": "code",
   "execution_count": 261,
   "metadata": {},
   "outputs": [],
   "source": [
    "#ROC AUC Curve\n",
    "from sklearn.metrics import roc_curve, auc\n",
    "# compute true positive rate and false positive rate\n",
    "false_positive_rate, true_positive_rate, thresholds = roc_curve(y_train, y_scores)"
   ]
  },
  {
   "cell_type": "code",
   "execution_count": 262,
   "metadata": {},
   "outputs": [
    {
     "data": {
      "image/png": "[encoded data removed]",
      "text/plain": [
       "<Figure size 1008x504 with 1 Axes>"
      ]
     },
     "metadata": {},
     "output_type": "display_data"
    }
   ],
   "source": [
    "# plotting them against each other\n",
    "def plot_roc_curve(false_positive_rate, true_positive_rate, label=None):\n",
    "    plt.plot(false_positive_rate, true_positive_rate, linewidth=2, label=label)\n",
    "    plt.plot([0, 1], [0, 1], 'r', linewidth=4)\n",
    "    plt.axis([0, 1, 0, 1])\n",
    "    plt.xlabel('False Positive Rate (FPR)', fontsize=16)\n",
    "    plt.ylabel('True Positive Rate (TPR)', fontsize=16)\n",
    "\n",
    "plt.figure(figsize=(14, 7))\n",
    "plot_roc_curve(false_positive_rate, true_positive_rate)\n",
    "plt.show()"
   ]
  },
  {
   "cell_type": "code",
   "execution_count": 263,
   "metadata": {},
   "outputs": [
    {
     "name": "stdout",
     "output_type": "stream",
     "text": [
      "ROC-AUC-Score: 0.7530823574422565\n"
     ]
    }
   ],
   "source": [
    "from sklearn.metrics import roc_auc_score\n",
    "r_a_score = roc_auc_score(y_train, y_scores)\n",
    "print(\"ROC-AUC-Score:\", r_a_score)"
   ]
  },
  {
   "cell_type": "code",
   "execution_count": 264,
   "metadata": {},
   "outputs": [],
   "source": [
    "# Precision Recall Curve\n",
    "from sklearn.metrics import precision_recall_curve\n",
    "\n",
    "# getting the probabilities of our predictions\n",
    "y_test_scores = random_forest.predict_proba(X_test)\n",
    "y_test_scores = y_test_scores[:,1]\n",
    "\n",
    "precision, recall, threshold = precision_recall_curve(y_test, y_test_scores)"
   ]
  },
  {
   "cell_type": "code",
   "execution_count": 265,
   "metadata": {},
   "outputs": [],
   "source": [
    "#ROC AUC Curve\n",
    "from sklearn.metrics import roc_curve, auc\n",
    "# compute true positive rate and false positive rate\n",
    "false_positive_rate, true_positive_rate, thresholds = roc_curve(y_test, y_test_scores)"
   ]
  },
  {
   "cell_type": "code",
   "execution_count": 266,
   "metadata": {},
   "outputs": [
    {
     "data": {
      "image/png": "[encoded data removed]",
      "text/plain": [
       "<Figure size 1008x504 with 1 Axes>"
      ]
     },
     "metadata": {},
     "output_type": "display_data"
    }
   ],
   "source": [
    "plt.figure(figsize=(14, 7))\n",
    "plot_roc_curve(false_positive_rate, true_positive_rate)\n",
    "plt.show()"
   ]
  },
  {
   "cell_type": "code",
   "execution_count": 267,
   "metadata": {},
   "outputs": [
    {
     "name": "stdout",
     "output_type": "stream",
     "text": [
      "ROC-AUC-Score: 0.7133342787894965\n"
     ]
    }
   ],
   "source": [
    "from sklearn.metrics import roc_auc_score\n",
    "r_a_score = roc_auc_score(y_test, y_test_scores)\n",
    "print(\"ROC-AUC-Score:\", r_a_score)"
   ]
  },
  {
   "cell_type": "code",
   "execution_count": 268,
   "metadata": {},
   "outputs": [],
   "source": [
    "def Performance(Model,Y,X):\n",
    "    # Perforamnce of the model\n",
    "    fpr, tpr, _ = roc_curve(Y, Model.predict_proba(X)[:,1])\n",
    "    AUC  = auc(fpr, tpr)\n",
    "    print ('the AUC is : %0.4f' %  AUC)\n",
    "    plt.figure()\n",
    "    plt.plot(fpr, tpr, label='ROC curve (area = %0.4f)' % AUC)\n",
    "    plt.plot([0, 1], [0, 1], 'k--')\n",
    "    plt.xlim([0.0, 1.0])\n",
    "    plt.ylim([0.0, 1.05])\n",
    "    plt.xlabel('False Positive Rate')\n",
    "    plt.ylabel('True Positive Rate')\n",
    "    plt.title('ROC Curve')\n",
    "    plt.legend(loc=\"lower right\")\n",
    "    plt.show()"
   ]
  },
  {
   "cell_type": "code",
   "execution_count": 269,
   "metadata": {},
   "outputs": [
    {
     "name": "stdout",
     "output_type": "stream",
     "text": [
      "the AUC is : 0.7531\n"
     ]
    },
    {
     "data": {
      "image/png": "[encoded data removed]",
      "text/plain": [
       "<Figure size 432x288 with 1 Axes>"
      ]
     },
     "metadata": {},
     "output_type": "display_data"
    }
   ],
   "source": [
    "Performance(Model=random_forest,Y=y_train,X=X_train)"
   ]
  },
  {
   "cell_type": "code",
   "execution_count": 270,
   "metadata": {},
   "outputs": [
    {
     "name": "stdout",
     "output_type": "stream",
     "text": [
      "the AUC is : 0.7133\n"
     ]
    },
    {
     "data": {
      "image/png": "[encoded data removed]",
      "text/plain": [
       "<Figure size 432x288 with 1 Axes>"
      ]
     },
     "metadata": {},
     "output_type": "display_data"
    }
   ],
   "source": [
    "Performance(Model=random_forest,Y=y_test,X=X_test)"
   ]
  },
  {
   "cell_type": "code",
   "execution_count": null,
   "metadata": {
    "collapsed": true
   },
   "outputs": [],
   "source": []
  }
 ],
 "metadata": {
  "kernelspec": {
   "display_name": "Python 3 (ipykernel)",
   "language": "python",
   "name": "python3"
  },
  "language_info": {
   "codemirror_mode": {
    "name": "ipython",
    "version": 3
   },
   "file_extension": ".py",
   "mimetype": "text/x-python",
   "name": "python",
   "nbconvert_exporter": "python",
   "pygments_lexer": "ipython3",
   "version": "3.8.13"
  }
 },
 "nbformat": 4,
 "nbformat_minor": 2
}
